{
  "nbformat": 4,
  "nbformat_minor": 0,
  "metadata": {
    "colab": {
      "name": "TP3-2C-2021-parte-2.ipynb",
      "provenance": [],
      "collapsed_sections": [
        "FrKngFDmRYb3",
        "dxrMATPOIWbV"
      ]
    },
    "kernelspec": {
      "display_name": "Python 3",
      "language": "python",
      "name": "python3"
    },
    "language_info": {
      "codemirror_mode": {
        "name": "ipython",
        "version": 3
      },
      "file_extension": ".py",
      "mimetype": "text/x-python",
      "name": "python",
      "nbconvert_exporter": "python",
      "pygments_lexer": "ipython3",
      "version": "3.8.2"
    }
  },
  "cells": [
    {
      "cell_type": "markdown",
      "metadata": {
        "id": "FrKngFDmRYb3"
      },
      "source": [
        "# TP3 Alejandro balladares 101118"
      ]
    },
    {
      "cell_type": "code",
      "metadata": {
        "id": "mQDwnOebRYb5"
      },
      "source": [
        "import pandas as pd\n",
        "import numpy as np\n",
        "\n",
        "import matplotlib.pyplot as plt\n",
        "import seaborn as sns\n",
        "\n",
        "%matplotlib inline\n",
        "\n",
        "plt.style.use('default')\n",
        "plt.rcParams['figure.figsize'] = (20, 10)\n",
        "sns.set(style=\"whitegrid\") \n",
        "\n",
        "pd.options.display.float_format = '{:20,.2f}'.format \n",
        "\n",
        "import warnings\n",
        "warnings.filterwarnings('ignore')\n",
        "\n",
        "from IPython.display import display\n",
        "pd.options.display.max_columns = None\n"
      ],
      "execution_count": 1,
      "outputs": []
    },
    {
      "cell_type": "code",
      "metadata": {
        "id": "lWuJC79eO79n"
      },
      "source": [
        "from pydrive.auth import GoogleAuth\n",
        "from pydrive.drive import GoogleDrive\n",
        "from google.colab import auth\n",
        "from oauth2client.client import GoogleCredentials"
      ],
      "execution_count": 2,
      "outputs": []
    },
    {
      "cell_type": "code",
      "metadata": {
        "id": "RhORHjivO_ko"
      },
      "source": [
        "auth.authenticate_user()\n",
        "gauth = GoogleAuth()\n",
        "gauth.credentials = GoogleCredentials.get_application_default()\n",
        "drive = GoogleDrive(gauth)"
      ],
      "execution_count": 3,
      "outputs": []
    },
    {
      "cell_type": "code",
      "metadata": {
        "id": "_fYkUgGzJ7aS"
      },
      "source": [
        "#1Jd247D2BPj4ry7kpzK71fMtnyzOYa9M_\n",
        "id_train_identity = '1Jd247D2BPj4ry7kpzK71fMtnyzOYa9M_'\n",
        "downloaded = drive.CreateFile({'id': id_train_identity})\n",
        "downloaded.GetContentFile('train_identity.csv')\n",
        "\n",
        "df_train_identity = pd.read_csv('train_identity.csv')\n",
        "#df_train_identity.head().T"
      ],
      "execution_count": 4,
      "outputs": []
    },
    {
      "cell_type": "code",
      "metadata": {
        "id": "rmuG7MS9J7me"
      },
      "source": [
        "#\"1ToBfhZrshAHYsrW3FXVPxuPT-Vm5-8NB\"\n",
        "\n",
        "id_train_transaction = '1ToBfhZrshAHYsrW3FXVPxuPT-Vm5-8NB'\n",
        "downloaded = drive.CreateFile({'id': id_train_transaction})\n",
        "downloaded.GetContentFile('train_transaction.csv')\n",
        "\n",
        "df_train_transaction = pd.read_csv('train_transaction.csv')\n",
        "#df_train_transaction.head().T"
      ],
      "execution_count": 5,
      "outputs": []
    },
    {
      "cell_type": "markdown",
      "metadata": {
        "id": "ofUd71iGKpM_"
      },
      "source": [
        "# Parte II: Machine Learning Baseline (4 puntos)\n",
        "\n",
        "Vamos a construir un modelo muy sencillo para saber qué es lo peor que podemos hacer,\n",
        "en general esta es una tarea muy importante que queremos que repitan en sus proyectos\n",
        "de machine learning. ¿Por qué?\n",
        "\n",
        "● Navaja de Ockam: “Cuando se ofrecen dos o más explicaciones de un fenómeno, es\n",
        "preferible la explicación completa más simple; es decir, no deben multiplicarse las\n",
        "entidades sin necesidad.” ¿Para qué desarrollar un modelo super complejo si capaz\n",
        "es peor o casi igual que uno muy sencillo?\n",
        "\n",
        "● Nos sirve para saber si estamos usando bien los modelos más complejos, si su\n",
        "score nos da peor al baseline probablemente se deba a un error de código.\n",
        "\n",
        "● Nos sirve para rápidamente saber que tan complejo es un problema.\n",
        "\n",
        "● Los modelos simples son fáciles de entender.\n",
        "\n",
        "Utilice todos las columnas del dataset (exceptuando ids únicos) con algún encoding\n",
        "donde sea necesario para entrenar una regresión logística y utilizando búsqueda de\n",
        "hiperparametros y garantizando la reproducibilidad de los resultados cuando el notebook\n",
        "corriera varias veces. Conteste las preguntas:\n",
        "\n",
        "● ¿Cuál es el mejor score de validación obtenido? (¿Cómo conviene obtener el\n",
        "dataset para validar?)\n",
        "\n",
        "● Al predecir con este modelo para la competencia, ¿Cúal es el score obtenido?\n",
        "(guardar el csv con predicciones para entregarlo después)\n",
        "\n",
        "● ¿Qué features son los más importantes para predecir con el mejor modelo? Graficar.\n"
      ]
    },
    {
      "cell_type": "markdown",
      "metadata": {
        "id": "kwCi8Kjm7WO_"
      },
      "source": [
        "# Criterios de correción\n",
        "\n",
        "Parte II\n",
        "Vamos a corregir los siguientes puntos (no pueden restar más de 4 en total):\n",
        "\n",
        "● Utiliza mal los datos de validación ya sea para obtener el resultado o para buscar\n",
        "hiper parámetros (-4 puntos), ejemplos: calcular el score con otras labels, calcular el\n",
        "AUC-ROC usando la predicción binaria y no la probabilidad, el set de validación se\n",
        "usa para elegir los parámetros pero también está dentro del entrenamiento de cada\n",
        "modelo, etc.\n",
        "\n",
        "● El modelo no está bien hecho (-4 puntos), ejemplo: entrenan con las labels o datos\n",
        "cambiados para algunas filas\n",
        "\n",
        "● No es capaz de predecir para la competencia o no lo hace correctamente (-4 puntos)\n",
        "\n",
        "● No es reproducible (-2 puntos)\n",
        "\n",
        "● No obtiene bien los features más importantes (-2 puntos)\n",
        "\n",
        "● La predicción en la competencia da menos de 0.5 (-2 puntos)\n",
        "\n",
        "● La predicción para la competencia tiene errores (-1 punto)\n",
        "\n",
        "● No utiliza todos los features (-1 punto)"
      ]
    },
    {
      "cell_type": "code",
      "metadata": {
        "id": "bdcVmfM2VUxu",
        "colab": {
          "base_uri": "https://localhost:8080/"
        },
        "outputId": "5ad48eb8-8a69-495f-9586-e48da04c1186"
      },
      "source": [
        "!pip install category_encoders"
      ],
      "execution_count": 6,
      "outputs": [
        {
          "output_type": "stream",
          "name": "stdout",
          "text": [
            "Requirement already satisfied: category_encoders in /usr/local/lib/python3.7/dist-packages (2.3.0)\n",
            "Requirement already satisfied: pandas>=0.21.1 in /usr/local/lib/python3.7/dist-packages (from category_encoders) (1.1.5)\n",
            "Requirement already satisfied: numpy>=1.14.0 in /usr/local/lib/python3.7/dist-packages (from category_encoders) (1.19.5)\n",
            "Requirement already satisfied: scipy>=1.0.0 in /usr/local/lib/python3.7/dist-packages (from category_encoders) (1.4.1)\n",
            "Requirement already satisfied: scikit-learn>=0.20.0 in /usr/local/lib/python3.7/dist-packages (from category_encoders) (1.0.1)\n",
            "Requirement already satisfied: statsmodels>=0.9.0 in /usr/local/lib/python3.7/dist-packages (from category_encoders) (0.10.2)\n",
            "Requirement already satisfied: patsy>=0.5.1 in /usr/local/lib/python3.7/dist-packages (from category_encoders) (0.5.2)\n",
            "Requirement already satisfied: python-dateutil>=2.7.3 in /usr/local/lib/python3.7/dist-packages (from pandas>=0.21.1->category_encoders) (2.8.2)\n",
            "Requirement already satisfied: pytz>=2017.2 in /usr/local/lib/python3.7/dist-packages (from pandas>=0.21.1->category_encoders) (2018.9)\n",
            "Requirement already satisfied: six in /usr/local/lib/python3.7/dist-packages (from patsy>=0.5.1->category_encoders) (1.15.0)\n",
            "Requirement already satisfied: joblib>=0.11 in /usr/local/lib/python3.7/dist-packages (from scikit-learn>=0.20.0->category_encoders) (1.1.0)\n",
            "Requirement already satisfied: threadpoolctl>=2.0.0 in /usr/local/lib/python3.7/dist-packages (from scikit-learn>=0.20.0->category_encoders) (3.0.0)\n"
          ]
        }
      ]
    },
    {
      "cell_type": "code",
      "metadata": {
        "id": "cAl2iZMhCb9Y"
      },
      "source": [
        "from sklearn.linear_model import LogisticRegression\n",
        "from sklearn.metrics import classification_report, accuracy_score, roc_auc_score, ConfusionMatrixDisplay, confusion_matrix\n",
        "from sklearn.model_selection import cross_val_score\n",
        "from sklearn.model_selection import KFold\n",
        "from sklearn.model_selection import RandomizedSearchCV\n",
        "from scipy.stats import uniform\n",
        "\n",
        "#from sklearn.preprocessing import OneHotEncoder\n",
        "#from sklearn.preprocessing import LabelEncoder\n",
        "import category_encoders as ce\n"
      ],
      "execution_count": 7,
      "outputs": []
    },
    {
      "cell_type": "code",
      "metadata": {
        "id": "-dEgXQ9fGGYY"
      },
      "source": [
        "df_train = pd.merge(df_train_identity, df_train_transaction, how='outer',on='TransactionID')\n",
        "\n",
        "del df_train_identity\n",
        "del df_train_transaction"
      ],
      "execution_count": 8,
      "outputs": []
    },
    {
      "cell_type": "code",
      "metadata": {
        "id": "qcyU2Q_ft2U1",
        "colab": {
          "base_uri": "https://localhost:8080/"
        },
        "outputId": "fed9b6e5-ada3-4b4e-a357-f0a984832168"
      },
      "source": [
        "#TransactionDT: timedelta from a given reference datetime (not an actual timestamp)\n",
        "#TransactionAMT: transaction payment amount in USD\n",
        "#ProductCD: product code, the product for each transaction\n",
        "#card1 - card6: payment card information, such as card type, card category, issue bank, country, etc.\n",
        "#addr: address\n",
        "#dist: distance\n",
        "#P_ and (R__) emaildomain: purchaser and recipient email domain\n",
        "#C1-C14: counting, such as how many addresses are found to be associated with the payment card, etc. The actual meaning is masked.\n",
        "#D1-D15: timedelta, such as days between previous transaction, etc.\n",
        "#M1-M9: match, such as names on card and address, etc.\n",
        "#Vxxx: Vesta engineered rich features, including ranking, counting, and other entity relation\n",
        "\n",
        "columnas=['TransactionID', 'isFraud', 'TransactionDT', 'TransactionAmt',\n",
        "       'ProductCD', 'card1', 'card2', 'card3', 'card4', 'card5','card6', 'addr1', 'addr2', 'dist1', 'dist2', 'P_emaildomain',\n",
        "       'R_emaildomain', 'C1', 'C2', 'C3','C4', 'C5', 'C6', 'C7', 'C8', 'C9', 'C10', 'C11', 'C12', 'C13','C14',\n",
        "       'D1', 'D2', 'D3', 'D4', 'D5', 'D6', 'D7', 'D8', 'D9','D10', 'D11', 'D12', 'D13', 'D14', 'D15',\n",
        "       'M1', 'M2', 'M3', 'M4','M5', 'M6', 'M7', 'M8', 'M9',\n",
        "       'V1', 'V2', 'V3', 'V4', 'V5','V6', 'V7', 'V8', 'V9', 'V10',\n",
        "       'V11', 'V12', 'V13', 'V14', 'V15','V16', 'V17', 'V18', 'V19', 'V20', \n",
        "       'V21', 'V22', 'V23', 'V24', 'V25','V26', 'V27', 'V28', 'V29', 'V30', \n",
        "       'V31', 'V32', 'V33', 'V34', 'V35', 'V36', 'V37', 'V38', 'V39', 'V40', \n",
        "       'V41', 'V42', 'V43', 'V44', 'V45', 'V46', 'V47', 'V48', 'V49', 'V50', \n",
        "       'V51', 'V52', 'V53', 'V54', 'V55', 'V56', 'V57', 'V58', 'V59', 'V60', \n",
        "       'V61', 'V62', 'V63', 'V64', 'V65', 'V66', 'V67', 'V68', 'V69', 'V70', \n",
        "       'V71', 'V72', 'V73', 'V74', 'V75', 'V76', 'V77', 'V78', 'V79', 'V80', \n",
        "       'V81', 'V82', 'V83', 'V84', 'V85', 'V86', 'V87', 'V88', 'V89', 'V90', \n",
        "       'V91', 'V92', 'V93', 'V94', 'V95', 'V96', 'V97', 'V98', 'V99', 'V100', \n",
        "       'V101', 'V102', 'V103', 'V104','V105', 'V106','V107','V108','V109','V110',\n",
        "       'V111', 'V112', 'V113', 'V114','V115', 'V116','V117','V118','V119','V120',\n",
        "       'V121', 'V122', 'V123', 'V124','V125', 'V126','V127','V128','V129','V130',\n",
        "       'V131', 'V132', 'V133', 'V134','V135', 'V136','V137','V138','V139','V140',\n",
        "       'V141', 'V142', 'V143', 'V144','V145', 'V146','V147','V148','V149','V150',\n",
        "       'V151', 'V152', 'V153', 'V154','V155', 'V156','V157','V158','V159','V160',\n",
        "       'V161', 'V162', 'V163', 'V164','V165', 'V166','V167','V168','V169','V170',\n",
        "       'V171', 'V172', 'V173', 'V174','V175', 'V176','V177','V178','V179','V180',\n",
        "       'V181', 'V182', 'V183', 'V184','V185', 'V186','V187','V188','V189','V190',\n",
        "       'V191', 'V192', 'V193', 'V194','V195', 'V196','V197','V198','V199','V200',\n",
        "       'V201', 'V202', 'V203', 'V204','V205', 'V206','V207','V208','V209','V210',\n",
        "       'V211', 'V212', 'V213', 'V214','V215', 'V216','V217','V218','V219','V220',\n",
        "       'V220', 'V221', 'V222', 'V223', 'V224', 'V225', 'V226', 'V227', 'V228','V229',\n",
        "       'V230', 'V231', 'V232', 'V233', 'V234', 'V235', 'V236', 'V237', 'V238','V239',\n",
        "       'V240', 'V241', 'V242', 'V243', 'V244', 'V245', 'V246', 'V247', 'V248','V249',\n",
        "       'V250', 'V251', 'V252', 'V253', 'V254', 'V255', 'V256', 'V257', 'V258','V259',\n",
        "       'V260', 'V261', 'V262', 'V263', 'V264', 'V265', 'V266', 'V267', 'V268','V269',\n",
        "       'V270', 'V271', 'V272', 'V273', 'V274', 'V275', 'V276', 'V277', 'V278','V279',\n",
        "       'V280', 'V281', 'V282', 'V283', 'V284', 'V285', 'V286', 'V287', 'V288','V289',\n",
        "       'V290', 'V291', 'V292', 'V293', 'V294', 'V295', 'V296', 'V297', 'V298','V299',\n",
        "       'V300', 'V301', 'V302', 'V303', 'V304', 'V305', 'V306', 'V307', 'V308','V309',\n",
        "       'V310', 'V311', 'V312', 'V313', 'V314', 'V315', 'V316', 'V317', 'V318','V319',\n",
        "       'V320', 'V321', 'V322', 'V323', 'V324', 'V325', 'V326', 'V327', 'V328','V329',\n",
        "       'V330', 'V331', 'V332', 'V333', 'V334', 'V335', 'V336', 'V337', 'V338','V339',\n",
        "       'id_01', 'id_02', 'id_03', 'id_04', 'id_05', 'id_06', 'id_07', 'id_08', 'id_09', 'id_10', \n",
        "       'id_11', 'id_12', 'id_13', 'id_14', 'id_15', 'id_16', 'id_17', 'id_18', 'id_19', 'id_20',\n",
        "       'id_21', 'id_22','id_23', 'id_24', 'id_25', 'id_26', 'id_27', 'id_28', 'id_29', 'id_30',\n",
        "       'id_31', 'id_32', 'id_33', 'id_34', 'id_35', 'id_36', 'id_37', 'id_38',\n",
        "       'DeviceType', 'DeviceInfo']\n",
        "\n",
        "\n",
        "categoricas = []\n",
        "\n",
        "for columna in columnas:\n",
        "#for i, columna in enumerate(df_train):\n",
        "  if df_train[columna].dtype == object:\n",
        "    categoricas.append(columna)\n",
        "\n",
        "print(categoricas)"
      ],
      "execution_count": 9,
      "outputs": [
        {
          "output_type": "stream",
          "name": "stdout",
          "text": [
            "['ProductCD', 'card4', 'card6', 'P_emaildomain', 'R_emaildomain', 'M1', 'M2', 'M3', 'M4', 'M5', 'M6', 'M7', 'M8', 'M9', 'id_12', 'id_15', 'id_16', 'id_23', 'id_27', 'id_28', 'id_29', 'id_30', 'id_31', 'id_33', 'id_34', 'id_35', 'id_36', 'id_37', 'id_38', 'DeviceType', 'DeviceInfo']\n"
          ]
        }
      ]
    },
    {
      "cell_type": "markdown",
      "metadata": {
        "id": "dxrMATPOIWbV"
      },
      "source": [
        "# Mini analisis de las categoricas"
      ]
    },
    {
      "cell_type": "code",
      "metadata": {
        "id": "tvM0TJ4WIw08",
        "colab": {
          "base_uri": "https://localhost:8080/"
        },
        "outputId": "ff71909f-c6a0-4226-8ab4-c2484d613c3a"
      },
      "source": [
        "df_train['ProductCD'].value_counts()"
      ],
      "execution_count": 10,
      "outputs": [
        {
          "output_type": "execute_result",
          "data": {
            "text/plain": [
              "W    439670\n",
              "C     68519\n",
              "R     37699\n",
              "H     33024\n",
              "S     11628\n",
              "Name: ProductCD, dtype: int64"
            ]
          },
          "metadata": {},
          "execution_count": 10
        }
      ]
    },
    {
      "cell_type": "code",
      "metadata": {
        "id": "fqPbN8c9IxJl",
        "colab": {
          "base_uri": "https://localhost:8080/"
        },
        "outputId": "82c8379f-7052-403d-8526-dc277a7f174f"
      },
      "source": [
        "df_train['card4'].value_counts()"
      ],
      "execution_count": 11,
      "outputs": [
        {
          "output_type": "execute_result",
          "data": {
            "text/plain": [
              "visa                384767\n",
              "mastercard          189217\n",
              "american express      8328\n",
              "discover              6651\n",
              "Name: card4, dtype: int64"
            ]
          },
          "metadata": {},
          "execution_count": 11
        }
      ]
    },
    {
      "cell_type": "code",
      "metadata": {
        "id": "U_-mPy0RIxSS",
        "colab": {
          "base_uri": "https://localhost:8080/"
        },
        "outputId": "2a2ad149-f80f-48f1-8117-bab63075933a"
      },
      "source": [
        "df_train['card6'].value_counts()"
      ],
      "execution_count": 12,
      "outputs": [
        {
          "output_type": "execute_result",
          "data": {
            "text/plain": [
              "debit              439938\n",
              "credit             148986\n",
              "debit or credit        30\n",
              "charge card            15\n",
              "Name: card6, dtype: int64"
            ]
          },
          "metadata": {},
          "execution_count": 12
        }
      ]
    },
    {
      "cell_type": "code",
      "metadata": {
        "id": "39Pdt8pGIxs8"
      },
      "source": [
        "#df_train['P_emaildomain'].value_counts() #muchas"
      ],
      "execution_count": 13,
      "outputs": []
    },
    {
      "cell_type": "code",
      "metadata": {
        "id": "8bTSHTqwYRcA"
      },
      "source": [
        "#df_train['R_emaildomain'].value_counts() #muchas"
      ],
      "execution_count": 14,
      "outputs": []
    },
    {
      "cell_type": "code",
      "metadata": {
        "id": "73Pd78_tI28m"
      },
      "source": [
        "#df_train['M1'].value_counts() #True o false"
      ],
      "execution_count": 15,
      "outputs": []
    },
    {
      "cell_type": "code",
      "metadata": {
        "id": "NS__7aJTI3FW"
      },
      "source": [
        "#df_train['M2'].value_counts() #True o false"
      ],
      "execution_count": 16,
      "outputs": []
    },
    {
      "cell_type": "code",
      "metadata": {
        "id": "xxeYORB5I3My"
      },
      "source": [
        "#df_train['M3'].value_counts()#True o false"
      ],
      "execution_count": 17,
      "outputs": []
    },
    {
      "cell_type": "code",
      "metadata": {
        "id": "CkkrWVfXJNxn",
        "colab": {
          "base_uri": "https://localhost:8080/"
        },
        "outputId": "cba798f8-7a0c-4aff-b947-715827404900"
      },
      "source": [
        "df_train['M4'].value_counts() "
      ],
      "execution_count": 18,
      "outputs": [
        {
          "output_type": "execute_result",
          "data": {
            "text/plain": [
              "M0    196405\n",
              "M2     59865\n",
              "M1     52826\n",
              "Name: M4, dtype: int64"
            ]
          },
          "metadata": {},
          "execution_count": 18
        }
      ]
    },
    {
      "cell_type": "code",
      "metadata": {
        "id": "ohuQUceAJN7h"
      },
      "source": [
        "#df_train['M5'].value_counts() #True o false"
      ],
      "execution_count": 19,
      "outputs": []
    },
    {
      "cell_type": "code",
      "metadata": {
        "id": "lwcQgMZJJOEb"
      },
      "source": [
        "#df_train['M6'].value_counts()#True o false"
      ],
      "execution_count": 20,
      "outputs": []
    },
    {
      "cell_type": "code",
      "metadata": {
        "id": "QVMx7c-HJOON"
      },
      "source": [
        "#df_train['M7'].value_counts()#True o false"
      ],
      "execution_count": 21,
      "outputs": []
    },
    {
      "cell_type": "code",
      "metadata": {
        "id": "KIfJjoNnJOWi"
      },
      "source": [
        "#df_train['M8'].value_counts()#True o false"
      ],
      "execution_count": 22,
      "outputs": []
    },
    {
      "cell_type": "code",
      "metadata": {
        "id": "Y5--ymbkJlxd"
      },
      "source": [
        "#df_train['M9'].value_counts() #True o false"
      ],
      "execution_count": 23,
      "outputs": []
    },
    {
      "cell_type": "code",
      "metadata": {
        "id": "9nTEoEHTYjs7"
      },
      "source": [
        "#df_train['id_12'].value_counts() #NotFound Found"
      ],
      "execution_count": 24,
      "outputs": []
    },
    {
      "cell_type": "code",
      "metadata": {
        "id": "c164Jd1wYn_g"
      },
      "source": [
        "#df_train['id_15'].value_counts() # #Found o Neww o Unknown"
      ],
      "execution_count": 25,
      "outputs": []
    },
    {
      "cell_type": "code",
      "metadata": {
        "id": "XmrLZloO7_LT"
      },
      "source": [
        "#df_train['id_16'].value_counts()  #NotFound Found"
      ],
      "execution_count": 26,
      "outputs": []
    },
    {
      "cell_type": "code",
      "metadata": {
        "id": "iHkrLjGB7_S2",
        "colab": {
          "base_uri": "https://localhost:8080/"
        },
        "outputId": "48e29efe-09b4-44db-f69b-d0553ef6d833"
      },
      "source": [
        "df_train['id_23'].value_counts()"
      ],
      "execution_count": 27,
      "outputs": [
        {
          "output_type": "execute_result",
          "data": {
            "text/plain": [
              "IP_PROXY:TRANSPARENT    3489\n",
              "IP_PROXY:ANONYMOUS      1071\n",
              "IP_PROXY:HIDDEN          609\n",
              "Name: id_23, dtype: int64"
            ]
          },
          "metadata": {},
          "execution_count": 27
        }
      ]
    },
    {
      "cell_type": "code",
      "metadata": {
        "id": "UHDpRHal7_aq"
      },
      "source": [
        "#df_train['id_27'].value_counts()  #Found o NotFound   "
      ],
      "execution_count": 28,
      "outputs": []
    },
    {
      "cell_type": "code",
      "metadata": {
        "id": "btZ6MIO57_h7"
      },
      "source": [
        "#df_train['id_29'].value_counts() #Found o NotFound   "
      ],
      "execution_count": 29,
      "outputs": []
    },
    {
      "cell_type": "code",
      "metadata": {
        "id": "lZU0F6VE7_pp",
        "colab": {
          "base_uri": "https://localhost:8080/"
        },
        "outputId": "7293b40b-dd3e-4a9e-ce62-7a09ca44b3bb"
      },
      "source": [
        "df_train['id_30'].value_counts() #75"
      ],
      "execution_count": 30,
      "outputs": [
        {
          "output_type": "execute_result",
          "data": {
            "text/plain": [
              "Windows 10          21155\n",
              "Windows 7           13110\n",
              "iOS 11.2.1           3722\n",
              "iOS 11.1.2           3699\n",
              "Android 7.0          2871\n",
              "                    ...  \n",
              "func                   10\n",
              "iOS 11.4.0              5\n",
              "Mac OS X 10_13_5        4\n",
              "Windows                 3\n",
              "iOS 11.4.1              1\n",
              "Name: id_30, Length: 75, dtype: int64"
            ]
          },
          "metadata": {},
          "execution_count": 30
        }
      ]
    },
    {
      "cell_type": "code",
      "metadata": {
        "id": "xq3eNoX77_wR",
        "colab": {
          "base_uri": "https://localhost:8080/"
        },
        "outputId": "97415573-7149-4ae3-9619-71880476990f"
      },
      "source": [
        "df_train['id_31'].value_counts() #130"
      ],
      "execution_count": 31,
      "outputs": [
        {
          "output_type": "execute_result",
          "data": {
            "text/plain": [
              "chrome 63.0              22000\n",
              "mobile safari 11.0       13423\n",
              "mobile safari generic    11474\n",
              "ie 11.0 for desktop       9030\n",
              "safari generic            8195\n",
              "                         ...  \n",
              "M4Tel/M4                     1\n",
              "Samsung/SCH                  1\n",
              "LG/K-200                     1\n",
              "Inco/Minion                  1\n",
              "Nokia/Lumia                  1\n",
              "Name: id_31, Length: 130, dtype: int64"
            ]
          },
          "metadata": {},
          "execution_count": 31
        }
      ]
    },
    {
      "cell_type": "code",
      "metadata": {
        "id": "4khi2vHB8QJg",
        "colab": {
          "base_uri": "https://localhost:8080/"
        },
        "outputId": "62e872a3-4073-4b90-b09c-e2cba5ccb6c4"
      },
      "source": [
        "df_train['id_33'].value_counts() #260"
      ],
      "execution_count": 32,
      "outputs": [
        {
          "output_type": "execute_result",
          "data": {
            "text/plain": [
              "1920x1080    16874\n",
              "1366x768      8605\n",
              "1334x750      6447\n",
              "2208x1242     4900\n",
              "1440x900      4384\n",
              "             ...  \n",
              "1536x960         1\n",
              "1120x700         1\n",
              "1422x889         1\n",
              "5040x3150        1\n",
              "3838x2158        1\n",
              "Name: id_33, Length: 260, dtype: int64"
            ]
          },
          "metadata": {},
          "execution_count": 32
        }
      ]
    },
    {
      "cell_type": "code",
      "metadata": {
        "id": "7-2vg7S58QP_",
        "colab": {
          "base_uri": "https://localhost:8080/"
        },
        "outputId": "2f4e8415-c5c0-40b6-9ccd-874e091c04db"
      },
      "source": [
        "df_train['id_34'].value_counts()"
      ],
      "execution_count": 33,
      "outputs": [
        {
          "output_type": "execute_result",
          "data": {
            "text/plain": [
              "match_status:2     60011\n",
              "match_status:1     17376\n",
              "match_status:0       415\n",
              "match_status:-1        3\n",
              "Name: id_34, dtype: int64"
            ]
          },
          "metadata": {},
          "execution_count": 33
        }
      ]
    },
    {
      "cell_type": "code",
      "metadata": {
        "id": "kFQF_jGh8QXN"
      },
      "source": [
        "#df_train['id_35'].value_counts() #True o false"
      ],
      "execution_count": 34,
      "outputs": []
    },
    {
      "cell_type": "code",
      "metadata": {
        "id": "cO5Du0eb8a3R"
      },
      "source": [
        "#df_train['id_36'].value_counts()#True o false"
      ],
      "execution_count": 35,
      "outputs": []
    },
    {
      "cell_type": "code",
      "metadata": {
        "id": "04fqr78j8bBF"
      },
      "source": [
        "#df_train['id_37'].value_counts()#True o false"
      ],
      "execution_count": 36,
      "outputs": []
    },
    {
      "cell_type": "code",
      "metadata": {
        "id": "a89rO4sc8bJ5"
      },
      "source": [
        "#df_train['id_38'].value_counts()#True o false"
      ],
      "execution_count": 37,
      "outputs": []
    },
    {
      "cell_type": "code",
      "metadata": {
        "id": "lglhYbR08bR8"
      },
      "source": [
        "#df_train['DeviceType'].value_counts() #desktop o mobile  "
      ],
      "execution_count": 38,
      "outputs": []
    },
    {
      "cell_type": "code",
      "metadata": {
        "id": "JwvXguv88qxe",
        "colab": {
          "base_uri": "https://localhost:8080/"
        },
        "outputId": "fbef1c6e-40ea-46a7-d464-73e1a7eecce1"
      },
      "source": [
        "df_train['DeviceInfo'].value_counts() #1786"
      ],
      "execution_count": 39,
      "outputs": [
        {
          "output_type": "execute_result",
          "data": {
            "text/plain": [
              "Windows        47722\n",
              "iOS Device     19782\n",
              "MacOS          12573\n",
              "Trident/7.0     7440\n",
              "rv:11.0         1901\n",
              "               ...  \n",
              "SM-T530            1\n",
              "F8131              1\n",
              "WAS-LX2J           1\n",
              "AKUS               1\n",
              "ASUS_Z01KD         1\n",
              "Name: DeviceInfo, Length: 1786, dtype: int64"
            ]
          },
          "metadata": {},
          "execution_count": 39
        }
      ]
    },
    {
      "cell_type": "markdown",
      "metadata": {
        "id": "bLL1x1TEInwq"
      },
      "source": [
        "# Armo mis sets"
      ]
    },
    {
      "cell_type": "code",
      "metadata": {
        "id": "y_NrSq8jLH7D"
      },
      "source": [
        "categoricas_booleanas = ['M1','M2','M3', 'M5','M6','M7','M8','M9','id_12','id_16','id_27', 'id_29', 'id_35','id_36','id_37','id_38']\n",
        "categoricas_binary = ['P_emaildomain', 'R_emaildomain', 'id_30','id_31','id_33','DeviceInfo']\n",
        "categoricas_oneHot = ['ProductCD', 'card4', 'card6', 'M4', 'id_15', 'id_23', 'id_28', 'id_34', 'DeviceType']"
      ],
      "execution_count": 40,
      "outputs": []
    },
    {
      "cell_type": "code",
      "metadata": {
        "id": "oL8fJi3Tergl"
      },
      "source": [
        "df_train = df_train.sort_values('TransactionDT',ascending=True)\n",
        "df_train.drop(columns=['TransactionID'], inplace=True)\n",
        "#primer valor = 86400 / ultimo valor = 15811131\t"
      ],
      "execution_count": 41,
      "outputs": []
    },
    {
      "cell_type": "code",
      "metadata": {
        "id": "MqzKdjfhlNp7"
      },
      "source": [
        "limite = int(len(df_train)*0.7)\n",
        "\n",
        "train = df_train[:limite]\n",
        "test = df_train[limite:]"
      ],
      "execution_count": 42,
      "outputs": []
    },
    {
      "cell_type": "code",
      "metadata": {
        "id": "N82DHfhEhG2F"
      },
      "source": [
        "Y_train = train['isFraud']\n",
        "X_train = train.drop(columns=['isFraud']) \n",
        "del train\n",
        "\n",
        "Y_test = test['isFraud']\n",
        "X_test = test.drop(columns=['isFraud'])\n",
        "del test"
      ],
      "execution_count": 43,
      "outputs": []
    },
    {
      "cell_type": "markdown",
      "metadata": {
        "id": "V4ClKOb2D889"
      },
      "source": [
        "# Encodings"
      ]
    },
    {
      "cell_type": "code",
      "metadata": {
        "id": "kw_Or1yz7V6M"
      },
      "source": [
        "encodings = []\n",
        "\n",
        "one_hot_encoder = ce.OneHotEncoder(cols=categoricas_oneHot ,handle_unknown='return_nan',return_df=True, use_cat_names=True)\n",
        "def one_hot_enconding(df_train, encoder):\n",
        "  one_hot_encoded = encoder.fit_transform(df_train)\n",
        "  return one_hot_encoded\n",
        "\n",
        "\n",
        "encoding_booleano = []\n",
        "def hacerBinario(df, columnas):\n",
        "  for columna in columnas:\n",
        "    try:\n",
        "      columna_encodeada = df[columna].transform(lambda x: 1 if ((x == 'T') | (x == 'Found')) else 0)\n",
        "      df[columna] = columna_encodeada\n",
        "    except:\n",
        "      df.drop(columna, inplace=True)\n",
        "      encoding_booleano.append(columna)\n",
        "\n",
        "BinaryEncoder = ce.BinaryEncoder()\n",
        "\n",
        "def binary_encoder(df_train, encoder):\n",
        "  BinaryEncodeing = encoder.fit_transform(df_train[categoricas_binary])\n",
        "  df_train = pd.concat([df_train, BinaryEncodeing], axis=1)\n",
        "  df_train.drop(columns=categoricas_binary,inplace=True)\n",
        "  del BinaryEncodeing\n",
        "  return df_train\n"
      ],
      "execution_count": 44,
      "outputs": []
    },
    {
      "cell_type": "code",
      "metadata": {
        "id": "hxbbkDvSlNx0"
      },
      "source": [
        "X_train = one_hot_enconding(X_train, one_hot_encoder)\n",
        "\n",
        "hacerBinario(X_train, categoricas_booleanas)\n",
        "hacerBinario(X_test, categoricas_booleanas)\n",
        "\n",
        "encoding_booleano\n",
        "\n",
        "X_train = binary_encoder(X_train, BinaryEncoder)\n",
        "\n",
        "X_train.fillna(value=0, inplace=True) #no es la mejor opción pero por ahora sirve"
      ],
      "execution_count": 45,
      "outputs": []
    },
    {
      "cell_type": "code",
      "metadata": {
        "id": "6fv7aoN6GMAl"
      },
      "source": [
        "#X_train"
      ],
      "execution_count": 46,
      "outputs": []
    },
    {
      "cell_type": "code",
      "metadata": {
        "id": "YrskSC9Q4nuh"
      },
      "source": [
        "#Encodeo el set de test\n",
        "\n",
        "def encodeo_binario(df, columnas):  \n",
        "  aux = df[columnas]\n",
        "  aux = BinaryEncoder.transform(aux, override_return_df=True)\n",
        "  df = pd.concat([df, aux], axis=1)\n",
        "  df.drop(columns=categoricas_binary, inplace=True)\n",
        "  del aux\n",
        "  return df\n",
        "\n",
        "X_test = one_hot_encoder.transform(X_test, override_return_df=True)\n",
        "X_test = encodeo_binario(X_test, categoricas_binary)\n",
        "X_test.fillna(value=0, inplace=True)"
      ],
      "execution_count": 47,
      "outputs": []
    },
    {
      "cell_type": "markdown",
      "metadata": {
        "id": "CHGu9Sm_EDK_"
      },
      "source": [
        "# Modelo"
      ]
    },
    {
      "cell_type": "code",
      "metadata": {
        "id": "VTYWIVOOZ-Io",
        "colab": {
          "base_uri": "https://localhost:8080/"
        },
        "outputId": "10a5d654-12b0-4278-d335-64557aa8a590"
      },
      "source": [
        "model = LogisticRegression(C=1, max_iter=100, random_state=0)\n",
        "model.fit(X_train,Y_train)"
      ],
      "execution_count": 48,
      "outputs": [
        {
          "output_type": "execute_result",
          "data": {
            "text/plain": [
              "LogisticRegression(C=1, random_state=0)"
            ]
          },
          "metadata": {},
          "execution_count": 48
        }
      ]
    },
    {
      "cell_type": "code",
      "metadata": {
        "id": "kl0If_w_T51S",
        "colab": {
          "base_uri": "https://localhost:8080/"
        },
        "outputId": "1c07e30c-aa54-4a64-facf-4b11fc243937"
      },
      "source": [
        "print(classification_report(Y_train, model.predict(X_train)))\n",
        "print(classification_report(Y_test, model.predict(X_test)))"
      ],
      "execution_count": 49,
      "outputs": [
        {
          "output_type": "stream",
          "name": "stdout",
          "text": [
            "              precision    recall  f1-score   support\n",
            "\n",
            "           0       0.96      1.00      0.98    398840\n",
            "           1       0.11      0.00      0.01     14538\n",
            "\n",
            "    accuracy                           0.96    413378\n",
            "   macro avg       0.54      0.50      0.49    413378\n",
            "weighted avg       0.93      0.96      0.95    413378\n",
            "\n",
            "              precision    recall  f1-score   support\n",
            "\n",
            "           0       0.97      0.99      0.98    171037\n",
            "           1       0.00      0.00      0.00      6125\n",
            "\n",
            "    accuracy                           0.96    177162\n",
            "   macro avg       0.48      0.50      0.49    177162\n",
            "weighted avg       0.93      0.96      0.94    177162\n",
            "\n"
          ]
        }
      ]
    },
    {
      "cell_type": "code",
      "metadata": {
        "id": "5fK5A-Phn156",
        "colab": {
          "base_uri": "https://localhost:8080/"
        },
        "outputId": "94db54f0-e168-40c8-af2e-69e2fc2e5fd9"
      },
      "source": [
        "score_train = roc_auc_score(Y_train, model.predict_proba(X_train)[:,1])\n",
        "score_test = roc_auc_score(Y_test, model.predict_proba(X_test)[:,1])\n",
        "\n",
        "print(\"scores para el train, validacion y test:\", score_train, score_test)"
      ],
      "execution_count": 50,
      "outputs": [
        {
          "output_type": "stream",
          "name": "stdout",
          "text": [
            "scores para el train, validacion y test: 0.6234273748320536 0.6473618499780391\n"
          ]
        }
      ]
    },
    {
      "cell_type": "code",
      "metadata": {
        "id": "SjY2wdWbeR1H"
      },
      "source": [
        "def cross_validation(modelo, df_train, Y_train):\n",
        "  kfold = KFold(n_splits=5)#, random_state=7506)\n",
        "  cv_results = cross_val_score(modelo, df_train, Y_train, cv=kfold, scoring=\"roc_auc\", n_jobs=1)\n",
        "\n",
        "  print(f\"Métricas validación cruzada: {cv_results}\")\n",
        "  print(f\"Média métricas de validación cruzada: {cv_results.mean()}\")\n",
        "\n",
        "#cross_validation(model, X_train, Y_train,)"
      ],
      "execution_count": 51,
      "outputs": []
    },
    {
      "cell_type": "code",
      "metadata": {
        "id": "PWqW4ODUU_8n",
        "colab": {
          "base_uri": "https://localhost:8080/",
          "height": 575
        },
        "outputId": "97917ad5-d962-44b4-c58b-b096388b3cf7"
      },
      "source": [
        "#Imprimir metricas de las predicciones\n",
        "def mostrar_metricas(y_test, y_pred, y_pred_proba):\n",
        "    print('Reporte de clasificación: \\n', classification_report(y_test, y_pred))\n",
        "    print('Matriz de confusión: \\n',confusion_matrix(y_test, y_pred))\n",
        "    print('ROC: \\n', roc_auc_score(y_test, y_pred_proba))\n",
        "\n",
        "    matrix = confusion_matrix (y_test, y_pred) \n",
        "    matrix = matrix.astype ('float') / matrix.sum (axis = 1) [:, np.newaxis] \n",
        "\n",
        "    # Build the plot\n",
        "    plt.figure()\n",
        "    sns.set(font_scale=1.4)\n",
        "    sns.heatmap(matrix, annot=True, annot_kws={'size':10},cmap=plt.cm.Greens, linewidths=0.2)\n",
        "    plt.xlabel('Predicción')\n",
        "    plt.ylabel('Target')\n",
        "    plt.title('Matriz de confusión')\n",
        "    plt.show()\n",
        "\n",
        "\n",
        "mostrar_metricas(Y_test, model.predict(X_test), model.predict_proba(X_test)[:,1])"
      ],
      "execution_count": 52,
      "outputs": [
        {
          "output_type": "stream",
          "name": "stdout",
          "text": [
            "Reporte de clasificación: \n",
            "               precision    recall  f1-score   support\n",
            "\n",
            "           0       0.97      0.99      0.98    171037\n",
            "           1       0.00      0.00      0.00      6125\n",
            "\n",
            "    accuracy                           0.96    177162\n",
            "   macro avg       0.48      0.50      0.49    177162\n",
            "weighted avg       0.93      0.96      0.94    177162\n",
            "\n",
            "Matriz de confusión: \n",
            " [[169707   1330]\n",
            " [  6123      2]]\n",
            "ROC: \n",
            " 0.6473618499780391\n"
          ]
        },
        {
          "output_type": "display_data",
          "data": {
            "image/png": "[encoded data removed]",
            "text/plain": [
              "<Figure size 432x288 with 2 Axes>"
            ]
          },
          "metadata": {
            "needs_background": "light"
          }
        }
      ]
    },
    {
      "cell_type": "code",
      "metadata": {
        "id": "bobB9I3JdXRf",
        "colab": {
          "base_uri": "https://localhost:8080/",
          "height": 1000
        },
        "outputId": "17ef1a12-3daa-4b84-eda5-a461a08297c3"
      },
      "source": [
        "def randomSearch(modelo, kfold=None):\n",
        "  #distributions = dict(C=uniform(loc=0, scale=4),penalty=['l2', 'l1'])\n",
        "  distributions = dict(C=uniform(loc=0, scale=4),penalty=['l2'])\n",
        "\n",
        "  clf = RandomizedSearchCV(modelo, distributions, n_iter=5, cv = 3, verbose=100, random_state=7506) #no tuve tiempo para probar más combinaciones\n",
        "  search = clf.fit(X_train, Y_train) #n_iter = 10 cv = 10 tarda 56 minutos \n",
        "  print(search.best_params_)\n",
        "  \n",
        "  resultado = search.best_params_\n",
        "  best_C = resultado['C']\n",
        "  best_model = LogisticRegression(C=best_C, max_iter=100, random_state=12)\n",
        "  best_model.fit(X_train.values,Y_train.values)\n",
        "  mostrar_metricas(Y_test, best_model.predict(X_test), best_model.predict_proba(X_test)[:,1])\n",
        "  return best_model\n",
        "\n",
        "best_model = randomSearch(model)\n"
      ],
      "execution_count": 53,
      "outputs": [
        {
          "output_type": "stream",
          "name": "stdout",
          "text": [
            "Fitting 3 folds for each of 5 candidates, totalling 15 fits\n",
            "[CV 1/3; 1/5] START C=2.857353543863741, penalty=l2.............................\n",
            "[CV 1/3; 1/5] END C=2.857353543863741, penalty=l2;, score=0.951 total time=  30.7s\n",
            "[CV 2/3; 1/5] START C=2.857353543863741, penalty=l2.............................\n",
            "[CV 2/3; 1/5] END C=2.857353543863741, penalty=l2;, score=0.964 total time=  33.1s\n",
            "[CV 3/3; 1/5] START C=2.857353543863741, penalty=l2.............................\n",
            "[CV 3/3; 1/5] END C=2.857353543863741, penalty=l2;, score=0.965 total time=  34.5s\n",
            "[CV 1/3; 2/5] START C=2.607070064105826, penalty=l2.............................\n",
            "[CV 1/3; 2/5] END C=2.607070064105826, penalty=l2;, score=0.951 total time=  30.9s\n",
            "[CV 2/3; 2/5] START C=2.607070064105826, penalty=l2.............................\n",
            "[CV 2/3; 2/5] END C=2.607070064105826, penalty=l2;, score=0.964 total time=  33.0s\n",
            "[CV 3/3; 2/5] START C=2.607070064105826, penalty=l2.............................\n",
            "[CV 3/3; 2/5] END C=2.607070064105826, penalty=l2;, score=0.965 total time=  32.0s\n",
            "[CV 1/3; 3/5] START C=3.32966531613205, penalty=l2..............................\n",
            "[CV 1/3; 3/5] END C=3.32966531613205, penalty=l2;, score=0.951 total time=  30.9s\n",
            "[CV 2/3; 3/5] START C=3.32966531613205, penalty=l2..............................\n",
            "[CV 2/3; 3/5] END C=3.32966531613205, penalty=l2;, score=0.964 total time=  33.8s\n",
            "[CV 3/3; 3/5] START C=3.32966531613205, penalty=l2..............................\n",
            "[CV 3/3; 3/5] END C=3.32966531613205, penalty=l2;, score=0.965 total time=  33.7s\n",
            "[CV 1/3; 4/5] START C=2.9679850449153298, penalty=l2............................\n",
            "[CV 1/3; 4/5] END C=2.9679850449153298, penalty=l2;, score=0.951 total time=  30.9s\n",
            "[CV 2/3; 4/5] START C=2.9679850449153298, penalty=l2............................\n",
            "[CV 2/3; 4/5] END C=2.9679850449153298, penalty=l2;, score=0.964 total time=  33.2s\n",
            "[CV 3/3; 4/5] START C=2.9679850449153298, penalty=l2............................\n",
            "[CV 3/3; 4/5] END C=2.9679850449153298, penalty=l2;, score=0.965 total time=  31.9s\n",
            "[CV 1/3; 5/5] START C=1.61719900700818, penalty=l2..............................\n",
            "[CV 1/3; 5/5] END C=1.61719900700818, penalty=l2;, score=0.951 total time=  30.8s\n",
            "[CV 2/3; 5/5] START C=1.61719900700818, penalty=l2..............................\n",
            "[CV 2/3; 5/5] END C=1.61719900700818, penalty=l2;, score=0.964 total time=  32.6s\n",
            "[CV 3/3; 5/5] START C=1.61719900700818, penalty=l2..............................\n",
            "[CV 3/3; 5/5] END C=1.61719900700818, penalty=l2;, score=0.965 total time=  32.5s\n",
            "{'C': 2.9679850449153298, 'penalty': 'l2'}\n",
            "Reporte de clasificación: \n",
            "               precision    recall  f1-score   support\n",
            "\n",
            "           0       0.97      0.99      0.98    171037\n",
            "           1       0.04      0.01      0.02      6125\n",
            "\n",
            "    accuracy                           0.96    177162\n",
            "   macro avg       0.50      0.50      0.50    177162\n",
            "weighted avg       0.93      0.96      0.95    177162\n",
            "\n",
            "Matriz de confusión: \n",
            " [[169583   1454]\n",
            " [  6067     58]]\n",
            "ROC: \n",
            " 0.650245833667927\n"
          ]
        },
        {
          "output_type": "display_data",
          "data": {
            "image/png": "[encoded data removed]",
            "text/plain": [
              "<Figure size 432x288 with 2 Axes>"
            ]
          },
          "metadata": {}
        }
      ]
    },
    {
      "cell_type": "markdown",
      "metadata": {
        "id": "k2KFGQyIuCrL"
      },
      "source": [
        "# Importancia de los features"
      ]
    },
    {
      "cell_type": "code",
      "metadata": {
        "id": "Ci7W6i3XuVnY"
      },
      "source": [
        "#from matplotlib import pyplot\n",
        "\n",
        "indices = []\n",
        "valores = []\n",
        "importance = model.coef_[0]\n",
        "for i,v in enumerate(importance):\n",
        "\tif abs(v) > 0.0002:\n",
        "\t\tindices.append(X_train.columns[i])\n",
        "\t\tvalores.append(v)"
      ],
      "execution_count": 55,
      "outputs": []
    },
    {
      "cell_type": "code",
      "metadata": {
        "colab": {
          "base_uri": "https://localhost:8080/",
          "height": 486
        },
        "id": "qr-QJGCuHky1",
        "outputId": "5ab929a6-d92b-4f8d-eff7-6d44ed4539f5"
      },
      "source": [
        "df =pd.DataFrame({'indice': indices, 'value': valores})\n",
        "df.set_index('indice',inplace=True)\n",
        "df.plot(kind = 'bar', figsize = (10, 5),  title = \"Features más importantes\")\n",
        "plt.xlabel('Feature', fontsize= 12)\n",
        "plt.ylabel(\"Importancia\", fontsize= 12)"
      ],
      "execution_count": 56,
      "outputs": [
        {
          "output_type": "execute_result",
          "data": {
            "text/plain": [
              "Text(0, 0.5, 'Importancia')"
            ]
          },
          "metadata": {},
          "execution_count": 56
        },
        {
          "output_type": "display_data",
          "data": {
            "image/png": "[encoded data removed]",
            "text/plain": [
              "<Figure size 720x360 with 1 Axes>"
            ]
          },
          "metadata": {}
        }
      ]
    },
    {
      "cell_type": "code",
      "metadata": {
        "id": "kTEdOKqB0Up6"
      },
      "source": [
        "del X_train\n",
        "del X_test"
      ],
      "execution_count": 57,
      "outputs": []
    },
    {
      "cell_type": "markdown",
      "metadata": {
        "id": "faBggl2rEK2_"
      },
      "source": [
        "# Test"
      ]
    },
    {
      "cell_type": "code",
      "metadata": {
        "id": "VJQ2S_ZzvmK3"
      },
      "source": [
        "id_test_identity ='1NxzemULNRkT-kqjYXeHV0gQmQK98NC1n'\n",
        "downloaded = drive.CreateFile({'id': id_test_identity})\n",
        "downloaded.GetContentFile('test_identity.csv')\n",
        "df_test_identity = pd.read_csv('test_identity.csv')\n",
        "\n",
        "#df_test_identity.head(5).T\n",
        "\n",
        "\n",
        "id_test_transaction ='1y-MpYZTrnmzHMcVDPfYkpVFQetOy4zqN'\n",
        "downloaded = drive.CreateFile({'id': id_test_transaction})\n",
        "downloaded.GetContentFile('test_transaction.csv')\n",
        "df_test_transaction = pd.read_csv('test_transaction.csv')\n",
        "#df_test_transaction.head().T\n"
      ],
      "execution_count": 58,
      "outputs": []
    },
    {
      "cell_type": "code",
      "metadata": {
        "id": "6UsoC28nKH5v"
      },
      "source": [
        "df_test = pd.merge(df_test_identity, df_test_transaction, how='outer',on='TransactionID')\n",
        "\n",
        "del df_test_identity\n",
        "del df_test_transaction\n",
        "\n",
        "\n",
        "df_test.set_index('TransactionID',inplace=True)\n",
        "df_test.columns = df_test.columns.str.replace(\"id-\",\"id_\")\n",
        "\n",
        "hacerBinario(df_test, categoricas_booleanas)\n",
        "df_test = one_hot_encoder.transform(df_test, override_return_df=True)\n",
        "df_test = encodeo_binario(df_test, categoricas_binary)\n",
        "\n",
        "df_test.fillna(value=0, inplace=True)"
      ],
      "execution_count": 59,
      "outputs": []
    },
    {
      "cell_type": "code",
      "metadata": {
        "id": "RD4ZzXHKL4y3"
      },
      "source": [
        "predicciones = best_model.predict_proba(df_test)[:,1]"
      ],
      "execution_count": 60,
      "outputs": []
    },
    {
      "cell_type": "code",
      "metadata": {
        "id": "To9Yiyj3o4iE"
      },
      "source": [
        "from google.colab import files\n",
        "def generarResultado(df,prediccion):\n",
        "    df.index.rename('TransactionID',inplace=True)\n",
        "    df['isFraud'] = prediccion\n",
        "    resultado = df[['isFraud']]\n",
        "    resultado.to_csv('resultadoLR.csv')\n",
        "    files.download('resultadoLR.csv')\n",
        "    return resultado\n"
      ],
      "execution_count": 61,
      "outputs": []
    },
    {
      "cell_type": "code",
      "metadata": {
        "id": "WXvRhsqMvzN1",
        "colab": {
          "base_uri": "https://localhost:8080/",
          "height": 455
        },
        "outputId": "a5648ed4-467d-431a-fe72-11b32e6881d9"
      },
      "source": [
        "prediccion = generarResultado(df_test,predicciones)\n",
        "prediccion"
      ],
      "execution_count": 62,
      "outputs": [
        {
          "output_type": "display_data",
          "data": {
            "application/javascript": [
              "\n",
              "    async function download(id, filename, size) {\n",
              "      if (!google.colab.kernel.accessAllowed) {\n",
              "        return;\n",
              "      }\n",
              "      const div = document.createElement('div');\n",
              "      const label = document.createElement('label');\n",
              "      label.textContent = `Downloading \"${filename}\": `;\n",
              "      div.appendChild(label);\n",
              "      const progress = document.createElement('progress');\n",
              "      progress.max = size;\n",
              "      div.appendChild(progress);\n",
              "      document.body.appendChild(div);\n",
              "\n",
              "      const buffers = [];\n",
              "      let downloaded = 0;\n",
              "\n",
              "      const channel = await google.colab.kernel.comms.open(id);\n",
              "      // Send a message to notify the kernel that we're ready.\n",
              "      channel.send({})\n",
              "\n",
              "      for await (const message of channel.messages) {\n",
              "        // Send a message to notify the kernel that we're ready.\n",
              "        channel.send({})\n",
              "        if (message.buffers) {\n",
              "          for (const buffer of message.buffers) {\n",
              "            buffers.push(buffer);\n",
              "            downloaded += buffer.byteLength;\n",
              "            progress.value = downloaded;\n",
              "          }\n",
              "        }\n",
              "      }\n",
              "      const blob = new Blob(buffers, {type: 'application/binary'});\n",
              "      const a = document.createElement('a');\n",
              "      a.href = window.URL.createObjectURL(blob);\n",
              "      a.download = filename;\n",
              "      div.appendChild(a);\n",
              "      a.click();\n",
              "      div.remove();\n",
              "    }\n",
              "  "
            ],
            "text/plain": [
              "<IPython.core.display.Javascript object>"
            ]
          },
          "metadata": {}
        },
        {
          "output_type": "display_data",
          "data": {
            "application/javascript": [
              "download(\"download_ae9f1acf-6b72-4d48-a268-153175aa715b\", \"resultadoLR.csv\", 14727384)"
            ],
            "text/plain": [
              "<IPython.core.display.Javascript object>"
            ]
          },
          "metadata": {}
        },
        {
          "output_type": "execute_result",
          "data": {
            "text/html": [
              "<div>\n",
              "<style scoped>\n",
              "    .dataframe tbody tr th:only-of-type {\n",
              "        vertical-align: middle;\n",
              "    }\n",
              "\n",
              "    .dataframe tbody tr th {\n",
              "        vertical-align: top;\n",
              "    }\n",
              "\n",
              "    .dataframe thead th {\n",
              "        text-align: right;\n",
              "    }\n",
              "</style>\n",
              "<table border=\"1\" class=\"dataframe\">\n",
              "  <thead>\n",
              "    <tr style=\"text-align: right;\">\n",
              "      <th></th>\n",
              "      <th>isFraud</th>\n",
              "    </tr>\n",
              "    <tr>\n",
              "      <th>TransactionID</th>\n",
              "      <th></th>\n",
              "    </tr>\n",
              "  </thead>\n",
              "  <tbody>\n",
              "    <tr>\n",
              "      <th>3663586</th>\n",
              "      <td>0.01</td>\n",
              "    </tr>\n",
              "    <tr>\n",
              "      <th>3663588</th>\n",
              "      <td>0.01</td>\n",
              "    </tr>\n",
              "    <tr>\n",
              "      <th>3663597</th>\n",
              "      <td>0.01</td>\n",
              "    </tr>\n",
              "    <tr>\n",
              "      <th>3663601</th>\n",
              "      <td>0.01</td>\n",
              "    </tr>\n",
              "    <tr>\n",
              "      <th>3663602</th>\n",
              "      <td>0.03</td>\n",
              "    </tr>\n",
              "    <tr>\n",
              "      <th>...</th>\n",
              "      <td>...</td>\n",
              "    </tr>\n",
              "    <tr>\n",
              "      <th>4170231</th>\n",
              "      <td>0.02</td>\n",
              "    </tr>\n",
              "    <tr>\n",
              "      <th>4170232</th>\n",
              "      <td>0.00</td>\n",
              "    </tr>\n",
              "    <tr>\n",
              "      <th>4170235</th>\n",
              "      <td>0.01</td>\n",
              "    </tr>\n",
              "    <tr>\n",
              "      <th>4170237</th>\n",
              "      <td>0.00</td>\n",
              "    </tr>\n",
              "    <tr>\n",
              "      <th>4170238</th>\n",
              "      <td>0.01</td>\n",
              "    </tr>\n",
              "  </tbody>\n",
              "</table>\n",
              "<p>506691 rows × 1 columns</p>\n",
              "</div>"
            ],
            "text/plain": [
              "                           isFraud\n",
              "TransactionID                     \n",
              "3663586                       0.01\n",
              "3663588                       0.01\n",
              "3663597                       0.01\n",
              "3663601                       0.01\n",
              "3663602                       0.03\n",
              "...                            ...\n",
              "4170231                       0.02\n",
              "4170232                       0.00\n",
              "4170235                       0.01\n",
              "4170237                       0.00\n",
              "4170238                       0.01\n",
              "\n",
              "[506691 rows x 1 columns]"
            ]
          },
          "metadata": {},
          "execution_count": 62
        }
      ]
    },
    {
      "cell_type": "code",
      "metadata": {
        "id": "Ln8HSfOZALGP"
      },
      "source": [
        ""
      ],
      "execution_count": 62,
      "outputs": []
    }
  ]
}