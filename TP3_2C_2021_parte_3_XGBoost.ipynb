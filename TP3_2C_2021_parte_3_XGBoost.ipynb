{
  "nbformat": 4,
  "nbformat_minor": 0,
  "metadata": {
    "colab": {
      "name": "TP3-2C-2021-parte-3-XGBoost.ipynb",
      "provenance": [],
      "collapsed_sections": [
        "FrKngFDmRYb3",
        "kwCi8Kjm7WO_",
        "bLL1x1TEInwq",
        "V4ClKOb2D889",
        "CHGu9Sm_EDK_",
        "Nyf7GVCEMtDO",
        "GehCrFpx68GY"
      ]
    },
    "kernelspec": {
      "display_name": "Python 3",
      "language": "python",
      "name": "python3"
    },
    "language_info": {
      "codemirror_mode": {
        "name": "ipython",
        "version": 3
      },
      "file_extension": ".py",
      "mimetype": "text/x-python",
      "name": "python",
      "nbconvert_exporter": "python",
      "pygments_lexer": "ipython3",
      "version": "3.8.2"
    }
  },
  "cells": [
    {
      "cell_type": "markdown",
      "metadata": {
        "id": "FrKngFDmRYb3"
      },
      "source": [
        "# TP3 Alejandro balladares 101118"
      ]
    },
    {
      "cell_type": "code",
      "metadata": {
        "colab": {
          "base_uri": "https://localhost:8080/"
        },
        "id": "vtM7yiuO6gi8",
        "outputId": "cd87fcb1-8515-4f46-e5c9-d186a1bd1ac7"
      },
      "source": [
        "!pip install category_encoders"
      ],
      "execution_count": 1,
      "outputs": [
        {
          "output_type": "stream",
          "name": "stdout",
          "text": [
            "Requirement already satisfied: category_encoders in /usr/local/lib/python3.7/dist-packages (2.3.0)\n",
            "Requirement already satisfied: pandas>=0.21.1 in /usr/local/lib/python3.7/dist-packages (from category_encoders) (1.1.5)\n",
            "Requirement already satisfied: patsy>=0.5.1 in /usr/local/lib/python3.7/dist-packages (from category_encoders) (0.5.2)\n",
            "Requirement already satisfied: scikit-learn>=0.20.0 in /usr/local/lib/python3.7/dist-packages (from category_encoders) (1.0.1)\n",
            "Requirement already satisfied: statsmodels>=0.9.0 in /usr/local/lib/python3.7/dist-packages (from category_encoders) (0.10.2)\n",
            "Requirement already satisfied: numpy>=1.14.0 in /usr/local/lib/python3.7/dist-packages (from category_encoders) (1.19.5)\n",
            "Requirement already satisfied: scipy>=1.0.0 in /usr/local/lib/python3.7/dist-packages (from category_encoders) (1.4.1)\n",
            "Requirement already satisfied: python-dateutil>=2.7.3 in /usr/local/lib/python3.7/dist-packages (from pandas>=0.21.1->category_encoders) (2.8.2)\n",
            "Requirement already satisfied: pytz>=2017.2 in /usr/local/lib/python3.7/dist-packages (from pandas>=0.21.1->category_encoders) (2018.9)\n",
            "Requirement already satisfied: six in /usr/local/lib/python3.7/dist-packages (from patsy>=0.5.1->category_encoders) (1.15.0)\n",
            "Requirement already satisfied: joblib>=0.11 in /usr/local/lib/python3.7/dist-packages (from scikit-learn>=0.20.0->category_encoders) (1.1.0)\n",
            "Requirement already satisfied: threadpoolctl>=2.0.0 in /usr/local/lib/python3.7/dist-packages (from scikit-learn>=0.20.0->category_encoders) (3.0.0)\n"
          ]
        }
      ]
    },
    {
      "cell_type": "code",
      "metadata": {
        "id": "mQDwnOebRYb5"
      },
      "source": [
        "import pandas as pd\n",
        "import numpy as np\n",
        "import matplotlib.pyplot as plt\n",
        "import seaborn as sns\n",
        "\n",
        "%matplotlib inline\n",
        "\n",
        "plt.style.use('default')\n",
        "plt.rcParams['figure.figsize'] = (20, 10)\n",
        "sns.set(style=\"whitegrid\") \n",
        "\n",
        "pd.options.display.float_format = '{:20,.2f}'.format \n",
        "\n",
        "import warnings\n",
        "warnings.filterwarnings('ignore')\n",
        "\n",
        "from IPython.display import display\n",
        "pd.options.display.max_columns = None\n",
        "\n",
        "from sklearn.metrics import classification_report, accuracy_score, roc_auc_score, ConfusionMatrixDisplay, confusion_matrix\n",
        "from sklearn.model_selection import RandomizedSearchCV\n",
        "import category_encoders as ce\n",
        "\n",
        "import matplotlib.pyplot as plt\n",
        "import seaborn as sns\n",
        "\n",
        "import xgboost as xgb\n",
        "from xgboost import XGBClassifier\n",
        "from sklearn.feature_extraction.text import CountVectorizer\n",
        "from sklearn.feature_extraction.text import TfidfVectorizer\n"
      ],
      "execution_count": 2,
      "outputs": []
    },
    {
      "cell_type": "code",
      "metadata": {
        "id": "lWuJC79eO79n"
      },
      "source": [
        "from pydrive.auth import GoogleAuth\n",
        "from pydrive.drive import GoogleDrive\n",
        "from google.colab import auth\n",
        "from oauth2client.client import GoogleCredentials"
      ],
      "execution_count": 3,
      "outputs": []
    },
    {
      "cell_type": "code",
      "metadata": {
        "id": "RhORHjivO_ko"
      },
      "source": [
        "auth.authenticate_user()\n",
        "gauth = GoogleAuth()\n",
        "gauth.credentials = GoogleCredentials.get_application_default()\n",
        "drive = GoogleDrive(gauth)"
      ],
      "execution_count": 4,
      "outputs": []
    },
    {
      "cell_type": "code",
      "metadata": {
        "id": "_fYkUgGzJ7aS"
      },
      "source": [
        "#1Jd247D2BPj4ry7kpzK71fMtnyzOYa9M_\n",
        "id_train_identity = '1Jd247D2BPj4ry7kpzK71fMtnyzOYa9M_'\n",
        "downloaded = drive.CreateFile({'id': id_train_identity})\n",
        "downloaded.GetContentFile('train_identity.csv')\n",
        "\n",
        "df_train_identity = pd.read_csv('train_identity.csv')\n",
        "#df_train_identity.head().T"
      ],
      "execution_count": 5,
      "outputs": []
    },
    {
      "cell_type": "code",
      "metadata": {
        "id": "rmuG7MS9J7me"
      },
      "source": [
        "#\"1ToBfhZrshAHYsrW3FXVPxuPT-Vm5-8NB\"\n",
        "\n",
        "id_train_transaction = '1ToBfhZrshAHYsrW3FXVPxuPT-Vm5-8NB'\n",
        "downloaded = drive.CreateFile({'id': id_train_transaction})\n",
        "downloaded.GetContentFile('train_transaction.csv')\n",
        "\n",
        "df_train_transaction = pd.read_csv('train_transaction.csv')\n",
        "#df_train_transaction.head().T"
      ],
      "execution_count": 6,
      "outputs": []
    },
    {
      "cell_type": "markdown",
      "metadata": {
        "id": "ofUd71iGKpM_"
      },
      "source": [
        "# Parte III: Machine Learning (10 puntos)\n",
        "\n",
        "Entrenar 2 (de tipos distintos, excluyendo regresiones logísticas) modelos (5 puntos cada\n",
        "uno) con búsqueda de hiperparametros (¿cómo conviene elegir los datos de validación\n",
        "respecto de los de train?).\n",
        "\n",
        "Los modelos deben cumplir las siguientes condiciones:\n",
        "\n",
        "● Deben utilizar AUC-ROC como métrica de validación.\n",
        "\n",
        "● Deben medirse solo en validación, no contra la competencia.\n",
        "\n",
        "● Deben ser reproducibles (correr el notebook varias veces no afecta al resultado).\n",
        "\n",
        "● Deben tener un score en validación superior a 0,8.\n",
        "\n",
        "● Para el feature engineering debe utilizarse imputación de nulos, mean encoding y\n",
        "one hot encoding al menos una vez cada uno.\n",
        "\n",
        "● Deben utilizar al menos 80 features (contando cómo features columnas con\n",
        "números, pueden venir varios de la misma variable).\n",
        "\n",
        "● Deben utilizar las columnas: id_31, id_33, DeviceType, DeviceInfo.\n",
        "\n",
        "● Deben utilizar CountVectorizer o TfIdfVectorizer para algún feature.\n",
        "Deberán contestar la siguiente pregunta:\n",
        "\n",
        "● Para el mejor modelo de ambos, ¿cuál es el score en la competencia? (guardar el\n",
        "csv con predicciones para entregarlo después)"
      ]
    },
    {
      "cell_type": "markdown",
      "metadata": {
        "id": "kwCi8Kjm7WO_"
      },
      "source": [
        "# Criterios de correción\n",
        "\n",
        "Parte III\n",
        "Vamos a corregir los siguientes puntos en cada modelo de 5 puntos (a medida se acumulan\n",
        "estos pueden hacer que el modelo valga 0, pero nunca negativo):\n",
        "\n",
        "● Para cada modelo cada condición no cumplida (o mal hecha) resta 1 punto.\n",
        "\n",
        "● Feature engineering inapropiado para el modelo elegido (-2 puntos), ejemplos:\n",
        "features que no están normalizadas para una red neuronal, features sin ninguna\n",
        "consideración de escalas para un KNN, etc.\n",
        "\n",
        "● No buscan para todos los hiperparametros importantes.\n",
        "Además si un modelo diera un resultado menor a 0,6 en validación se invalida entero.\n",
        "Por sobre el puntaje total del ejercicio (ambos modelos) se restan 3 puntos si cualquiera de\n",
        "las siguientes cosas suceden (no acumulables): eligen mal el mejor modelo entre los dos o\n",
        "la predicción para la competencia no está bien hecha o la predicción en la competencia da\n",
        "menos de 0.5."
      ]
    },
    {
      "cell_type": "code",
      "metadata": {
        "id": "-dEgXQ9fGGYY"
      },
      "source": [
        "df_train = pd.merge(df_train_identity, df_train_transaction, how='outer',on='TransactionID')\n",
        "\n",
        "del df_train_identity\n",
        "del df_train_transaction"
      ],
      "execution_count": 7,
      "outputs": []
    },
    {
      "cell_type": "markdown",
      "metadata": {
        "id": "bLL1x1TEInwq"
      },
      "source": [
        "# Armo los data sets"
      ]
    },
    {
      "cell_type": "code",
      "metadata": {
        "id": "O-6SmXXDPbZS"
      },
      "source": [
        "columnas_mas_importantes_Lineal = ['id_14','TransactionAmt','card2', 'card3','card5', 'addr1', 'addr2', 'dist1', 'C13',\n",
        " 'D1', 'D2', 'D4', 'D8', 'D10', 'D11', 'D15', 'V130', 'V133', 'V159', 'V203', 'V207', 'V263', 'V265', 'V267', 'V273',\n",
        " 'V275', 'V307', 'V308', 'V310', 'V318', 'V331'] #las más importantes de la regresion lineal\n",
        "\n",
        "columnas_con_mas_correlacion_con_isFraud = ['id_17','card3',\n",
        "'V15','V16','V17','V18','V21','V22','V31','V32','V33','V34','V37','V38','V39','V40','V42','V43','V44','V45','V47','V50','V51','V52','V57','V58','V59',\n",
        "'V60','V63','V64','V71','V72','V73','V74','V77','V78','V79','V80','V81','V84','V85','V86','V87','V92','V93','V94',\n",
        "'V140','V146','V147','V148','V149','V153','V154','V155','V156','V157','V158','V170','V171','V176','V188','V189','V190','V197','V199',\n",
        "'V200','V201','V222','V228','V230','V242','V243','V244','V246','V247','V252','V257','V258','V259','V262']"
      ],
      "execution_count": 8,
      "outputs": []
    },
    {
      "cell_type": "code",
      "metadata": {
        "id": "y_NrSq8jLH7D"
      },
      "source": [
        "categoricas_booleanas = ['M1','M2','M3', 'M5','M6','M7','M8','M9','id_12','id_16', 'id_29', 'id_35','id_36','id_37','id_38'] #'id_27',\n",
        "categoricas_binary = ['P_emaildomain', 'R_emaildomain', 'id_30','id_31','DeviceInfo'] #'id_33', \n",
        "categoricas_oneHot = ['ProductCD', 'card4', 'card6', 'M4', 'id_15', 'id_28', 'id_34', 'DeviceType'] #'id_23', \n",
        "\n",
        "columnas_para_mean =['id_14',\t'id_17',\t'D2','D4','D8','D10',\t'D11'\t,'D15','V159','V203', 'V207','V263', 'V265','V267',\n",
        "                     'V268','V273', 'V275','V331', 'V333']\n",
        "\n",
        "columnas_con_pocos_valores = ['V15', 'V16','V17','V18','V21', 'V22', 'V31', 'V32','V33','V34','V37','V38','V39','V40','V42', 'V43','V44','V45','V47', \n",
        "                              'V50', 'V51', 'V52', 'V57', 'V58','V59','V60','V61', 'V63', 'V64', 'V71', 'V72', 'V73', 'V74','V77','V78' ,'V79',\n",
        "                              'V80','V81', 'V84', 'V85','V86','V87', 'V92', 'V93','V140',\n",
        "                              'V146','V147','V148','V149','V153', 'V154','V155','V156','V157','V158','V170','V171','V172','V176','V187','V188','V189',\n",
        "                              'V190','V197','V198','V199','V200','V201','V222','V223','V224','V228','V230','V242','V243','V244','V246','V247','V252',\n",
        "                              'V257','V258','V259','V262','V323'\n",
        "                              ]\n",
        "\n",
        "columnas_a_utilizar = ['id_12','id_14','id_15','id_16','id_17', 'id_28','id_29','id_30','id_31',#'id_33',\n",
        "                      'id_34', 'id_35','id_36','id_37','id_38',\n",
        "                      'TransactionAmt','card2', 'card3','card4','card5' ,'card6', 'addr1', 'addr2', 'dist1',\n",
        "                      'C7', 'C8', 'C11', 'C12', 'C13', 'C14',\n",
        "                      'D1', 'D2', 'D4', 'D8', 'D10', 'D11', 'D15',\n",
        "                      'V12', 'V15','V16','V17','V18','V21','V22','V31','V32','V33','V34','V37','V38','V39','V40','V42','V43','V44','V45','V47',\n",
        "                       'V50','V51','V52','V57','V58','V59','V60','V61','V63','V64','V71','V72','V73', 'V74','V77','V78','V79',\n",
        "                       'V80','V81','V84','V85','V86','V87','V92','V93','V94',\n",
        "                      'V130', 'V133','V140','V146','V147','V148', 'V149', 'V153', 'V154','V155','V156','V157','V158','V159','V163', \n",
        "                      'V170','V171','V172', 'V176','V187','V188','V189', 'V190', 'V197', 'V198','V199',\n",
        "                      'V200','V201', 'V203', 'V207','V222','V223', 'V224','V228','V230','V242','V243','V244','V246','V247','V252','V257','V258','V259',\n",
        "                      'V262', 'V263','V265',  'V266','V267',  'V268', 'V273','V275', 'V283', 'V294', 'V295',\n",
        "                      'V307', 'V308', 'V310', 'V317','V318', 'V323','V331','V333',   \n",
        "                      'M1','M2','M3','M4', 'M5','M6','M7','M8','M9',\n",
        "                      'P_emaildomain', 'R_emaildomain', 'DeviceInfo','ProductCD',  'DeviceType', 'isFraud','ancho_pantalla','alto_pantalla'\n",
        "                      ]\n",
        "\n",
        "opcion_1 = [0,1,2]\n",
        "opcion_2 = [0,1]\n",
        "opcion_3 = [1,2,3]\n",
        "opcion_4 = [1,2,3,4]\n",
        "opcion_5 = [1,2,3,4,5]\n",
        "opcion_6 = [0,1,2,3]\n",
        "\n",
        "diccionario_para_rellenar = {'V17':opcion_1,'V18':opcion_1,'V32':opcion_1,'V34':opcion_1,'V39':opcion_1,'V40':opcion_1,'V43':opcion_1,\n",
        "                             'V51':opcion_1,'V52':opcion_1,'V59':opcion_1,\n",
        "            'V60':opcion_1,'V74':opcion_1, 'V79':opcion_1,'V80':opcion_1,'V81':opcion_1,'V85':opcion_1,'V86':opcion_1,'V146':opcion_1,'V147':opcion_1,'V157':opcion_1,\n",
        "            'V158':opcion_1,'V188':opcion_1,'V189':opcion_1,'V197':opcion_1,'V224':opcion_1,'V262':opcion_1,'V323':opcion_1,\n",
        "            \n",
        "            'V15':opcion_2,'V16':opcion_2,'V21':opcion_2,'V22':opcion_2,'V31':opcion_2,'V33':opcion_2, 'V42':opcion_2,'V50':opcion_2,\n",
        "            'V57':opcion_2, 'V58':opcion_2, 'V61':opcion_2, 'V63':opcion_2, 'V64':opcion_2,'V71':opcion_2, 'V72':opcion_2, 'V73':opcion_2,\n",
        "            'V84':opcion_2, 'V92':opcion_2,'V93':opcion_2,\n",
        "            'V148':opcion_2,'V149':opcion_2,'V153':opcion_2,'V154':opcion_2,'V155':opcion_2,'V156':opcion_2,'V172':opcion_2,'V198':opcion_2,'V223':opcion_2,\n",
        "            'V223':opcion_2,'V242':opcion_2,'V244':opcion_2,'V246':opcion_2,'V247':opcion_2,'V252':opcion_2,\n",
        "            \n",
        "            'V45':opcion_3,'V44':opcion_3,'V87':opcion_3,'V176':opcion_3,\n",
        "            'V37':opcion_4,\n",
        "            'V38':opcion_5,\n",
        "            \n",
        "            'V47':opcion_6,'V77':opcion_6,'V78':opcion_6,'V140':opcion_6,'V170':opcion_6,'V171':opcion_6,'V187':opcion_6,'V190':opcion_6,'V199':opcion_6,\n",
        "            'V200':opcion_6,'V201':opcion_6,'V222':opcion_6,'V228':opcion_6,'V230':opcion_6,'V243':opcion_6,'V257':opcion_6,'V258':opcion_6,\n",
        "            'V259':opcion_6\n",
        "            }"
      ],
      "execution_count": 9,
      "outputs": []
    },
    {
      "cell_type": "code",
      "metadata": {
        "id": "PVtN84cuA_IF"
      },
      "source": [
        "def llenarValores(df):  #para usar el countVectorizer no puede haber nans en las columnas\n",
        "  values = {'id_30':'Desconocido','id_33':'0'}\n",
        "  df.fillna(value=values,inplace=True)\n",
        "\n",
        "def pixeles_ancho(x):\n",
        "  if x == '0':\n",
        "    return 0\n",
        "  n = 0\n",
        "  for c in x:\n",
        "    if c == \"x\":\n",
        "      break\n",
        "    n += 1\n",
        "  valor_ancho = x[:n]\n",
        "  return int(valor_ancho)\n",
        "\n",
        "def pixeles_alto(x):\n",
        "  if x == '0':\n",
        "    return 0\n",
        "  n = 0\n",
        "  for c in x:\n",
        "    if c == \"x\":\n",
        "      break\n",
        "    n += 1\n",
        "  valor_alto = x[n+1:]\n",
        "  return int(valor_alto)"
      ],
      "execution_count": 10,
      "outputs": []
    },
    {
      "cell_type": "code",
      "metadata": {
        "id": "Fm-g8GFW7B3j"
      },
      "source": [
        "llenarValores(df_train)\n",
        "df_train['ancho_pantalla'] = df_train['id_33'].transform(pixeles_ancho)\n",
        "df_train['alto_pantalla'] = df_train['id_33'].transform(pixeles_alto)"
      ],
      "execution_count": 11,
      "outputs": []
    },
    {
      "cell_type": "code",
      "metadata": {
        "id": "oL8fJi3Tergl"
      },
      "source": [
        "df_train = df_train.sort_values('TransactionDT',ascending=True)\n",
        "df_train.drop(columns=['TransactionID'], inplace=True)"
      ],
      "execution_count": 12,
      "outputs": []
    },
    {
      "cell_type": "code",
      "metadata": {
        "id": "MqzKdjfhlNp7"
      },
      "source": [
        "df_train = df_train[columnas_a_utilizar]\n",
        "limite = int(len(df_train)*0.7)\n",
        "\n",
        "train = df_train[:limite]\n",
        "test = df_train[limite:]"
      ],
      "execution_count": 14,
      "outputs": []
    },
    {
      "cell_type": "code",
      "metadata": {
        "id": "AZOypfei23rj"
      },
      "source": [
        "top_7 = ['chrome 63.0', 'mobile safari 11.0', 'mobile safari generic',\n",
        "       'ie 11.0 for desktop', 'safari generic', 'chrome 62.0', 'chrome 65.0']\n",
        "\n",
        "df_aux = df_train\n",
        "df_aux['id_31'] = df_train['id_31'].transform(lambda x: 'otro' if x not in top_7 else x)\n",
        "df_aux = df_aux.groupby('id_31')['isFraud'].agg({'mean'})\n",
        "df_aux = df_aux.reset_index()\n",
        "\n",
        "top_8_id_31 = {}\n",
        "for i in range(len(df_aux)):\n",
        "  top_8_id_31[df_aux.loc[i,\"id_31\"]] = df_aux.loc[i,\"mean\"]\n",
        "\n",
        "del df_aux\n",
        "\n",
        "#----------------------------------------------------------\n",
        "\n",
        "df_aux = df_train.groupby('card4')['isFraud'].agg({'mean'})\n",
        "df_aux = df_aux.reset_index()\n",
        "df_aux\n",
        "diccionario_mean_card4_target = {}\n",
        "for i in range(len(df_aux)):\n",
        "   diccionario_mean_card4_target[df_aux.loc[i,\"card4\"]] = df_aux.loc[i,\"mean\"]\n",
        "\n",
        "del df_aux"
      ],
      "execution_count": 15,
      "outputs": []
    },
    {
      "cell_type": "code",
      "metadata": {
        "id": "1mPf-Cz8daai"
      },
      "source": [
        "Y_train = train['isFraud']\n",
        "X_train = train.drop(columns=['isFraud']) \n",
        "del train\n",
        "\n",
        "Y_test = test['isFraud']\n",
        "X_test = test.drop(columns=['isFraud'])\n",
        "del test"
      ],
      "execution_count": 16,
      "outputs": []
    },
    {
      "cell_type": "markdown",
      "metadata": {
        "id": "V4ClKOb2D889"
      },
      "source": [
        "# Encodings"
      ]
    },
    {
      "cell_type": "markdown",
      "metadata": {
        "id": "ByOVHO6v6-ny"
      },
      "source": [
        "Para el feature engineering debe utilizarse imputación de nulos, mean encoding y\n",
        "one hot encoding al menos una vez cada uno.\n",
        "\n",
        "● Deben utilizar al menos 80 features (contando cómo features columnas con\n",
        "números, pueden venir varios de la misma variable).\n",
        "\n",
        "● Deben utilizar las columnas: id_31, id_33, DeviceType, DeviceInfo.\n",
        "\n",
        "● Deben utilizar CountVectorizer o TfIdfVectorizer para algún feature.\n",
        "Deberán contestar la siguiente pregunta:"
      ]
    },
    {
      "cell_type": "code",
      "metadata": {
        "id": "hxbbkDvSlNx0"
      },
      "source": [
        "diccionario_mean = {}\n",
        "def crear_diccionario_mean(columnas):\n",
        "  for columna in columnas:\n",
        "    valor = X_train[columna].agg('mean')\n",
        "    diccionario_mean[columna] = valor\n",
        "\n",
        "def rellenar_mean(df,columnas, dict):\n",
        "  for columna in columnas:\n",
        "    valor = dict[columna]\n",
        "    df[columna].fillna(value=valor, inplace=True)\n",
        "\n",
        "\n",
        "def transformar_columnas(df, columnas, dict):\n",
        "  for columna in columnas:\n",
        "    valores = dict[columna]\n",
        "    df[columna].transform(lambda x: x if x in valores else -1)\n",
        "    \n",
        "crear_diccionario_mean(columnas_para_mean)\n",
        "\n",
        "#---------------------------------------------------------------\n",
        "\n",
        "vectorizer_id_30 = CountVectorizer()\n",
        "X = vectorizer_id_30.fit_transform(X_train['id_30'])\n",
        "#vectorizer.get_feature_names_out()#[25:] #a partir de la pos 25 tengo datos utiles\n",
        "\n",
        "indice_X_train = X_train.index\n",
        "indice_X_test = X_test.index\n",
        "\n",
        "def auxiliar_id_30(datos, vectorizer, n, indice):  \n",
        "  lista_aux = vectorizer.get_feature_names_out()[n:]\n",
        "  matriz = datos.toarray()\n",
        "  valores_aux = []\n",
        "  for j in range(len(matriz)):\n",
        "    valores_aux.append(matriz[j][n:])\n",
        "  df = pd.DataFrame(valores_aux, columns=lista_aux)\n",
        "  df['index'] = indice\n",
        "  df.set_index('index',inplace=True)\n",
        "  df.index.name = None\n",
        "  return df\n",
        "\n",
        "def transformar_id_30(df, vectorizer, n, indices):\n",
        "  datos = vectorizer.transform(df)\n",
        "  df_aux = auxiliar_id_30(datos,vectorizer,n, indices)\n",
        "  return df_aux\n",
        "\n",
        "\n",
        "X_train_id_30 = auxiliar_id_30(X,vectorizer_id_30,25,indice_X_train)\n",
        "X = None\n",
        "#X_train_id_30\n",
        "#vectorizer_id_30.vocabulary_\n",
        "\n",
        "#------------------------------------------------------------------\n",
        "\n",
        "one_hot_encoder = ce.OneHotEncoder(cols=categoricas_oneHot ,handle_unknown='return_nan',return_df=True, use_cat_names=True)\n",
        "\n",
        "def one_hot_enconding(df_train, encoder):\n",
        "  one_hot_encoded = encoder.fit_transform(df_train)\n",
        "  return one_hot_encoded\n",
        "\n",
        "#--------------------------------------------------------------------\n",
        "\n",
        "def transformar_mean_encoding_card4(x):\n",
        "  try:\n",
        "    valor = diccionario_mean_card4_target[x]\n",
        "  except:\n",
        "    return 0\n",
        "  return valor\n",
        "\n",
        "def transformar_mean_encoding_id_31(x):\n",
        "  try:\n",
        "    valor = top_8_id_31[x]\n",
        "  except:\n",
        "    return 0\n",
        "  return valor\n",
        "\n",
        "def mean_encoding(df):\n",
        "  df['mean_id_31'] = df['id_31'].transform(transformar_mean_encoding_id_31)\n",
        "  df['mean_card4'] = df['card4'].transform(transformar_mean_encoding_card4)\n",
        "\n",
        "#--------------------------------------------------------------------\n",
        "\n",
        "def convertirBooleano_aux(x):\n",
        "  if (x == 'T') or (x == 'Found'):\n",
        "    return 1\n",
        "  elif (x == 'F') or (x == 'Not found'):\n",
        "    return 0\n",
        "  return -1\n",
        "\n",
        "def convertirBoleanoo(df, columnas):\n",
        "  for columna in columnas:\n",
        "    columna_encodeada = df[columna].transform(convertirBooleano_aux)      \n",
        "    df[columna] = columna_encodeada\n",
        "\n",
        "#-------------------------------------------------------------------\n",
        "\n",
        "BinaryEncoder = ce.BinaryEncoder()\n",
        "def binary_encoder(df_train, encoder):\n",
        "  BinaryEncodeing = encoder.fit_transform(df_train[categoricas_binary])\n",
        "  df_train = pd.concat([df_train, BinaryEncodeing], axis=1)\n",
        "  df_train.drop(columns=categoricas_binary,inplace=True)\n",
        "  del BinaryEncodeing\n",
        "  return df_train\n",
        "\n",
        "def encodeo_binario(df, columnas):  \n",
        "  aux = df[columnas]\n",
        "  aux = BinaryEncoder.transform(aux, override_return_df=True)\n",
        "  df = pd.concat([df, aux], axis=1)\n",
        "  df.drop(columns=categoricas_binary, inplace=True)\n",
        "  del aux\n",
        "  return df"
      ],
      "execution_count": 20,
      "outputs": []
    },
    {
      "cell_type": "code",
      "metadata": {
        "id": "P_UFKBKxDmaj"
      },
      "source": [
        "X_test_id_30 = transformar_id_30(X_test['id_30'], vectorizer_id_30, 25,indice_X_test)\n",
        "\n",
        "#-----------------------------------------------------------------------\n",
        "\n",
        "mean_encoding(X_train)\n",
        "mean_encoding(X_test)\n",
        "\n",
        "#-----------------------------------------------------------------------\n",
        "\n",
        "convertirBoleanoo(X_train, categoricas_booleanas)\n",
        "convertirBoleanoo(X_test, categoricas_booleanas)\n",
        "\n",
        "#-----------------------------------------------------------------------\n",
        "\n",
        "X_train = one_hot_enconding(X_train, one_hot_encoder)\n",
        "X_test = one_hot_encoder.transform(X_test, override_return_df=True)\n",
        "\n",
        "#-----------------------------------------------------------------------\n",
        "\n",
        "X_train = binary_encoder(X_train, BinaryEncoder)\n",
        "X_test = encodeo_binario(X_test, categoricas_binary)\n",
        "\n",
        "#-----------------------------------------------------------------------\n",
        "\n",
        "X_train = X_train.merge(X_train_id_30, left_index=True,right_index=True)\n",
        "X_test = X_test.merge(X_test_id_30, left_index=True,right_index=True)\n",
        "\n",
        "del X_test_id_30\n",
        "del X_train_id_30\n",
        "\n",
        "#-----------------------------------------------------------------------\n",
        "\n",
        "rellenar_mean(X_train, columnas_para_mean, diccionario_mean)\n",
        "rellenar_mean(X_test, columnas_para_mean, diccionario_mean)\n",
        "\n",
        "transformar_columnas(X_train, columnas_con_pocos_valores,diccionario_para_rellenar)\n",
        "transformar_columnas(X_test, columnas_con_pocos_valores,diccionario_para_rellenar)\n",
        "\n",
        "X_train.fillna(value=-1, inplace=True)\n",
        "X_test.fillna(value=-1, inplace=True)\n"
      ],
      "execution_count": 22,
      "outputs": []
    },
    {
      "cell_type": "markdown",
      "metadata": {
        "id": "CHGu9Sm_EDK_"
      },
      "source": [
        "# Modelo"
      ]
    },
    {
      "cell_type": "code",
      "metadata": {
        "id": "PWqW4ODUU_8n",
        "colab": {
          "base_uri": "https://localhost:8080/"
        },
        "outputId": "118fada1-3ca7-45ca-93de-ac76f9e5ec2c"
      },
      "source": [
        "def mostrar_metricas(y_test, y_pred, y_pred_proba):\n",
        "    print('Reporte de clasificación: \\n', classification_report(y_test, y_pred))\n",
        "    print('Matriz de confusión: \\n',confusion_matrix(y_test, y_pred))\n",
        "    print('ROC: \\n', roc_auc_score(y_test, y_pred_proba))\n",
        "\n",
        "    matrix = confusion_matrix (y_test, y_pred) \n",
        "    matrix = matrix.astype ('float') / matrix.sum (axis = 1) [:, np.newaxis] \n",
        "\n",
        "    plt.figure()\n",
        "    sns.set(font_scale=1.4)\n",
        "    sns.heatmap(matrix, annot=True, annot_kws={'size':10},cmap=plt.cm.Greens, linewidths=0.2)\n",
        "    plt.xlabel('Predicción')\n",
        "    plt.ylabel('Target')\n",
        "    plt.title('Matriz de confusión')\n",
        "    plt.show()\n",
        "\n",
        "xgb = XGBClassifier(learning_rate=0.1, n_estimators=50, max_depth=10,\n",
        "                    min_child_weight=3, gamma=0.2, subsample=0.6, colsample_bytree=0.3,\n",
        "                    objective='binary:logistic', nthread=4, scale_pos_weight=1, seed=12)\n",
        "\n",
        "xgb.fit(X_train.values, Y_train.values, eval_metric='auc')"
      ],
      "execution_count": 26,
      "outputs": [
        {
          "output_type": "execute_result",
          "data": {
            "text/plain": [
              "XGBClassifier(colsample_bytree=0.3, gamma=0.2, max_depth=10, min_child_weight=3,\n",
              "              n_estimators=50, nthread=4, seed=12, subsample=0.6)"
            ]
          },
          "metadata": {},
          "execution_count": 26
        }
      ]
    },
    {
      "cell_type": "code",
      "metadata": {
        "id": "AGzZRo77mmtB",
        "colab": {
          "base_uri": "https://localhost:8080/",
          "height": 667
        },
        "outputId": "9c177538-68c2-4c58-b52d-653abea29cff"
      },
      "source": [
        "score_train = roc_auc_score(Y_train.values, xgb.predict_proba(X_train.values)[:,1])\n",
        "score_test = roc_auc_score(Y_test.values, xgb.predict_proba(X_test.values)[:,1])\n",
        "print(\"scores para el train y test:\", score_train, score_test)\n",
        "\n",
        "mostrar_metricas(Y_test.values, xgb.predict(X_test.values), xgb.predict_proba(X_test.values)[:,1])\n"
      ],
      "execution_count": 27,
      "outputs": [
        {
          "output_type": "stream",
          "name": "stdout",
          "text": [
            "scores para el train y test: 0.9340791542998426 0.88860387411102\n",
            "Reporte de clasificación: \n",
            "               precision    recall  f1-score   support\n",
            "\n",
            "           0       0.98      1.00      0.99    171037\n",
            "           1       0.84      0.30      0.44      6125\n",
            "\n",
            "    accuracy                           0.97    177162\n",
            "   macro avg       0.91      0.65      0.71    177162\n",
            "weighted avg       0.97      0.97      0.97    177162\n",
            "\n",
            "Matriz de confusión: \n",
            " [[170685    352]\n",
            " [  4305   1820]]\n",
            "ROC: \n",
            " 0.88860387411102\n"
          ]
        },
        {
          "output_type": "display_data",
          "data": {
            "image/png": "[encoded data removed]",
            "text/plain": [
              "<Figure size 2000x1000 with 2 Axes>"
            ]
          },
          "metadata": {}
        }
      ]
    },
    {
      "cell_type": "code",
      "metadata": {
        "id": "bobB9I3JdXRf"
      },
      "source": [
        "def randomSearch(modelo, kfold=None):\n",
        "  \n",
        "  parameters = {'learning_rate': [0.1,0.2], \n",
        "                'max_depth': [5,7,10,15],\n",
        "                'min_child_weight': [3,5,7,15],\n",
        "                'n_estimators': [100,150,200],\n",
        "                \"gamma\"       : [0.2,0.4],\n",
        "                }\n",
        "\n",
        "  clf = RandomizedSearchCV(modelo, parameters, n_iter=50, cv = 2, verbose=100, random_state=7506) #no tuve tiempo para probar más combinaciones\n",
        "  search = clf.fit(X_train.values, Y_train.values)\n",
        "  print(search.best_params_)\n",
        "  return search.best_params_\n",
        "\n",
        "resultado = {'n_estimators': 100, 'min_child_weight': 7, 'max_depth': 15, 'learning_rate': 0.1, 'gamma': 0.4}\n",
        "\n",
        "#resultado = randomSearch(xgb)\n",
        "\n",
        "del xgb"
      ],
      "execution_count": 28,
      "outputs": []
    },
    {
      "cell_type": "code",
      "metadata": {
        "id": "D-yMoVZTL7x_",
        "colab": {
          "base_uri": "https://localhost:8080/",
          "height": 650
        },
        "outputId": "fda2b0f7-0e48-4955-f4b2-04c0b5634615"
      },
      "source": [
        "resultado = {'n_estimators': 150, 'min_child_weight': 5, 'max_depth': 15, 'learning_rate': 0.1, 'gamma': 0.2}\n",
        "#es lo que me devolvió el random search\n",
        "\n",
        "n_estimators_best = resultado['n_estimators']\n",
        "min_child_weight_best = resultado['min_child_weight']\n",
        "max_depth_best = resultado['max_depth']\n",
        "learning_rate_best= resultado['learning_rate']\n",
        "gamma_best = resultado['gamma']\n",
        "\n",
        "def best_intento():\n",
        "  xgb_tuneado = XGBClassifier(learning_rate=learning_rate_best, n_estimators=n_estimators_best, max_depth=max_depth_best,\n",
        "                      min_child_weight=min_child_weight_best, gamma=gamma_best, subsample=0.6, colsample_bytree=0.3,\n",
        "                      objective='binary:logistic', nthread=4, scale_pos_weight=1, seed=12)\n",
        "\n",
        "  xgb_tuneado.fit(X_train.values, Y_train.values, eval_metric='auc')\n",
        "  mostrar_metricas(Y_test.values, xgb_tuneado.predict(X_test.values), xgb_tuneado.predict_proba(X_test.values)[:,1])\n",
        "  return xgb_tuneado\n",
        "best_model = best_intento()"
      ],
      "execution_count": 29,
      "outputs": [
        {
          "output_type": "stream",
          "name": "stdout",
          "text": [
            "Reporte de clasificación: \n",
            "               precision    recall  f1-score   support\n",
            "\n",
            "           0       0.98      1.00      0.99    171037\n",
            "           1       0.82      0.33      0.47      6125\n",
            "\n",
            "    accuracy                           0.97    177162\n",
            "   macro avg       0.90      0.66      0.73    177162\n",
            "weighted avg       0.97      0.97      0.97    177162\n",
            "\n",
            "Matriz de confusión: \n",
            " [[170603    434]\n",
            " [  4090   2035]]\n",
            "ROC: \n",
            " 0.9047775073850234\n"
          ]
        },
        {
          "output_type": "display_data",
          "data": {
            "image/png": "[encoded data removed]",
            "text/plain": [
              "<Figure size 2000x1000 with 2 Axes>"
            ]
          },
          "metadata": {}
        }
      ]
    },
    {
      "cell_type": "markdown",
      "metadata": {
        "id": "Nyf7GVCEMtDO"
      },
      "source": [
        "# Importancia de los features"
      ]
    },
    {
      "cell_type": "code",
      "metadata": {
        "id": "jbRzsapBuHnP",
        "colab": {
          "base_uri": "https://localhost:8080/",
          "height": 0
        },
        "outputId": "72ded0cc-c40e-4616-98c2-12d487a31ffc"
      },
      "source": [
        "indices = []\n",
        "valores = []\n",
        "promedio = 0\n",
        "importance = best_model.feature_importances_\n",
        "\n",
        "for elemento in importance:\n",
        "\tpromedio += elemento\n",
        "promedio = promedio/len(importance)\n",
        "\n",
        "print(\"El promedio es\", promedio)\n",
        "\n",
        "for i,v in enumerate(importance):\n",
        "\tif abs(v) > promedio: #0.006 \n",
        "\t\tindices.append(X_train.columns[i])\n",
        "\t\tvalores.append(v)\n",
        "\n",
        "\n",
        "df = pd.DataFrame({'indice': indices, 'value': valores})\n",
        "df.set_index('indice',inplace=True)\n",
        "df.plot(kind = 'bar', figsize = (10, 5),  title = \"Features más importantes\")\n",
        "plt.xlabel('Feature', fontsize= 12)\n",
        "plt.ylabel(\"Importancia\", fontsize= 12)"
      ],
      "execution_count": 30,
      "outputs": [
        {
          "output_type": "stream",
          "name": "stdout",
          "text": [
            "El promedio es 0.004385964923513759\n"
          ]
        },
        {
          "output_type": "execute_result",
          "data": {
            "text/plain": [
              "Text(0, 0.5, 'Importancia')"
            ]
          },
          "metadata": {},
          "execution_count": 30
        },
        {
          "output_type": "display_data",
          "data": {
            "image/png": "[encoded data removed]",
            "text/plain": [
              "<Figure size 1000x500 with 1 Axes>"
            ]
          },
          "metadata": {}
        }
      ]
    },
    {
      "cell_type": "markdown",
      "metadata": {
        "id": "GehCrFpx68GY"
      },
      "source": [
        "# Test"
      ]
    },
    {
      "cell_type": "code",
      "metadata": {
        "id": "-5AMovMrpa4S"
      },
      "source": [
        "del X_train\n",
        "del X_test"
      ],
      "execution_count": 31,
      "outputs": []
    },
    {
      "cell_type": "code",
      "metadata": {
        "id": "FjHH--Zy7EeG"
      },
      "source": [
        "id_test_identity ='1NxzemULNRkT-kqjYXeHV0gQmQK98NC1n'\n",
        "downloaded = drive.CreateFile({'id': id_test_identity})\n",
        "downloaded.GetContentFile('test_identity.csv')\n",
        "df_test_identity = pd.read_csv('test_identity.csv')\n",
        "\n",
        "id_test_transaction ='1y-MpYZTrnmzHMcVDPfYkpVFQetOy4zqN'\n",
        "downloaded = drive.CreateFile({'id': id_test_transaction})\n",
        "downloaded.GetContentFile('test_transaction.csv')\n",
        "df_test_transaction = pd.read_csv('test_transaction.csv')\n",
        "\n",
        "\n",
        "df_test = pd.merge(df_test_identity, df_test_transaction, how='outer',on='TransactionID')\n"
      ],
      "execution_count": 32,
      "outputs": []
    },
    {
      "cell_type": "code",
      "metadata": {
        "id": "P_YAzVaCpLpE"
      },
      "source": [
        "df_test.set_index('TransactionID',inplace=True)\n",
        "df_test.columns = df_test.columns.str.replace(\"id-\",\"id_\")\n",
        "\n",
        "del df_test_identity\n",
        "del df_test_transaction\n"
      ],
      "execution_count": 33,
      "outputs": []
    },
    {
      "cell_type": "code",
      "metadata": {
        "id": "9MYvOHIe7UPX"
      },
      "source": [
        "columnas_a_utilizar.remove('isFraud')\n",
        "\n",
        "llenarValores(df_test)\n",
        "df_test['ancho_pantalla'] = df_test['id_33'].transform(pixeles_ancho)\n",
        "df_test['alto_pantalla'] = df_test['id_33'].transform(pixeles_alto)\n",
        "\n",
        "indice_X_test = df_test.index\n",
        "\n",
        "df_test = df_test[columnas_a_utilizar]\n",
        "\n",
        "df_test_id_30 = transformar_id_30(df_test['id_30'], vectorizer_id_30, 25,indice_X_test)\n",
        "\n",
        "mean_encoding(df_test)\n",
        "\n",
        "convertirBoleanoo(df_test, categoricas_booleanas)\n",
        "\n",
        "df_test = one_hot_encoder.transform(df_test, override_return_df=True)\n",
        "df_test = encodeo_binario(df_test, categoricas_binary)\n",
        "df_test = df_test.merge(df_test_id_30, left_index=True,right_index=True)\n",
        "\n",
        "del df_test_id_30\n",
        "\n",
        "rellenar_mean(df_test, columnas_para_mean, diccionario_mean)\n",
        "transformar_columnas(df_test, columnas_con_pocos_valores,diccionario_para_rellenar)\n",
        "\n",
        "df_test.fillna(value=-1, inplace=True)"
      ],
      "execution_count": 34,
      "outputs": []
    },
    {
      "cell_type": "code",
      "metadata": {
        "id": "PemvDT8b7Uxj"
      },
      "source": [
        "from google.colab import files\n",
        "prediccion = best_model.predict_proba(df_test.values)[:,1]"
      ],
      "execution_count": 35,
      "outputs": []
    },
    {
      "cell_type": "code",
      "metadata": {
        "id": "1cmUYSXmcj5S",
        "colab": {
          "base_uri": "https://localhost:8080/",
          "height": 455
        },
        "outputId": "a72c6664-94d8-4b0f-cc65-869625839075"
      },
      "source": [
        "def generarResultado(df,prediccion):\n",
        "    df.index.rename('TransactionID',inplace=True)\n",
        "    df['isFraud'] = prediccion\n",
        "    resultado = df[['isFraud']]\n",
        "    resultado.to_csv('resultadoXGB.csv')\n",
        "    files.download('resultadoXGB.csv')\n",
        "    return resultado\n",
        "\n",
        "prediccion = generarResultado(df_test,prediccion)\n",
        "\n",
        "prediccion"
      ],
      "execution_count": 36,
      "outputs": [
        {
          "output_type": "display_data",
          "data": {
            "application/javascript": [
              "\n",
              "    async function download(id, filename, size) {\n",
              "      if (!google.colab.kernel.accessAllowed) {\n",
              "        return;\n",
              "      }\n",
              "      const div = document.createElement('div');\n",
              "      const label = document.createElement('label');\n",
              "      label.textContent = `Downloading \"${filename}\": `;\n",
              "      div.appendChild(label);\n",
              "      const progress = document.createElement('progress');\n",
              "      progress.max = size;\n",
              "      div.appendChild(progress);\n",
              "      document.body.appendChild(div);\n",
              "\n",
              "      const buffers = [];\n",
              "      let downloaded = 0;\n",
              "\n",
              "      const channel = await google.colab.kernel.comms.open(id);\n",
              "      // Send a message to notify the kernel that we're ready.\n",
              "      channel.send({})\n",
              "\n",
              "      for await (const message of channel.messages) {\n",
              "        // Send a message to notify the kernel that we're ready.\n",
              "        channel.send({})\n",
              "        if (message.buffers) {\n",
              "          for (const buffer of message.buffers) {\n",
              "            buffers.push(buffer);\n",
              "            downloaded += buffer.byteLength;\n",
              "            progress.value = downloaded;\n",
              "          }\n",
              "        }\n",
              "      }\n",
              "      const blob = new Blob(buffers, {type: 'application/binary'});\n",
              "      const a = document.createElement('a');\n",
              "      a.href = window.URL.createObjectURL(blob);\n",
              "      a.download = filename;\n",
              "      div.appendChild(a);\n",
              "      a.click();\n",
              "      div.remove();\n",
              "    }\n",
              "  "
            ],
            "text/plain": [
              "<IPython.core.display.Javascript object>"
            ]
          },
          "metadata": {}
        },
        {
          "output_type": "display_data",
          "data": {
            "application/javascript": [
              "download(\"download_ad8065d7-2880-430c-b96f-1d3e24f26e44\", \"resultadoXGB.csv\", 10366154)"
            ],
            "text/plain": [
              "<IPython.core.display.Javascript object>"
            ]
          },
          "metadata": {}
        },
        {
          "output_type": "execute_result",
          "data": {
            "text/html": [
              "<div>\n",
              "<style scoped>\n",
              "    .dataframe tbody tr th:only-of-type {\n",
              "        vertical-align: middle;\n",
              "    }\n",
              "\n",
              "    .dataframe tbody tr th {\n",
              "        vertical-align: top;\n",
              "    }\n",
              "\n",
              "    .dataframe thead th {\n",
              "        text-align: right;\n",
              "    }\n",
              "</style>\n",
              "<table border=\"1\" class=\"dataframe\">\n",
              "  <thead>\n",
              "    <tr style=\"text-align: right;\">\n",
              "      <th></th>\n",
              "      <th>isFraud</th>\n",
              "    </tr>\n",
              "    <tr>\n",
              "      <th>TransactionID</th>\n",
              "      <th></th>\n",
              "    </tr>\n",
              "  </thead>\n",
              "  <tbody>\n",
              "    <tr>\n",
              "      <th>3663586</th>\n",
              "      <td>0.01</td>\n",
              "    </tr>\n",
              "    <tr>\n",
              "      <th>3663588</th>\n",
              "      <td>0.03</td>\n",
              "    </tr>\n",
              "    <tr>\n",
              "      <th>3663597</th>\n",
              "      <td>0.00</td>\n",
              "    </tr>\n",
              "    <tr>\n",
              "      <th>3663601</th>\n",
              "      <td>0.01</td>\n",
              "    </tr>\n",
              "    <tr>\n",
              "      <th>3663602</th>\n",
              "      <td>0.15</td>\n",
              "    </tr>\n",
              "    <tr>\n",
              "      <th>...</th>\n",
              "      <td>...</td>\n",
              "    </tr>\n",
              "    <tr>\n",
              "      <th>4170231</th>\n",
              "      <td>0.02</td>\n",
              "    </tr>\n",
              "    <tr>\n",
              "      <th>4170232</th>\n",
              "      <td>0.00</td>\n",
              "    </tr>\n",
              "    <tr>\n",
              "      <th>4170235</th>\n",
              "      <td>0.01</td>\n",
              "    </tr>\n",
              "    <tr>\n",
              "      <th>4170237</th>\n",
              "      <td>0.00</td>\n",
              "    </tr>\n",
              "    <tr>\n",
              "      <th>4170238</th>\n",
              "      <td>0.01</td>\n",
              "    </tr>\n",
              "  </tbody>\n",
              "</table>\n",
              "<p>506691 rows × 1 columns</p>\n",
              "</div>"
            ],
            "text/plain": [
              "                           isFraud\n",
              "TransactionID                     \n",
              "3663586                       0.01\n",
              "3663588                       0.03\n",
              "3663597                       0.00\n",
              "3663601                       0.01\n",
              "3663602                       0.15\n",
              "...                            ...\n",
              "4170231                       0.02\n",
              "4170232                       0.00\n",
              "4170235                       0.01\n",
              "4170237                       0.00\n",
              "4170238                       0.01\n",
              "\n",
              "[506691 rows x 1 columns]"
            ]
          },
          "metadata": {},
          "execution_count": 36
        }
      ]
    }
  ]
}