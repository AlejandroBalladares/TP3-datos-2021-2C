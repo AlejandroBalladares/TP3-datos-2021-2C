{
  "nbformat": 4,
  "nbformat_minor": 0,
  "metadata": {
    "colab": {
      "name": "TP3-2C-2021-parte-3-RandomForest.ipynb",
      "provenance": [],
      "collapsed_sections": []
    },
    "kernelspec": {
      "display_name": "Python 3",
      "language": "python",
      "name": "python3"
    },
    "language_info": {
      "codemirror_mode": {
        "name": "ipython",
        "version": 3
      },
      "file_extension": ".py",
      "mimetype": "text/x-python",
      "name": "python",
      "nbconvert_exporter": "python",
      "pygments_lexer": "ipython3",
      "version": "3.8.2"
    }
  },
  "cells": [
    {
      "cell_type": "markdown",
      "metadata": {
        "id": "FrKngFDmRYb3"
      },
      "source": [
        "# TP3 Alejandro balladares 101118"
      ]
    },
    {
      "cell_type": "code",
      "metadata": {
        "colab": {
          "base_uri": "https://localhost:8080/"
        },
        "id": "vtM7yiuO6gi8",
        "outputId": "169dbfd2-3008-43d2-f3c5-054789b18e4a"
      },
      "source": [
        "!pip install category_encoders"
      ],
      "execution_count": 1,
      "outputs": [
        {
          "output_type": "stream",
          "name": "stdout",
          "text": [
            "Requirement already satisfied: category_encoders in /usr/local/lib/python3.7/dist-packages (2.3.0)\n",
            "Requirement already satisfied: patsy>=0.5.1 in /usr/local/lib/python3.7/dist-packages (from category_encoders) (0.5.2)\n",
            "Requirement already satisfied: scipy>=1.0.0 in /usr/local/lib/python3.7/dist-packages (from category_encoders) (1.4.1)\n",
            "Requirement already satisfied: scikit-learn>=0.20.0 in /usr/local/lib/python3.7/dist-packages (from category_encoders) (1.0.1)\n",
            "Requirement already satisfied: statsmodels>=0.9.0 in /usr/local/lib/python3.7/dist-packages (from category_encoders) (0.10.2)\n",
            "Requirement already satisfied: numpy>=1.14.0 in /usr/local/lib/python3.7/dist-packages (from category_encoders) (1.19.5)\n",
            "Requirement already satisfied: pandas>=0.21.1 in /usr/local/lib/python3.7/dist-packages (from category_encoders) (1.1.5)\n",
            "Requirement already satisfied: python-dateutil>=2.7.3 in /usr/local/lib/python3.7/dist-packages (from pandas>=0.21.1->category_encoders) (2.8.2)\n",
            "Requirement already satisfied: pytz>=2017.2 in /usr/local/lib/python3.7/dist-packages (from pandas>=0.21.1->category_encoders) (2018.9)\n",
            "Requirement already satisfied: six in /usr/local/lib/python3.7/dist-packages (from patsy>=0.5.1->category_encoders) (1.15.0)\n",
            "Requirement already satisfied: joblib>=0.11 in /usr/local/lib/python3.7/dist-packages (from scikit-learn>=0.20.0->category_encoders) (1.1.0)\n",
            "Requirement already satisfied: threadpoolctl>=2.0.0 in /usr/local/lib/python3.7/dist-packages (from scikit-learn>=0.20.0->category_encoders) (3.0.0)\n"
          ]
        }
      ]
    },
    {
      "cell_type": "code",
      "metadata": {
        "id": "mQDwnOebRYb5"
      },
      "source": [
        "import pandas as pd\n",
        "import numpy as np\n",
        "import matplotlib.pyplot as plt\n",
        "import seaborn as sns\n",
        "\n",
        "%matplotlib inline\n",
        "plt.style.use('default')\n",
        "plt.rcParams['figure.figsize'] = (20, 10)\n",
        "sns.set(style=\"whitegrid\") \n",
        "\n",
        "pd.options.display.float_format = '{:20,.2f}'.format \n",
        "\n",
        "import warnings\n",
        "warnings.filterwarnings('ignore')\n",
        "\n",
        "from IPython.display import display\n",
        "pd.options.display.max_columns = None\n",
        "\n",
        "from sklearn.metrics import classification_report, accuracy_score, roc_auc_score, ConfusionMatrixDisplay, confusion_matrix\n",
        "from sklearn.ensemble import RandomForestClassifier\n",
        "from sklearn.model_selection import RandomizedSearchCV\n",
        "import category_encoders as ce\n",
        "from sklearn.feature_extraction.text import CountVectorizer"
      ],
      "execution_count": 2,
      "outputs": []
    },
    {
      "cell_type": "code",
      "metadata": {
        "id": "lWuJC79eO79n"
      },
      "source": [
        "from pydrive.auth import GoogleAuth\n",
        "from pydrive.drive import GoogleDrive\n",
        "from google.colab import auth\n",
        "from oauth2client.client import GoogleCredentials"
      ],
      "execution_count": 3,
      "outputs": []
    },
    {
      "cell_type": "code",
      "metadata": {
        "id": "RhORHjivO_ko"
      },
      "source": [
        "auth.authenticate_user()\n",
        "gauth = GoogleAuth()\n",
        "gauth.credentials = GoogleCredentials.get_application_default()\n",
        "drive = GoogleDrive(gauth)"
      ],
      "execution_count": 4,
      "outputs": []
    },
    {
      "cell_type": "code",
      "metadata": {
        "id": "_fYkUgGzJ7aS"
      },
      "source": [
        "#1Jd247D2BPj4ry7kpzK71fMtnyzOYa9M_\n",
        "id_train_identity = '1Jd247D2BPj4ry7kpzK71fMtnyzOYa9M_'\n",
        "downloaded = drive.CreateFile({'id': id_train_identity})\n",
        "downloaded.GetContentFile('train_identity.csv')\n",
        "\n",
        "df_train_identity = pd.read_csv('train_identity.csv')\n",
        "#df_train_identity.head().T"
      ],
      "execution_count": 5,
      "outputs": []
    },
    {
      "cell_type": "code",
      "metadata": {
        "id": "rmuG7MS9J7me"
      },
      "source": [
        "#\"1ToBfhZrshAHYsrW3FXVPxuPT-Vm5-8NB\"\n",
        "\n",
        "id_train_transaction = '1ToBfhZrshAHYsrW3FXVPxuPT-Vm5-8NB'\n",
        "downloaded = drive.CreateFile({'id': id_train_transaction})\n",
        "downloaded.GetContentFile('train_transaction.csv')\n",
        "\n",
        "df_train_transaction = pd.read_csv('train_transaction.csv')\n",
        "#df_train_transaction.head().T"
      ],
      "execution_count": 6,
      "outputs": []
    },
    {
      "cell_type": "markdown",
      "metadata": {
        "id": "ofUd71iGKpM_"
      },
      "source": [
        "# Parte III: Machine Learning (10 puntos)\n",
        "\n",
        "Entrenar 2 (de tipos distintos, excluyendo regresiones logísticas) modelos (5 puntos cada\n",
        "uno) con búsqueda de hiperparametros (¿cómo conviene elegir los datos de validación\n",
        "respecto de los de train?).\n",
        "\n",
        "Los modelos deben cumplir las siguientes condiciones:\n",
        "\n",
        "● Deben utilizar AUC-ROC como métrica de validación.\n",
        "\n",
        "● Deben medirse solo en validación, no contra la competencia.\n",
        "\n",
        "● Deben ser reproducibles (correr el notebook varias veces no afecta al resultado).\n",
        "\n",
        "● Deben tener un score en validación superior a 0,8.\n",
        "\n",
        "● Para el feature engineering debe utilizarse imputación de nulos, mean encoding y\n",
        "one hot encoding al menos una vez cada uno.\n",
        "\n",
        "● Deben utilizar al menos 80 features (contando cómo features columnas con\n",
        "números, pueden venir varios de la misma variable).\n",
        "\n",
        "● Deben utilizar las columnas: id_31, id_33, DeviceType, DeviceInfo.\n",
        "\n",
        "● Deben utilizar CountVectorizer o TfIdfVectorizer para algún feature.\n",
        "Deberán contestar la siguiente pregunta:\n",
        "\n",
        "● Para el mejor modelo de ambos, ¿cuál es el score en la competencia? (guardar el\n",
        "csv con predicciones para entregarlo después)\n",
        "\n",
        "\n",
        "-----------------------------------------------------\n",
        "\n",
        "Puntos extra (hasta 5)\n",
        "Estas consignas suman puntos extra por fuera de los necesarios para aprobar el TP,\n",
        "mientras más consignas extra realicen más puntos consiguen y menos va a depender su\n",
        "aprobación de que los puntos de arriba estén bien:\n",
        "\n",
        "● Entrenar una red neuronal con Keras que sea reproducible, usando al menos 80\n",
        "features, imputación de nulos, mean encoding, one hot encoding y un score en\n",
        "validación superior a 0,7. Debe ser un modelo por separado a los propuestos, no\n",
        "necesita búsqueda de hiper parámetros ni cumplir otra condición. ¿Cúal es su score\n",
        "en validación y en la competencia? (2 puntos)\n",
        "\n",
        "● Encontrar una relación interesante entre TimestampDT y el target con algún plot (½\n",
        "punto)\n",
        "\n",
        "● Graficar la importancia de features para algún modelo de la parte III. ¿Qué tanto se\n",
        "parece a los features importantes de la parte II? (1 punto)\n",
        "\n",
        "● Graficar la matriz de confusión para algún modelo de la parte III (½ punto)\n",
        "\n",
        "● Agregar una técnica de feature selection para algún modelo de la parte III (1 punto)\n"
      ]
    },
    {
      "cell_type": "markdown",
      "metadata": {
        "id": "kwCi8Kjm7WO_"
      },
      "source": [
        "# Criterios de correción\n",
        "\n",
        "Parte III\n",
        "Vamos a corregir los siguientes puntos en cada modelo de 5 puntos (a medida se acumulan\n",
        "estos pueden hacer que el modelo valga 0, pero nunca negativo):\n",
        "\n",
        "● Para cada modelo cada condición no cumplida (o mal hecha) resta 1 punto.\n",
        "\n",
        "● Feature engineering inapropiado para el modelo elegido (-2 puntos), ejemplos:\n",
        "features que no están normalizadas para una red neuronal, features sin ninguna\n",
        "consideración de escalas para un KNN, etc.\n",
        "\n",
        "● No buscan para todos los hiperparametros importantes.\n",
        "Además si un modelo diera un resultado menor a 0,6 en validación se invalida entero.\n",
        "Por sobre el puntaje total del ejercicio (ambos modelos) se restan 3 puntos si cualquiera de\n",
        "las siguientes cosas suceden (no acumulables): eligen mal el mejor modelo entre los dos o\n",
        "la predicción para la competencia no está bien hecha o la predicción en la competencia da\n",
        "menos de 0.5."
      ]
    },
    {
      "cell_type": "code",
      "metadata": {
        "id": "-dEgXQ9fGGYY"
      },
      "source": [
        "df_train = pd.merge(df_train_identity, df_train_transaction, how='outer',on='TransactionID')\n",
        "\n",
        "del df_train_identity\n",
        "del df_train_transaction\n",
        "\n",
        "#TransactionDT: timedelta from a given reference datetime (not an actual timestamp)\n",
        "#TransactionAMT: transaction payment amount in USD\n",
        "#ProductCD: product code, the product for each transaction\n",
        "#card1 - card6: payment card information, such as card type, card category, issue bank, country, etc.\n",
        "#addr: address\n",
        "#dist: distance\n",
        "#P_ and (R__) emaildomain: purchaser and recipient email domain\n",
        "#C1-C14: counting, such as how many addresses are found to be associated with the payment card, etc. The actual meaning is masked.\n",
        "#D1-D15: timedelta, such as days between previous transaction, etc.\n",
        "#M1-M9: match, such as names on card and address, etc.\n",
        "#Vxxx: Vesta engineered rich features, including ranking, counting, and other entity relation\n"
      ],
      "execution_count": 7,
      "outputs": []
    },
    {
      "cell_type": "markdown",
      "metadata": {
        "id": "bLL1x1TEInwq"
      },
      "source": [
        "# Armo los data sets"
      ]
    },
    {
      "cell_type": "code",
      "metadata": {
        "id": "y_NrSq8jLH7D"
      },
      "source": [
        "categoricas_booleanas = ['M1','M2','M3', 'M5','M6','M7','M8','M9','id_12','id_16', 'id_29', 'id_35','id_36','id_37','id_38'] #'id_27',\n",
        "categoricas_binary = ['P_emaildomain', 'R_emaildomain', 'id_30','id_31','DeviceInfo'] #'id_33', \n",
        "categoricas_oneHot = ['ProductCD', 'card4', 'card6', 'M4', 'id_15', 'id_28', 'id_34', 'DeviceType'] #'id_23', \n",
        "\n",
        "columnas_para_mean =['id_14',\t'id_17',\t'D2','D4','D8','D10',\t'D11'\t,'D15','V159','V203', 'V207','V263', 'V265','V267',\n",
        "                     'V268','V273', 'V275','V331', 'V333']\n",
        "\n",
        "columnas_con_pocos_valores = ['V15', 'V16','V17','V18','V21', 'V22', 'V31', 'V32','V33','V34','V37','V38','V39','V40','V42', 'V43','V44','V45','V47', \n",
        "                              'V50', 'V51', 'V52', 'V57', 'V58','V59','V60','V61', 'V63', 'V64', 'V71', 'V72', 'V73', 'V74','V77','V78' ,'V79',\n",
        "                              'V80','V81', 'V84', 'V85','V86','V87', 'V92', 'V93','V140',\n",
        "                              'V146','V147','V148','V149','V153', 'V154','V155','V156','V157','V158','V170','V171','V172','V176','V187','V188','V189',\n",
        "                              'V190','V197','V198','V199','V200','V201','V222','V223','V224','V228','V230','V242','V243','V244','V246','V247','V252',\n",
        "                              'V257','V258','V259','V262','V323'\n",
        "                              ]\n",
        "\n",
        "columnas_a_utilizar = ['id_12','id_14','id_15','id_16','id_17', 'id_28','id_29','id_30','id_31',#'id_33',\n",
        "                      'id_34', 'id_35','id_36','id_37','id_38',\n",
        "                      'TransactionAmt','card2', 'card3','card4','card5' ,'card6', 'addr1', 'addr2', 'dist1',\n",
        "                      'C7', 'C8', 'C11', 'C12', 'C13', 'C14',\n",
        "                      'D1', 'D2', 'D4', 'D8', 'D10', 'D11', 'D15',\n",
        "                      'V12', 'V15','V16','V17','V18','V21','V22','V31','V32','V33','V34','V37','V38','V39','V40','V42','V43','V44','V45','V47',\n",
        "                       'V50','V51','V52','V57','V58','V59','V60','V61','V63','V64','V71','V72','V73', 'V74','V77','V78','V79',\n",
        "                       'V80','V81','V84','V85','V86','V87','V92','V93','V94',\n",
        "                      'V130', 'V133','V140','V146','V147','V148', 'V149', 'V153', 'V154','V155','V156','V157','V158','V159','V163', \n",
        "                      'V170','V171','V172', 'V176','V187','V188','V189', 'V190', 'V197', 'V198','V199',\n",
        "                      'V200','V201', 'V203', 'V207','V222','V223', 'V224','V228','V230','V242','V243','V244','V246','V247','V252','V257','V258','V259',\n",
        "                      'V262', 'V263','V265',  'V266','V267',  'V268', 'V273','V275', 'V283', 'V294', 'V295',\n",
        "                      'V307', 'V308', 'V310', 'V317','V318', 'V323','V331','V333',   \n",
        "                      'M1','M2','M3','M4', 'M5','M6','M7','M8','M9',\n",
        "                      'P_emaildomain', 'R_emaildomain', 'DeviceInfo','ProductCD',  'DeviceType', 'isFraud','ancho_pantalla','alto_pantalla'\n",
        "                      ]\n",
        "\n",
        "opcion_1 = [0,1,2]\n",
        "opcion_2 = [0,1]\n",
        "opcion_3 = [1,2,3]\n",
        "opcion_4 = [1,2,3,4]\n",
        "opcion_5 = [1,2,3,4,5]\n",
        "opcion_6 = [0,1,2,3]\n",
        "\n",
        "diccionario_para_rellenar = {'V17':opcion_1,'V18':opcion_1,'V32':opcion_1,'V34':opcion_1,'V39':opcion_1,'V40':opcion_1,'V43':opcion_1,\n",
        "                             'V51':opcion_1,'V52':opcion_1,'V59':opcion_1,\n",
        "            'V60':opcion_1,'V74':opcion_1, 'V79':opcion_1,'V80':opcion_1,'V81':opcion_1,'V85':opcion_1,'V86':opcion_1,'V146':opcion_1,'V147':opcion_1,'V157':opcion_1,\n",
        "            'V158':opcion_1,'V188':opcion_1,'V189':opcion_1,'V197':opcion_1,'V224':opcion_1,'V262':opcion_1,'V323':opcion_1,\n",
        "            \n",
        "            'V15':opcion_2,'V16':opcion_2,'V21':opcion_2,'V22':opcion_2,'V31':opcion_2,'V33':opcion_2, 'V42':opcion_2,'V50':opcion_2,\n",
        "            'V57':opcion_2, 'V58':opcion_2, 'V61':opcion_2, 'V63':opcion_2, 'V64':opcion_2,'V71':opcion_2, 'V72':opcion_2, 'V73':opcion_2,\n",
        "            'V84':opcion_2, 'V92':opcion_2,'V93':opcion_2,\n",
        "            'V148':opcion_2,'V149':opcion_2,'V153':opcion_2,'V154':opcion_2,'V155':opcion_2,'V156':opcion_2,'V172':opcion_2,'V198':opcion_2,'V223':opcion_2,\n",
        "            'V223':opcion_2,'V242':opcion_2,'V244':opcion_2,'V246':opcion_2,'V247':opcion_2,'V252':opcion_2,\n",
        "            \n",
        "            'V45':opcion_3,'V44':opcion_3,'V87':opcion_3,'V176':opcion_3,\n",
        "            'V37':opcion_4,\n",
        "            'V38':opcion_5,\n",
        "            \n",
        "            'V47':opcion_6,'V77':opcion_6,'V78':opcion_6,'V140':opcion_6,'V170':opcion_6,'V171':opcion_6,'V187':opcion_6,'V190':opcion_6,'V199':opcion_6,\n",
        "            'V200':opcion_6,'V201':opcion_6,'V222':opcion_6,'V228':opcion_6,'V230':opcion_6,'V243':opcion_6,'V257':opcion_6,'V258':opcion_6,\n",
        "            'V259':opcion_6\n",
        "            }"
      ],
      "execution_count": 8,
      "outputs": []
    },
    {
      "cell_type": "code",
      "metadata": {
        "id": "_IiFmFaBG_Mv"
      },
      "source": [
        "def llenarValores(df):  #para usar el countVectorizer no puede haber nans en las columnas\n",
        "  values = {'id_30':'Desconocido','id_33':'0'}\n",
        "  df.fillna(value=values,inplace=True)\n",
        "\n",
        "def pixeles_ancho(x):\n",
        "  if x == '0':\n",
        "    return 0\n",
        "  n = 0\n",
        "  for c in x:\n",
        "    if c == \"x\":\n",
        "      break\n",
        "    n += 1\n",
        "  valor_ancho = x[:n]\n",
        "  return int(valor_ancho)\n",
        "\n",
        "def pixeles_alto(x):\n",
        "  if x == '0':\n",
        "    return 0\n",
        "  n = 0\n",
        "  for c in x:\n",
        "    if c == \"x\":\n",
        "      break\n",
        "    n += 1\n",
        "  valor_alto = x[n+1:]\n",
        "  return int(valor_alto)"
      ],
      "execution_count": 9,
      "outputs": []
    },
    {
      "cell_type": "code",
      "metadata": {
        "id": "Nex5zeBOd2ZF"
      },
      "source": [
        "llenarValores(df_train)\n",
        "df_train['ancho_pantalla'] = df_train['id_33'].transform(pixeles_ancho)\n",
        "df_train['alto_pantalla'] = df_train['id_33'].transform(pixeles_alto)"
      ],
      "execution_count": 10,
      "outputs": []
    },
    {
      "cell_type": "code",
      "metadata": {
        "id": "ev1lFwgrjKXl"
      },
      "source": [
        "df_train = df_train.sort_values('TransactionDT',ascending=True)\n",
        "df_train.drop(columns=['TransactionID'], inplace=True)\n",
        "#primer valor = 86400 / ultimo valor = 15811131\t"
      ],
      "execution_count": 11,
      "outputs": []
    },
    {
      "cell_type": "code",
      "metadata": {
        "id": "DF_PmujojdtU"
      },
      "source": [
        "df_train = df_train[columnas_a_utilizar]\n",
        "limite = int(len(df_train)*0.7)\n",
        "\n",
        "train = df_train[:limite]\n",
        "test = df_train[limite:]"
      ],
      "execution_count": 12,
      "outputs": []
    },
    {
      "cell_type": "code",
      "metadata": {
        "id": "puMVWAjJd9b1"
      },
      "source": [
        "top_7 = ['chrome 63.0', 'mobile safari 11.0', 'mobile safari generic',\n",
        "       'ie 11.0 for desktop', 'safari generic', 'chrome 62.0', 'chrome 65.0']\n",
        "\n",
        "df_aux = df_train\n",
        "df_aux['id_31'] = df_train['id_31'].transform(lambda x: 'otro' if x not in top_7 else x)\n",
        "df_aux = df_aux.groupby('id_31')['isFraud'].agg({'mean'})\n",
        "df_aux = df_aux.reset_index()\n",
        "\n",
        "top_8_id_31 = {}\n",
        "for i in range(len(df_aux)):\n",
        "  top_8_id_31[df_aux.loc[i,\"id_31\"]] = df_aux.loc[i,\"mean\"]\n",
        "\n",
        "del df_aux\n",
        "\n",
        "#----------------------------------------------------------\n",
        "\n",
        "df_aux = df_train.groupby('card4')['isFraud'].agg({'mean'})\n",
        "df_aux = df_aux.reset_index()\n",
        "df_aux\n",
        "diccionario_mean_card4_target = {}\n",
        "for i in range(len(df_aux)):\n",
        "   diccionario_mean_card4_target[df_aux.loc[i,\"card4\"]] = df_aux.loc[i,\"mean\"]\n",
        "\n",
        "del df_aux"
      ],
      "execution_count": 13,
      "outputs": []
    },
    {
      "cell_type": "code",
      "metadata": {
        "id": "N82DHfhEhG2F"
      },
      "source": [
        "Y_train = train['isFraud']\n",
        "X_train = train.drop(columns=['isFraud']) \n",
        "del train\n",
        "\n",
        "Y_test = test['isFraud']\n",
        "X_test = test.drop(columns=['isFraud'])\n",
        "del test"
      ],
      "execution_count": 14,
      "outputs": []
    },
    {
      "cell_type": "markdown",
      "metadata": {
        "id": "V4ClKOb2D889"
      },
      "source": [
        "# Encodings"
      ]
    },
    {
      "cell_type": "markdown",
      "metadata": {
        "id": "ByOVHO6v6-ny"
      },
      "source": [
        "Para el feature engineering debe utilizarse imputación de nulos, mean encoding y\n",
        "one hot encoding al menos una vez cada uno.\n",
        "\n",
        "● Deben utilizar al menos 80 features (contando cómo features columnas con\n",
        "números, pueden venir varios de la misma variable).\n",
        "\n",
        "● Deben utilizar las columnas: id_31, id_33, DeviceType, DeviceInfo.\n",
        "\n",
        "● Deben utilizar CountVectorizer o TfIdfVectorizer para algún feature.\n",
        "Deberán contestar la siguiente pregunta:"
      ]
    },
    {
      "cell_type": "code",
      "metadata": {
        "id": "WHQLsZHYjud_"
      },
      "source": [
        "diccionario_mean = {}\n",
        "def crear_diccionario_mean(columnas):\n",
        "  for columna in columnas:\n",
        "    valor = X_train[columna].agg('mean')\n",
        "    diccionario_mean[columna] = valor\n",
        "\n",
        "def rellenar_mean(df,columnas, dict):\n",
        "  for columna in columnas:\n",
        "    valor = dict[columna]\n",
        "    df[columna].fillna(value=valor, inplace=True)\n",
        "\n",
        "\n",
        "def transformar_columnas(df, columnas, dict):\n",
        "  for columna in columnas:\n",
        "    valores = dict[columna]\n",
        "    df[columna].transform(lambda x: x if x in valores else -1)\n",
        "    \n",
        "crear_diccionario_mean(columnas_para_mean)\n",
        "\n",
        "#---------------------------------------------------------------\n",
        "\n",
        "vectorizer_id_30 = CountVectorizer()\n",
        "X = vectorizer_id_30.fit_transform(X_train['id_30'])\n",
        "#vectorizer.get_feature_names_out()#[25:] #a partir de la pos 25 tengo datos utiles\n",
        "\n",
        "indice_X_train = X_train.index\n",
        "indice_X_test = X_test.index\n",
        "\n",
        "def auxiliar_id_30(datos, vectorizer, n, indice):  \n",
        "  lista_aux = vectorizer.get_feature_names_out()[n:]\n",
        "  matriz = datos.toarray()\n",
        "  valores_aux = []\n",
        "  for j in range(len(matriz)):\n",
        "    valores_aux.append(matriz[j][n:])\n",
        "  df = pd.DataFrame(valores_aux, columns=lista_aux)\n",
        "  df['index'] = indice\n",
        "  df.set_index('index',inplace=True)\n",
        "  df.index.name = None\n",
        "  return df\n",
        "\n",
        "def transformar_id_30(df, vectorizer, n, indices):\n",
        "  datos = vectorizer.transform(df)\n",
        "  df_aux = auxiliar_id_30(datos,vectorizer,n, indices)\n",
        "  return df_aux\n",
        "\n",
        "\n",
        "X_train_id_30 = auxiliar_id_30(X,vectorizer_id_30,25,indice_X_train)\n",
        "X = None\n",
        "#X_train_id_30\n",
        "#vectorizer_id_30.vocabulary_\n",
        "\n",
        "#------------------------------------------------------------------\n",
        "\n",
        "one_hot_encoder = ce.OneHotEncoder(cols=categoricas_oneHot ,handle_unknown='return_nan',return_df=True, use_cat_names=True)\n",
        "\n",
        "def one_hot_enconding(df_train, encoder):\n",
        "  one_hot_encoded = encoder.fit_transform(df_train)\n",
        "  return one_hot_encoded\n",
        "\n",
        "#--------------------------------------------------------------------\n",
        "\n",
        "def transformar_mean_encoding_card4(x):\n",
        "  try:\n",
        "    valor = diccionario_mean_card4_target[x]\n",
        "  except:\n",
        "    return 0\n",
        "  return valor\n",
        "\n",
        "def transformar_mean_encoding_id_31(x):\n",
        "  try:\n",
        "    valor = top_8_id_31[x]\n",
        "  except:\n",
        "    return 0\n",
        "  return valor\n",
        "\n",
        "def mean_encoding(df):\n",
        "  df['mean_id_31'] = df['id_31'].transform(transformar_mean_encoding_id_31)\n",
        "  df['mean_card4'] = df['card4'].transform(transformar_mean_encoding_card4)\n",
        "\n",
        "#--------------------------------------------------------------------\n",
        "\n",
        "def convertirBooleano_aux(x):\n",
        "  if (x == 'T') or (x == 'Found'):\n",
        "    return 1\n",
        "  elif (x == 'F') or (x == 'Not found'):\n",
        "    return 0\n",
        "  return -1\n",
        "\n",
        "def convertirBoleanoo(df, columnas):\n",
        "  for columna in columnas:\n",
        "    columna_encodeada = df[columna].transform(convertirBooleano_aux)      \n",
        "    df[columna] = columna_encodeada\n",
        "\n",
        "#-------------------------------------------------------------------\n",
        "\n",
        "BinaryEncoder = ce.BinaryEncoder()#cols = categoricas_binary)\n",
        "\n",
        "def binary_encoder(df_train, encoder):\n",
        "  BinaryEncodeing = encoder.fit_transform(df_train[categoricas_binary])\n",
        "  df_train = pd.concat([df_train, BinaryEncodeing], axis=1)\n",
        "  df_train.drop(columns=categoricas_binary,inplace=True)\n",
        "  del BinaryEncodeing\n",
        "  return df_train\n",
        "\n",
        "def encodeo_binario(df, columnas):  \n",
        "  aux = df[columnas]\n",
        "  aux = BinaryEncoder.transform(aux, override_return_df=True)\n",
        "  df = pd.concat([df, aux], axis=1)\n",
        "  df.drop(columns=categoricas_binary, inplace=True)\n",
        "  del aux\n",
        "  return df"
      ],
      "execution_count": 15,
      "outputs": []
    },
    {
      "cell_type": "code",
      "metadata": {
        "id": "lgzL79wKJ5zG"
      },
      "source": [
        "X_test_id_30 = transformar_id_30(X_test['id_30'], vectorizer_id_30, 25,indice_X_test)\n",
        "\n",
        "#-----------------------------------------------------------------------\n",
        "\n",
        "mean_encoding(X_train)\n",
        "mean_encoding(X_test)\n",
        "\n",
        "#-----------------------------------------------------------------------\n",
        "\n",
        "convertirBoleanoo(X_train, categoricas_booleanas)\n",
        "convertirBoleanoo(X_test, categoricas_booleanas)\n",
        "\n",
        "#-----------------------------------------------------------------------\n",
        "\n",
        "X_train = one_hot_enconding(X_train, one_hot_encoder)\n",
        "X_test = one_hot_encoder.transform(X_test, override_return_df=True)\n",
        "\n",
        "#-----------------------------------------------------------------------\n",
        "\n",
        "X_train = binary_encoder(X_train, BinaryEncoder)\n",
        "X_test = encodeo_binario(X_test, categoricas_binary)\n",
        "\n",
        "#-----------------------------------------------------------------------\n",
        "\n",
        "X_train = X_train.merge(X_train_id_30, left_index=True,right_index=True)\n",
        "X_test = X_test.merge(X_test_id_30, left_index=True,right_index=True)\n",
        "\n",
        "del X_test_id_30\n",
        "del X_train_id_30\n",
        "\n",
        "#-----------------------------------------------------------------------\n",
        "\n",
        "rellenar_mean(X_train, columnas_para_mean, diccionario_mean)\n",
        "rellenar_mean(X_test, columnas_para_mean, diccionario_mean)\n",
        "\n",
        "transformar_columnas(X_train, columnas_con_pocos_valores,diccionario_para_rellenar)\n",
        "transformar_columnas(X_test, columnas_con_pocos_valores,diccionario_para_rellenar)\n",
        "\n",
        "X_train.fillna(value=-1, inplace=True)\n",
        "X_test.fillna(value=-1, inplace=True)"
      ],
      "execution_count": 16,
      "outputs": []
    },
    {
      "cell_type": "markdown",
      "metadata": {
        "id": "CHGu9Sm_EDK_"
      },
      "source": [
        "# Modelo"
      ]
    },
    {
      "cell_type": "code",
      "metadata": {
        "id": "PWqW4ODUU_8n"
      },
      "source": [
        "#Imprimir metricas de las predicciones\n",
        "def mostrar_metricas(y_test, y_pred, y_pred_proba):\n",
        "    print('Reporte de clasificación: \\n', classification_report(y_test, y_pred))\n",
        "    print('Matriz de confusión: \\n',confusion_matrix(y_test, y_pred))\n",
        "    print('ROC: \\n', roc_auc_score(y_test, y_pred_proba))\n",
        "\n",
        "    matrix = confusion_matrix (y_test, y_pred) \n",
        "    matrix = matrix.astype ('float') / matrix.sum (axis = 1) [:, np.newaxis] \n",
        "\n",
        "    # Build the plot\n",
        "    plt.figure()\n",
        "    sns.set(font_scale=1.4)\n",
        "    sns.heatmap(matrix, annot=True, annot_kws={'size':10},cmap=plt.cm.Greens, linewidths=0.2)\n",
        "    plt.xlabel('Predicción')\n",
        "    plt.ylabel('Target')\n",
        "    plt.title('Matriz de confusión')\n",
        "    plt.show()"
      ],
      "execution_count": 19,
      "outputs": []
    },
    {
      "cell_type": "code",
      "metadata": {
        "id": "hBsHll82zWSp"
      },
      "source": [
        "rf_model = RandomForestClassifier(random_state=12, n_estimators=100, max_depth=7, min_samples_leaf=5,min_samples_split=5)\n",
        "rf_model.fit(X_train, Y_train)\n",
        "preds = rf_model.predict(X_test)"
      ],
      "execution_count": 20,
      "outputs": []
    },
    {
      "cell_type": "code",
      "metadata": {
        "id": "kl0If_w_T51S",
        "colab": {
          "base_uri": "https://localhost:8080/"
        },
        "outputId": "e93c15b9-36ed-41c6-d7ae-79b5be558ed7"
      },
      "source": [
        "print(classification_report(Y_train, rf_model.predict(X_train)))\n",
        "print(classification_report(Y_test, rf_model.predict(X_test)))"
      ],
      "execution_count": 21,
      "outputs": [
        {
          "output_type": "stream",
          "name": "stdout",
          "text": [
            "              precision    recall  f1-score   support\n",
            "\n",
            "           0       0.97      1.00      0.99    398840\n",
            "           1       0.93      0.22      0.36     14538\n",
            "\n",
            "    accuracy                           0.97    413378\n",
            "   macro avg       0.95      0.61      0.67    413378\n",
            "weighted avg       0.97      0.97      0.96    413378\n",
            "\n",
            "              precision    recall  f1-score   support\n",
            "\n",
            "           0       0.97      1.00      0.99    171037\n",
            "           1       0.86      0.20      0.33      6125\n",
            "\n",
            "    accuracy                           0.97    177162\n",
            "   macro avg       0.92      0.60      0.66    177162\n",
            "weighted avg       0.97      0.97      0.96    177162\n",
            "\n"
          ]
        }
      ]
    },
    {
      "cell_type": "code",
      "metadata": {
        "id": "5fK5A-Phn156",
        "colab": {
          "base_uri": "https://localhost:8080/",
          "height": 1000
        },
        "outputId": "844ea849-116a-4c34-abcd-4a7c661771ae"
      },
      "source": [
        "score_train = roc_auc_score(Y_train, rf_model.predict_proba(X_train)[:,1])\n",
        "score_test = roc_auc_score(Y_test, rf_model.predict_proba(X_test)[:,1])\n",
        "\n",
        "print(\"scores para el train, validacion y test:\", score_train, score_test)\n",
        "mostrar_metricas(Y_test, rf_model.predict(X_test), rf_model.predict_proba(X_test)[:,1])"
      ],
      "execution_count": 22,
      "outputs": [
        {
          "output_type": "stream",
          "name": "stdout",
          "text": [
            "scores para el train, validacion y test: 0.8577571027481967 0.8480346897132771\n",
            "Reporte de clasificación: \n",
            "               precision    recall  f1-score   support\n",
            "\n",
            "           0       0.97      1.00      0.99    171037\n",
            "           1       0.86      0.20      0.33      6125\n",
            "\n",
            "    accuracy                           0.97    177162\n",
            "   macro avg       0.92      0.60      0.66    177162\n",
            "weighted avg       0.97      0.97      0.96    177162\n",
            "\n",
            "Matriz de confusión: \n",
            " [[170840    197]\n",
            " [  4878   1247]]\n",
            "ROC: \n",
            " 0.8480346897132771\n"
          ]
        },
        {
          "output_type": "display_data",
          "data": {
            "image/png": "[encoded data removed]",
            "text/plain": [
              "<Figure size 2000x1000 with 2 Axes>"
            ]
          },
          "metadata": {}
        }
      ]
    },
    {
      "cell_type": "code",
      "metadata": {
        "id": "AGzZRo77mmtB"
      },
      "source": [
        ""
      ],
      "execution_count": 22,
      "outputs": []
    },
    {
      "cell_type": "code",
      "metadata": {
        "id": "bobB9I3JdXRf",
        "colab": {
          "base_uri": "https://localhost:8080/",
          "height": 1000
        },
        "outputId": "eee6185b-85e1-4319-d580-fedb65dbe887"
      },
      "source": [
        "def mostrar_mejor_modelo(resultado):\n",
        "  max_depth_best = resultado['max_depth']\n",
        "  min_samples_leaf_best = resultado['min_samples_leaf']\n",
        "  min_samples_split_best = resultado['min_samples_split']\n",
        "  n_estimators_best = resultado['n_estimators']\n",
        "\n",
        "  rf_model_tuneado = RandomForestClassifier(random_state=12, max_depth=max_depth_best, min_samples_leaf=min_samples_leaf_best, min_samples_split=min_samples_split_best,n_estimators=n_estimators_best)\n",
        "  rf_model_tuneado.fit(X_train, Y_train)\n",
        "  \n",
        "  mostrar_metricas(Y_test, rf_model_tuneado.predict(X_test), rf_model_tuneado.predict_proba(X_test)[:,1])\n",
        "   \n",
        "def randomSearch(modelo, kfold=None):  \n",
        "  parameters = {'n_estimators':[50,100,150],\n",
        "                'max_depth': [5,7,10,15],\n",
        "                'min_samples_split':[3,5,7],\n",
        "                'min_samples_leaf':[3,5,7]\n",
        "                }\n",
        "  clf = RandomizedSearchCV(modelo, parameters, n_iter=100, cv=2, verbose=100, random_state=7506) #subirle a las iteraciones y al cv cuando este seguro\n",
        "  search = clf.fit(X_train, Y_train)\n",
        "  print(search.best_params_)\n",
        "  resultado = search.best_params_\n",
        "  mostrar_mejor_modelo(resultado)\n",
        "  return search.best_params_\n",
        "\n",
        "\n",
        "resultado = {'n_estimators': 100, 'min_samples_split': 5, 'min_samples_leaf': 3, 'max_depth': 7}\n",
        "#resultado = randomSearch(rf_model)\n"
      ],
      "execution_count": 23,
      "outputs": [
        {
          "output_type": "stream",
          "name": "stdout",
          "text": [
            "Fitting 2 folds for each of 100 candidates, totalling 200 fits\n",
            "[CV 1/2; 1/100] START max_depth=5, min_samples_leaf=3, min_samples_split=5, n_estimators=50\n",
            "[CV 1/2; 1/100] END max_depth=5, min_samples_leaf=3, min_samples_split=5, n_estimators=50;, score=0.970 total time=   8.0s\n",
            "[CV 2/2; 1/100] START max_depth=5, min_samples_leaf=3, min_samples_split=5, n_estimators=50\n",
            "[CV 2/2; 1/100] END max_depth=5, min_samples_leaf=3, min_samples_split=5, n_estimators=50;, score=0.970 total time=   8.4s\n",
            "[CV 1/2; 2/100] START max_depth=5, min_samples_leaf=7, min_samples_split=5, n_estimators=100\n",
            "[CV 1/2; 2/100] END max_depth=5, min_samples_leaf=7, min_samples_split=5, n_estimators=100;, score=0.970 total time=  16.0s\n",
            "[CV 2/2; 2/100] START max_depth=5, min_samples_leaf=7, min_samples_split=5, n_estimators=100\n",
            "[CV 2/2; 2/100] END max_depth=5, min_samples_leaf=7, min_samples_split=5, n_estimators=100;, score=0.970 total time=  16.5s\n",
            "[CV 1/2; 3/100] START max_depth=5, min_samples_leaf=7, min_samples_split=7, n_estimators=50\n",
            "[CV 1/2; 3/100] END max_depth=5, min_samples_leaf=7, min_samples_split=7, n_estimators=50;, score=0.970 total time=   8.1s\n",
            "[CV 2/2; 3/100] START max_depth=5, min_samples_leaf=7, min_samples_split=7, n_estimators=50\n",
            "[CV 2/2; 3/100] END max_depth=5, min_samples_leaf=7, min_samples_split=7, n_estimators=50;, score=0.970 total time=   8.5s\n",
            "[CV 1/2; 4/100] START max_depth=5, min_samples_leaf=3, min_samples_split=7, n_estimators=100\n",
            "[CV 1/2; 4/100] END max_depth=5, min_samples_leaf=3, min_samples_split=7, n_estimators=100;, score=0.970 total time=  15.5s\n",
            "[CV 2/2; 4/100] START max_depth=5, min_samples_leaf=3, min_samples_split=7, n_estimators=100\n",
            "[CV 2/2; 4/100] END max_depth=5, min_samples_leaf=3, min_samples_split=7, n_estimators=100;, score=0.970 total time=  16.2s\n",
            "[CV 1/2; 5/100] START max_depth=10, min_samples_leaf=7, min_samples_split=5, n_estimators=150\n",
            "[CV 1/2; 5/100] END max_depth=10, min_samples_leaf=7, min_samples_split=5, n_estimators=150;, score=0.970 total time=  43.4s\n",
            "[CV 2/2; 5/100] START max_depth=10, min_samples_leaf=7, min_samples_split=5, n_estimators=150\n",
            "[CV 2/2; 5/100] END max_depth=10, min_samples_leaf=7, min_samples_split=5, n_estimators=150;, score=0.972 total time=  44.8s\n",
            "[CV 1/2; 6/100] START max_depth=7, min_samples_leaf=3, min_samples_split=3, n_estimators=150\n",
            "[CV 1/2; 6/100] END max_depth=7, min_samples_leaf=3, min_samples_split=3, n_estimators=150;, score=0.971 total time=  30.0s\n",
            "[CV 2/2; 6/100] START max_depth=7, min_samples_leaf=3, min_samples_split=3, n_estimators=150\n",
            "[CV 2/2; 6/100] END max_depth=7, min_samples_leaf=3, min_samples_split=3, n_estimators=150;, score=0.971 total time=  31.5s\n",
            "[CV 1/2; 7/100] START max_depth=15, min_samples_leaf=5, min_samples_split=5, n_estimators=150\n",
            "[CV 1/2; 7/100] END max_depth=15, min_samples_leaf=5, min_samples_split=5, n_estimators=150;, score=0.969 total time= 1.1min\n",
            "[CV 2/2; 7/100] START max_depth=15, min_samples_leaf=5, min_samples_split=5, n_estimators=150\n",
            "[CV 2/2; 7/100] END max_depth=15, min_samples_leaf=5, min_samples_split=5, n_estimators=150;, score=0.973 total time= 1.1min\n",
            "[CV 1/2; 8/100] START max_depth=5, min_samples_leaf=5, min_samples_split=3, n_estimators=100\n",
            "[CV 1/2; 8/100] END max_depth=5, min_samples_leaf=5, min_samples_split=3, n_estimators=100;, score=0.970 total time=  15.4s\n",
            "[CV 2/2; 8/100] START max_depth=5, min_samples_leaf=5, min_samples_split=3, n_estimators=100\n",
            "[CV 2/2; 8/100] END max_depth=5, min_samples_leaf=5, min_samples_split=3, n_estimators=100;, score=0.970 total time=  15.9s\n",
            "[CV 1/2; 9/100] START max_depth=10, min_samples_leaf=5, min_samples_split=7, n_estimators=50\n",
            "[CV 1/2; 9/100] END max_depth=10, min_samples_leaf=5, min_samples_split=7, n_estimators=50;, score=0.969 total time=  14.8s\n",
            "[CV 2/2; 9/100] START max_depth=10, min_samples_leaf=5, min_samples_split=7, n_estimators=50\n",
            "[CV 2/2; 9/100] END max_depth=10, min_samples_leaf=5, min_samples_split=7, n_estimators=50;, score=0.972 total time=  15.1s\n",
            "[CV 1/2; 10/100] START max_depth=7, min_samples_leaf=7, min_samples_split=3, n_estimators=100\n",
            "[CV 1/2; 10/100] END max_depth=7, min_samples_leaf=7, min_samples_split=3, n_estimators=100;, score=0.971 total time=  19.7s\n",
            "[CV 2/2; 10/100] START max_depth=7, min_samples_leaf=7, min_samples_split=3, n_estimators=100\n",
            "[CV 2/2; 10/100] END max_depth=7, min_samples_leaf=7, min_samples_split=3, n_estimators=100;, score=0.971 total time=  20.4s\n",
            "[CV 1/2; 11/100] START max_depth=5, min_samples_leaf=7, min_samples_split=7, n_estimators=150\n",
            "[CV 1/2; 11/100] END max_depth=5, min_samples_leaf=7, min_samples_split=7, n_estimators=150;, score=0.970 total time=  21.6s\n",
            "[CV 2/2; 11/100] START max_depth=5, min_samples_leaf=7, min_samples_split=7, n_estimators=150\n",
            "[CV 2/2; 11/100] END max_depth=5, min_samples_leaf=7, min_samples_split=7, n_estimators=150;, score=0.970 total time=  22.8s\n",
            "[CV 1/2; 12/100] START max_depth=10, min_samples_leaf=5, min_samples_split=5, n_estimators=50\n",
            "[CV 1/2; 12/100] END max_depth=10, min_samples_leaf=5, min_samples_split=5, n_estimators=50;, score=0.969 total time=  14.1s\n",
            "[CV 2/2; 12/100] START max_depth=10, min_samples_leaf=5, min_samples_split=5, n_estimators=50\n",
            "[CV 2/2; 12/100] END max_depth=10, min_samples_leaf=5, min_samples_split=5, n_estimators=50;, score=0.972 total time=  14.5s\n",
            "[CV 1/2; 13/100] START max_depth=7, min_samples_leaf=5, min_samples_split=7, n_estimators=50\n",
            "[CV 1/2; 13/100] END max_depth=7, min_samples_leaf=5, min_samples_split=7, n_estimators=50;, score=0.971 total time=  10.2s\n",
            "[CV 2/2; 13/100] START max_depth=7, min_samples_leaf=5, min_samples_split=7, n_estimators=50\n",
            "[CV 2/2; 13/100] END max_depth=7, min_samples_leaf=5, min_samples_split=7, n_estimators=50;, score=0.971 total time=  10.8s\n",
            "[CV 1/2; 14/100] START max_depth=7, min_samples_leaf=5, min_samples_split=5, n_estimators=50\n",
            "[CV 1/2; 14/100] END max_depth=7, min_samples_leaf=5, min_samples_split=5, n_estimators=50;, score=0.971 total time=  10.6s\n",
            "[CV 2/2; 14/100] START max_depth=7, min_samples_leaf=5, min_samples_split=5, n_estimators=50\n",
            "[CV 2/2; 14/100] END max_depth=7, min_samples_leaf=5, min_samples_split=5, n_estimators=50;, score=0.971 total time=  10.9s\n",
            "[CV 1/2; 15/100] START max_depth=5, min_samples_leaf=3, min_samples_split=3, n_estimators=100\n",
            "[CV 1/2; 15/100] END max_depth=5, min_samples_leaf=3, min_samples_split=3, n_estimators=100;, score=0.970 total time=  14.8s\n",
            "[CV 2/2; 15/100] START max_depth=5, min_samples_leaf=3, min_samples_split=3, n_estimators=100\n",
            "[CV 2/2; 15/100] END max_depth=5, min_samples_leaf=3, min_samples_split=3, n_estimators=100;, score=0.970 total time=  15.3s\n",
            "[CV 1/2; 16/100] START max_depth=7, min_samples_leaf=3, min_samples_split=7, n_estimators=100\n",
            "[CV 1/2; 16/100] END max_depth=7, min_samples_leaf=3, min_samples_split=7, n_estimators=100;, score=0.971 total time=  19.1s\n",
            "[CV 2/2; 16/100] START max_depth=7, min_samples_leaf=3, min_samples_split=7, n_estimators=100\n",
            "[CV 2/2; 16/100] END max_depth=7, min_samples_leaf=3, min_samples_split=7, n_estimators=100;, score=0.971 total time=  20.0s\n",
            "[CV 1/2; 17/100] START max_depth=10, min_samples_leaf=5, min_samples_split=3, n_estimators=100\n",
            "[CV 1/2; 17/100] END max_depth=10, min_samples_leaf=5, min_samples_split=3, n_estimators=100;, score=0.968 total time=  26.9s\n",
            "[CV 2/2; 17/100] START max_depth=10, min_samples_leaf=5, min_samples_split=3, n_estimators=100\n",
            "[CV 2/2; 17/100] END max_depth=10, min_samples_leaf=5, min_samples_split=3, n_estimators=100;, score=0.972 total time=  27.8s\n",
            "[CV 1/2; 18/100] START max_depth=5, min_samples_leaf=5, min_samples_split=5, n_estimators=150\n",
            "[CV 1/2; 18/100] END max_depth=5, min_samples_leaf=5, min_samples_split=5, n_estimators=150;, score=0.970 total time=  20.9s\n",
            "[CV 2/2; 18/100] START max_depth=5, min_samples_leaf=5, min_samples_split=5, n_estimators=150\n",
            "[CV 2/2; 18/100] END max_depth=5, min_samples_leaf=5, min_samples_split=5, n_estimators=150;, score=0.970 total time=  21.9s\n",
            "[CV 1/2; 19/100] START max_depth=10, min_samples_leaf=7, min_samples_split=5, n_estimators=50\n",
            "[CV 1/2; 19/100] END max_depth=10, min_samples_leaf=7, min_samples_split=5, n_estimators=50;, score=0.969 total time=  13.7s\n",
            "[CV 2/2; 19/100] START max_depth=10, min_samples_leaf=7, min_samples_split=5, n_estimators=50\n",
            "[CV 2/2; 19/100] END max_depth=10, min_samples_leaf=7, min_samples_split=5, n_estimators=50;, score=0.972 total time=  14.0s\n",
            "[CV 1/2; 20/100] START max_depth=5, min_samples_leaf=5, min_samples_split=7, n_estimators=50\n",
            "[CV 1/2; 20/100] END max_depth=5, min_samples_leaf=5, min_samples_split=7, n_estimators=50;, score=0.970 total time=   7.4s\n",
            "[CV 2/2; 20/100] START max_depth=5, min_samples_leaf=5, min_samples_split=7, n_estimators=50\n",
            "[CV 2/2; 20/100] END max_depth=5, min_samples_leaf=5, min_samples_split=7, n_estimators=50;, score=0.970 total time=   7.8s\n",
            "[CV 1/2; 21/100] START max_depth=5, min_samples_leaf=3, min_samples_split=5, n_estimators=150\n",
            "[CV 1/2; 21/100] END max_depth=5, min_samples_leaf=3, min_samples_split=5, n_estimators=150;, score=0.970 total time=  21.3s\n",
            "[CV 2/2; 21/100] START max_depth=5, min_samples_leaf=3, min_samples_split=5, n_estimators=150\n",
            "[CV 2/2; 21/100] END max_depth=5, min_samples_leaf=3, min_samples_split=5, n_estimators=150;, score=0.970 total time=  22.1s\n",
            "[CV 1/2; 22/100] START max_depth=10, min_samples_leaf=7, min_samples_split=5, n_estimators=100\n",
            "[CV 1/2; 22/100] END max_depth=10, min_samples_leaf=7, min_samples_split=5, n_estimators=100;, score=0.969 total time=  26.7s\n",
            "[CV 2/2; 22/100] START max_depth=10, min_samples_leaf=7, min_samples_split=5, n_estimators=100\n",
            "[CV 2/2; 22/100] END max_depth=10, min_samples_leaf=7, min_samples_split=5, n_estimators=100;, score=0.972 total time=  27.8s\n",
            "[CV 1/2; 23/100] START max_depth=15, min_samples_leaf=7, min_samples_split=7, n_estimators=50\n",
            "[CV 1/2; 23/100] END max_depth=15, min_samples_leaf=7, min_samples_split=7, n_estimators=50;, score=0.969 total time=  20.5s\n",
            "[CV 2/2; 23/100] START max_depth=15, min_samples_leaf=7, min_samples_split=7, n_estimators=50\n",
            "[CV 2/2; 23/100] END max_depth=15, min_samples_leaf=7, min_samples_split=7, n_estimators=50;, score=0.973 total time=  20.9s\n",
            "[CV 1/2; 24/100] START max_depth=5, min_samples_leaf=5, min_samples_split=5, n_estimators=100\n",
            "[CV 1/2; 24/100] END max_depth=5, min_samples_leaf=5, min_samples_split=5, n_estimators=100;, score=0.970 total time=  14.1s\n",
            "[CV 2/2; 24/100] START max_depth=5, min_samples_leaf=5, min_samples_split=5, n_estimators=100\n",
            "[CV 2/2; 24/100] END max_depth=5, min_samples_leaf=5, min_samples_split=5, n_estimators=100;, score=0.970 total time=  14.9s\n",
            "[CV 1/2; 25/100] START max_depth=10, min_samples_leaf=5, min_samples_split=3, n_estimators=150\n",
            "[CV 1/2; 25/100] END max_depth=10, min_samples_leaf=5, min_samples_split=3, n_estimators=150;, score=0.968 total time=  39.8s\n",
            "[CV 2/2; 25/100] START max_depth=10, min_samples_leaf=5, min_samples_split=3, n_estimators=150\n",
            "[CV 2/2; 25/100] END max_depth=10, min_samples_leaf=5, min_samples_split=3, n_estimators=150;, score=0.972 total time=  41.3s\n",
            "[CV 1/2; 26/100] START max_depth=15, min_samples_leaf=3, min_samples_split=7, n_estimators=150\n",
            "[CV 1/2; 26/100] END max_depth=15, min_samples_leaf=3, min_samples_split=7, n_estimators=150;, score=0.969 total time=  59.8s\n",
            "[CV 2/2; 26/100] START max_depth=15, min_samples_leaf=3, min_samples_split=7, n_estimators=150\n",
            "[CV 2/2; 26/100] END max_depth=15, min_samples_leaf=3, min_samples_split=7, n_estimators=150;, score=0.973 total time= 1.0min\n",
            "[CV 1/2; 27/100] START max_depth=15, min_samples_leaf=3, min_samples_split=5, n_estimators=100\n",
            "[CV 1/2; 27/100] END max_depth=15, min_samples_leaf=3, min_samples_split=5, n_estimators=100;, score=0.969 total time=  39.8s\n",
            "[CV 2/2; 27/100] START max_depth=15, min_samples_leaf=3, min_samples_split=5, n_estimators=100\n",
            "[CV 2/2; 27/100] END max_depth=15, min_samples_leaf=3, min_samples_split=5, n_estimators=100;, score=0.973 total time=  41.5s\n",
            "[CV 1/2; 28/100] START max_depth=7, min_samples_leaf=5, min_samples_split=5, n_estimators=150\n",
            "[CV 1/2; 28/100] END max_depth=7, min_samples_leaf=5, min_samples_split=5, n_estimators=150;, score=0.971 total time=  28.4s\n",
            "[CV 2/2; 28/100] START max_depth=7, min_samples_leaf=5, min_samples_split=5, n_estimators=150\n",
            "[CV 2/2; 28/100] END max_depth=7, min_samples_leaf=5, min_samples_split=5, n_estimators=150;, score=0.971 total time=  30.3s\n",
            "[CV 1/2; 29/100] START max_depth=7, min_samples_leaf=3, min_samples_split=7, n_estimators=150\n",
            "[CV 1/2; 29/100] END max_depth=7, min_samples_leaf=3, min_samples_split=7, n_estimators=150;, score=0.971 total time=  28.4s\n",
            "[CV 2/2; 29/100] START max_depth=7, min_samples_leaf=3, min_samples_split=7, n_estimators=150\n",
            "[CV 2/2; 29/100] END max_depth=7, min_samples_leaf=3, min_samples_split=7, n_estimators=150;, score=0.971 total time=  29.4s\n",
            "[CV 1/2; 30/100] START max_depth=15, min_samples_leaf=7, min_samples_split=7, n_estimators=100\n",
            "[CV 1/2; 30/100] END max_depth=15, min_samples_leaf=7, min_samples_split=7, n_estimators=100;, score=0.969 total time=  39.9s\n",
            "[CV 2/2; 30/100] START max_depth=15, min_samples_leaf=7, min_samples_split=7, n_estimators=100\n",
            "[CV 2/2; 30/100] END max_depth=15, min_samples_leaf=7, min_samples_split=7, n_estimators=100;, score=0.973 total time=  41.3s\n",
            "[CV 1/2; 31/100] START max_depth=15, min_samples_leaf=5, min_samples_split=3, n_estimators=50\n",
            "[CV 1/2; 31/100] END max_depth=15, min_samples_leaf=5, min_samples_split=3, n_estimators=50;, score=0.969 total time=  20.5s\n",
            "[CV 2/2; 31/100] START max_depth=15, min_samples_leaf=5, min_samples_split=3, n_estimators=50\n",
            "[CV 2/2; 31/100] END max_depth=15, min_samples_leaf=5, min_samples_split=3, n_estimators=50;, score=0.973 total time=  21.1s\n",
            "[CV 1/2; 32/100] START max_depth=10, min_samples_leaf=5, min_samples_split=3, n_estimators=50\n",
            "[CV 1/2; 32/100] END max_depth=10, min_samples_leaf=5, min_samples_split=3, n_estimators=50;, score=0.969 total time=  13.8s\n",
            "[CV 2/2; 32/100] START max_depth=10, min_samples_leaf=5, min_samples_split=3, n_estimators=50\n",
            "[CV 2/2; 32/100] END max_depth=10, min_samples_leaf=5, min_samples_split=3, n_estimators=50;, score=0.972 total time=  14.2s\n",
            "[CV 1/2; 33/100] START max_depth=10, min_samples_leaf=3, min_samples_split=7, n_estimators=150\n",
            "[CV 1/2; 33/100] END max_depth=10, min_samples_leaf=3, min_samples_split=7, n_estimators=150;, score=0.969 total time=  40.5s\n",
            "[CV 2/2; 33/100] START max_depth=10, min_samples_leaf=3, min_samples_split=7, n_estimators=150\n",
            "[CV 2/2; 33/100] END max_depth=10, min_samples_leaf=3, min_samples_split=7, n_estimators=150;, score=0.972 total time=  41.9s\n",
            "[CV 1/2; 34/100] START max_depth=7, min_samples_leaf=3, min_samples_split=7, n_estimators=50\n",
            "[CV 1/2; 34/100] END max_depth=7, min_samples_leaf=3, min_samples_split=7, n_estimators=50;, score=0.971 total time=   9.8s\n",
            "[CV 2/2; 34/100] START max_depth=7, min_samples_leaf=3, min_samples_split=7, n_estimators=50\n",
            "[CV 2/2; 34/100] END max_depth=7, min_samples_leaf=3, min_samples_split=7, n_estimators=50;, score=0.971 total time=  10.3s\n",
            "[CV 1/2; 35/100] START max_depth=7, min_samples_leaf=3, min_samples_split=5, n_estimators=150\n",
            "[CV 1/2; 35/100] END max_depth=7, min_samples_leaf=3, min_samples_split=5, n_estimators=150;, score=0.971 total time=  28.4s\n",
            "[CV 2/2; 35/100] START max_depth=7, min_samples_leaf=3, min_samples_split=5, n_estimators=150\n",
            "[CV 2/2; 35/100] END max_depth=7, min_samples_leaf=3, min_samples_split=5, n_estimators=150;, score=0.971 total time=  29.6s\n",
            "[CV 1/2; 36/100] START max_depth=5, min_samples_leaf=5, min_samples_split=5, n_estimators=50\n",
            "[CV 1/2; 36/100] END max_depth=5, min_samples_leaf=5, min_samples_split=5, n_estimators=50;, score=0.970 total time=   7.4s\n",
            "[CV 2/2; 36/100] START max_depth=5, min_samples_leaf=5, min_samples_split=5, n_estimators=50\n",
            "[CV 2/2; 36/100] END max_depth=5, min_samples_leaf=5, min_samples_split=5, n_estimators=50;, score=0.970 total time=   7.8s\n",
            "[CV 1/2; 37/100] START max_depth=15, min_samples_leaf=5, min_samples_split=7, n_estimators=150\n",
            "[CV 1/2; 37/100] END max_depth=15, min_samples_leaf=5, min_samples_split=7, n_estimators=150;, score=0.969 total time=  59.4s\n",
            "[CV 2/2; 37/100] START max_depth=15, min_samples_leaf=5, min_samples_split=7, n_estimators=150\n",
            "[CV 2/2; 37/100] END max_depth=15, min_samples_leaf=5, min_samples_split=7, n_estimators=150;, score=0.973 total time= 1.0min\n",
            "[CV 1/2; 38/100] START max_depth=15, min_samples_leaf=7, min_samples_split=3, n_estimators=50\n",
            "[CV 1/2; 38/100] END max_depth=15, min_samples_leaf=7, min_samples_split=3, n_estimators=50;, score=0.969 total time=  20.3s\n",
            "[CV 2/2; 38/100] START max_depth=15, min_samples_leaf=7, min_samples_split=3, n_estimators=50\n",
            "[CV 2/2; 38/100] END max_depth=15, min_samples_leaf=7, min_samples_split=3, n_estimators=50;, score=0.973 total time=  20.7s\n",
            "[CV 1/2; 39/100] START max_depth=15, min_samples_leaf=3, min_samples_split=3, n_estimators=50\n",
            "[CV 1/2; 39/100] END max_depth=15, min_samples_leaf=3, min_samples_split=3, n_estimators=50;, score=0.969 total time=  20.3s\n",
            "[CV 2/2; 39/100] START max_depth=15, min_samples_leaf=3, min_samples_split=3, n_estimators=50\n",
            "[CV 2/2; 39/100] END max_depth=15, min_samples_leaf=3, min_samples_split=3, n_estimators=50;, score=0.973 total time=  21.0s\n",
            "[CV 1/2; 40/100] START max_depth=10, min_samples_leaf=5, min_samples_split=5, n_estimators=100\n",
            "[CV 1/2; 40/100] END max_depth=10, min_samples_leaf=5, min_samples_split=5, n_estimators=100;, score=0.968 total time=  26.5s\n",
            "[CV 2/2; 40/100] START max_depth=10, min_samples_leaf=5, min_samples_split=5, n_estimators=100\n",
            "[CV 2/2; 40/100] END max_depth=10, min_samples_leaf=5, min_samples_split=5, n_estimators=100;, score=0.972 total time=  27.4s\n",
            "[CV 1/2; 41/100] START max_depth=15, min_samples_leaf=5, min_samples_split=3, n_estimators=100\n",
            "[CV 1/2; 41/100] END max_depth=15, min_samples_leaf=5, min_samples_split=3, n_estimators=100;, score=0.969 total time=  39.8s\n",
            "[CV 2/2; 41/100] START max_depth=15, min_samples_leaf=5, min_samples_split=3, n_estimators=100\n",
            "[CV 2/2; 41/100] END max_depth=15, min_samples_leaf=5, min_samples_split=3, n_estimators=100;, score=0.973 total time=  41.3s\n",
            "[CV 1/2; 42/100] START max_depth=5, min_samples_leaf=5, min_samples_split=7, n_estimators=150\n",
            "[CV 1/2; 42/100] END max_depth=5, min_samples_leaf=5, min_samples_split=7, n_estimators=150;, score=0.970 total time=  20.8s\n",
            "[CV 2/2; 42/100] START max_depth=5, min_samples_leaf=5, min_samples_split=7, n_estimators=150\n",
            "[CV 2/2; 42/100] END max_depth=5, min_samples_leaf=5, min_samples_split=7, n_estimators=150;, score=0.970 total time=  21.9s\n",
            "[CV 1/2; 43/100] START max_depth=15, min_samples_leaf=7, min_samples_split=3, n_estimators=100\n",
            "[CV 1/2; 43/100] END max_depth=15, min_samples_leaf=7, min_samples_split=3, n_estimators=100;, score=0.969 total time=  40.2s\n",
            "[CV 2/2; 43/100] START max_depth=15, min_samples_leaf=7, min_samples_split=3, n_estimators=100\n",
            "[CV 2/2; 43/100] END max_depth=15, min_samples_leaf=7, min_samples_split=3, n_estimators=100;, score=0.973 total time=  41.2s\n",
            "[CV 1/2; 44/100] START max_depth=10, min_samples_leaf=3, min_samples_split=3, n_estimators=100\n",
            "[CV 1/2; 44/100] END max_depth=10, min_samples_leaf=3, min_samples_split=3, n_estimators=100;, score=0.970 total time=  26.5s\n",
            "[CV 2/2; 44/100] START max_depth=10, min_samples_leaf=3, min_samples_split=3, n_estimators=100\n",
            "[CV 2/2; 44/100] END max_depth=10, min_samples_leaf=3, min_samples_split=3, n_estimators=100;, score=0.972 total time=  27.8s\n",
            "[CV 1/2; 45/100] START max_depth=5, min_samples_leaf=7, min_samples_split=7, n_estimators=100\n",
            "[CV 1/2; 45/100] END max_depth=5, min_samples_leaf=7, min_samples_split=7, n_estimators=100;, score=0.970 total time=  14.3s\n",
            "[CV 2/2; 45/100] START max_depth=5, min_samples_leaf=7, min_samples_split=7, n_estimators=100\n",
            "[CV 2/2; 45/100] END max_depth=5, min_samples_leaf=7, min_samples_split=7, n_estimators=100;, score=0.970 total time=  14.8s\n",
            "[CV 1/2; 46/100] START max_depth=7, min_samples_leaf=5, min_samples_split=7, n_estimators=100\n",
            "[CV 1/2; 46/100] END max_depth=7, min_samples_leaf=5, min_samples_split=7, n_estimators=100;, score=0.971 total time=  18.4s\n",
            "[CV 2/2; 46/100] START max_depth=7, min_samples_leaf=5, min_samples_split=7, n_estimators=100\n",
            "[CV 2/2; 46/100] END max_depth=7, min_samples_leaf=5, min_samples_split=7, n_estimators=100;, score=0.971 total time=  19.8s\n",
            "[CV 1/2; 47/100] START max_depth=5, min_samples_leaf=7, min_samples_split=5, n_estimators=150\n",
            "[CV 1/2; 47/100] END max_depth=5, min_samples_leaf=7, min_samples_split=5, n_estimators=150;, score=0.970 total time=  21.1s\n",
            "[CV 2/2; 47/100] START max_depth=5, min_samples_leaf=7, min_samples_split=5, n_estimators=150\n",
            "[CV 2/2; 47/100] END max_depth=5, min_samples_leaf=7, min_samples_split=5, n_estimators=150;, score=0.970 total time=  21.9s\n",
            "[CV 1/2; 48/100] START max_depth=7, min_samples_leaf=7, min_samples_split=7, n_estimators=50\n",
            "[CV 1/2; 48/100] END max_depth=7, min_samples_leaf=7, min_samples_split=7, n_estimators=50;, score=0.971 total time=   9.9s\n",
            "[CV 2/2; 48/100] START max_depth=7, min_samples_leaf=7, min_samples_split=7, n_estimators=50\n",
            "[CV 2/2; 48/100] END max_depth=7, min_samples_leaf=7, min_samples_split=7, n_estimators=50;, score=0.971 total time=  10.2s\n",
            "[CV 1/2; 49/100] START max_depth=15, min_samples_leaf=5, min_samples_split=5, n_estimators=50\n",
            "[CV 1/2; 49/100] END max_depth=15, min_samples_leaf=5, min_samples_split=5, n_estimators=50;, score=0.969 total time=  20.2s\n",
            "[CV 2/2; 49/100] START max_depth=15, min_samples_leaf=5, min_samples_split=5, n_estimators=50\n",
            "[CV 2/2; 49/100] END max_depth=15, min_samples_leaf=5, min_samples_split=5, n_estimators=50;, score=0.973 total time=  20.9s\n",
            "[CV 1/2; 50/100] START max_depth=5, min_samples_leaf=3, min_samples_split=3, n_estimators=50\n",
            "[CV 1/2; 50/100] END max_depth=5, min_samples_leaf=3, min_samples_split=3, n_estimators=50;, score=0.970 total time=   7.5s\n",
            "[CV 2/2; 50/100] START max_depth=5, min_samples_leaf=3, min_samples_split=3, n_estimators=50\n",
            "[CV 2/2; 50/100] END max_depth=5, min_samples_leaf=3, min_samples_split=3, n_estimators=50;, score=0.970 total time=   7.9s\n",
            "[CV 1/2; 51/100] START max_depth=7, min_samples_leaf=5, min_samples_split=5, n_estimators=100\n",
            "[CV 1/2; 51/100] END max_depth=7, min_samples_leaf=5, min_samples_split=5, n_estimators=100;, score=0.971 total time=  19.0s\n",
            "[CV 2/2; 51/100] START max_depth=7, min_samples_leaf=5, min_samples_split=5, n_estimators=100\n",
            "[CV 2/2; 51/100] END max_depth=7, min_samples_leaf=5, min_samples_split=5, n_estimators=100;, score=0.971 total time=  20.2s\n",
            "[CV 1/2; 52/100] START max_depth=7, min_samples_leaf=7, min_samples_split=5, n_estimators=50\n",
            "[CV 1/2; 52/100] END max_depth=7, min_samples_leaf=7, min_samples_split=5, n_estimators=50;, score=0.971 total time=  10.0s\n",
            "[CV 2/2; 52/100] START max_depth=7, min_samples_leaf=7, min_samples_split=5, n_estimators=50\n",
            "[CV 2/2; 52/100] END max_depth=7, min_samples_leaf=7, min_samples_split=5, n_estimators=50;, score=0.971 total time=  10.5s\n",
            "[CV 1/2; 53/100] START max_depth=5, min_samples_leaf=3, min_samples_split=7, n_estimators=150\n",
            "[CV 1/2; 53/100] END max_depth=5, min_samples_leaf=3, min_samples_split=7, n_estimators=150;, score=0.970 total time=  20.9s\n",
            "[CV 2/2; 53/100] START max_depth=5, min_samples_leaf=3, min_samples_split=7, n_estimators=150\n",
            "[CV 2/2; 53/100] END max_depth=5, min_samples_leaf=3, min_samples_split=7, n_estimators=150;, score=0.970 total time=  22.0s\n",
            "[CV 1/2; 54/100] START max_depth=7, min_samples_leaf=3, min_samples_split=3, n_estimators=100\n",
            "[CV 1/2; 54/100] END max_depth=7, min_samples_leaf=3, min_samples_split=3, n_estimators=100;, score=0.971 total time=  19.1s\n",
            "[CV 2/2; 54/100] START max_depth=7, min_samples_leaf=3, min_samples_split=3, n_estimators=100\n",
            "[CV 2/2; 54/100] END max_depth=7, min_samples_leaf=3, min_samples_split=3, n_estimators=100;, score=0.971 total time=  20.0s\n",
            "[CV 1/2; 55/100] START max_depth=10, min_samples_leaf=7, min_samples_split=3, n_estimators=50\n",
            "[CV 1/2; 55/100] END max_depth=10, min_samples_leaf=7, min_samples_split=3, n_estimators=50;, score=0.969 total time=  13.8s\n",
            "[CV 2/2; 55/100] START max_depth=10, min_samples_leaf=7, min_samples_split=3, n_estimators=50\n",
            "[CV 2/2; 55/100] END max_depth=10, min_samples_leaf=7, min_samples_split=3, n_estimators=50;, score=0.972 total time=  14.0s\n",
            "[CV 1/2; 56/100] START max_depth=5, min_samples_leaf=7, min_samples_split=3, n_estimators=150\n",
            "[CV 1/2; 56/100] END max_depth=5, min_samples_leaf=7, min_samples_split=3, n_estimators=150;, score=0.970 total time=  21.0s\n",
            "[CV 2/2; 56/100] START max_depth=5, min_samples_leaf=7, min_samples_split=3, n_estimators=150\n",
            "[CV 1/2; 57/100] END max_depth=15, min_samples_leaf=7, min_samples_split=3, n_estimators=150;, score=0.969 total time= 1.0min\n",
            "[CV 2/2; 57/100] START max_depth=15, min_samples_leaf=7, min_samples_split=3, n_estimators=150\n",
            "[CV 2/2; 57/100] END max_depth=15, min_samples_leaf=7, min_samples_split=3, n_estimators=150;, score=0.973 total time= 1.0min\n",
            "[CV 1/2; 58/100] START max_depth=10, min_samples_leaf=7, min_samples_split=7, n_estimators=150\n",
            "[CV 1/2; 58/100] END max_depth=10, min_samples_leaf=7, min_samples_split=7, n_estimators=150;, score=0.970 total time=  40.0s\n",
            "[CV 2/2; 58/100] START max_depth=10, min_samples_leaf=7, min_samples_split=7, n_estimators=150\n",
            "[CV 2/2; 58/100] END max_depth=10, min_samples_leaf=7, min_samples_split=7, n_estimators=150;, score=0.972 total time=  41.4s\n",
            "[CV 1/2; 59/100] START max_depth=10, min_samples_leaf=3, min_samples_split=5, n_estimators=100\n",
            "[CV 1/2; 59/100] END max_depth=10, min_samples_leaf=3, min_samples_split=5, n_estimators=100;, score=0.970 total time=  26.6s\n",
            "[CV 2/2; 59/100] START max_depth=10, min_samples_leaf=3, min_samples_split=5, n_estimators=100\n",
            "[CV 2/2; 59/100] END max_depth=10, min_samples_leaf=3, min_samples_split=5, n_estimators=100;, score=0.972 total time=  28.0s\n",
            "[CV 1/2; 60/100] START max_depth=10, min_samples_leaf=7, min_samples_split=3, n_estimators=100\n",
            "[CV 1/2; 60/100] END max_depth=10, min_samples_leaf=7, min_samples_split=3, n_estimators=100;, score=0.969 total time=  26.8s\n",
            "[CV 2/2; 60/100] START max_depth=10, min_samples_leaf=7, min_samples_split=3, n_estimators=100\n",
            "[CV 2/2; 60/100] END max_depth=10, min_samples_leaf=7, min_samples_split=3, n_estimators=100;, score=0.972 total time=  27.9s\n",
            "[CV 1/2; 61/100] START max_depth=10, min_samples_leaf=3, min_samples_split=7, n_estimators=100\n",
            "[CV 1/2; 61/100] END max_depth=10, min_samples_leaf=3, min_samples_split=7, n_estimators=100;, score=0.970 total time=  27.1s\n",
            "[CV 2/2; 61/100] START max_depth=10, min_samples_leaf=3, min_samples_split=7, n_estimators=100\n",
            "[CV 2/2; 61/100] END max_depth=10, min_samples_leaf=3, min_samples_split=7, n_estimators=100;, score=0.972 total time=  27.7s\n",
            "[CV 1/2; 62/100] START max_depth=7, min_samples_leaf=7, min_samples_split=7, n_estimators=100\n",
            "[CV 1/2; 62/100] END max_depth=7, min_samples_leaf=7, min_samples_split=7, n_estimators=100;, score=0.971 total time=  18.9s\n",
            "[CV 2/2; 62/100] START max_depth=7, min_samples_leaf=7, min_samples_split=7, n_estimators=100\n",
            "[CV 2/2; 62/100] END max_depth=7, min_samples_leaf=7, min_samples_split=7, n_estimators=100;, score=0.971 total time=  19.9s\n",
            "[CV 1/2; 63/100] START max_depth=10, min_samples_leaf=5, min_samples_split=7, n_estimators=150\n",
            "[CV 1/2; 63/100] END max_depth=10, min_samples_leaf=5, min_samples_split=7, n_estimators=150;, score=0.968 total time=  39.6s\n",
            "[CV 2/2; 63/100] START max_depth=10, min_samples_leaf=5, min_samples_split=7, n_estimators=150\n",
            "[CV 2/2; 63/100] END max_depth=10, min_samples_leaf=5, min_samples_split=7, n_estimators=150;, score=0.972 total time=  41.1s\n",
            "[CV 1/2; 64/100] START max_depth=10, min_samples_leaf=7, min_samples_split=3, n_estimators=150\n",
            "[CV 1/2; 64/100] END max_depth=10, min_samples_leaf=7, min_samples_split=3, n_estimators=150;, score=0.970 total time=  39.9s\n",
            "[CV 2/2; 64/100] START max_depth=10, min_samples_leaf=7, min_samples_split=3, n_estimators=150\n",
            "[CV 2/2; 64/100] END max_depth=10, min_samples_leaf=7, min_samples_split=3, n_estimators=150;, score=0.972 total time=  41.3s\n",
            "[CV 1/2; 65/100] START max_depth=15, min_samples_leaf=7, min_samples_split=5, n_estimators=50\n",
            "[CV 1/2; 65/100] END max_depth=15, min_samples_leaf=7, min_samples_split=5, n_estimators=50;, score=0.969 total time=  20.4s\n",
            "[CV 2/2; 65/100] START max_depth=15, min_samples_leaf=7, min_samples_split=5, n_estimators=50\n",
            "[CV 2/2; 65/100] END max_depth=15, min_samples_leaf=7, min_samples_split=5, n_estimators=50;, score=0.973 total time=  20.9s\n",
            "[CV 1/2; 66/100] START max_depth=7, min_samples_leaf=7, min_samples_split=7, n_estimators=150\n",
            "[CV 1/2; 66/100] END max_depth=7, min_samples_leaf=7, min_samples_split=7, n_estimators=150;, score=0.971 total time=  27.9s\n",
            "[CV 2/2; 66/100] START max_depth=7, min_samples_leaf=7, min_samples_split=7, n_estimators=150\n",
            "[CV 2/2; 66/100] END max_depth=7, min_samples_leaf=7, min_samples_split=7, n_estimators=150;, score=0.971 total time=  29.4s\n",
            "[CV 1/2; 67/100] START max_depth=10, min_samples_leaf=3, min_samples_split=7, n_estimators=50\n",
            "[CV 1/2; 67/100] END max_depth=10, min_samples_leaf=3, min_samples_split=7, n_estimators=50;, score=0.969 total time=  13.7s\n",
            "[CV 2/2; 67/100] START max_depth=10, min_samples_leaf=3, min_samples_split=7, n_estimators=50\n",
            "[CV 2/2; 67/100] END max_depth=10, min_samples_leaf=3, min_samples_split=7, n_estimators=50;, score=0.972 total time=  14.3s\n",
            "[CV 1/2; 68/100] START max_depth=10, min_samples_leaf=3, min_samples_split=3, n_estimators=50\n",
            "[CV 1/2; 68/100] END max_depth=10, min_samples_leaf=3, min_samples_split=3, n_estimators=50;, score=0.969 total time=  13.7s\n",
            "[CV 2/2; 68/100] START max_depth=10, min_samples_leaf=3, min_samples_split=3, n_estimators=50\n",
            "[CV 2/2; 68/100] END max_depth=10, min_samples_leaf=3, min_samples_split=3, n_estimators=50;, score=0.972 total time=  14.1s\n",
            "[CV 1/2; 69/100] START max_depth=5, min_samples_leaf=3, min_samples_split=5, n_estimators=100\n",
            "[CV 1/2; 69/100] END max_depth=5, min_samples_leaf=3, min_samples_split=5, n_estimators=100;, score=0.970 total time=  14.3s\n",
            "[CV 2/2; 69/100] START max_depth=5, min_samples_leaf=3, min_samples_split=5, n_estimators=100\n",
            "[CV 2/2; 69/100] END max_depth=5, min_samples_leaf=3, min_samples_split=5, n_estimators=100;, score=0.970 total time=  14.8s\n",
            "[CV 1/2; 70/100] START max_depth=10, min_samples_leaf=5, min_samples_split=5, n_estimators=150\n",
            "[CV 1/2; 70/100] END max_depth=10, min_samples_leaf=5, min_samples_split=5, n_estimators=150;, score=0.968 total time=  39.4s\n",
            "[CV 2/2; 70/100] START max_depth=10, min_samples_leaf=5, min_samples_split=5, n_estimators=150\n",
            "[CV 2/2; 70/100] END max_depth=10, min_samples_leaf=5, min_samples_split=5, n_estimators=150;, score=0.972 total time=  41.5s\n",
            "[CV 1/2; 71/100] START max_depth=15, min_samples_leaf=3, min_samples_split=5, n_estimators=150\n",
            "[CV 1/2; 71/100] END max_depth=15, min_samples_leaf=3, min_samples_split=5, n_estimators=150;, score=0.970 total time=  59.8s\n",
            "[CV 2/2; 71/100] START max_depth=15, min_samples_leaf=3, min_samples_split=5, n_estimators=150\n",
            "[CV 2/2; 71/100] END max_depth=15, min_samples_leaf=3, min_samples_split=5, n_estimators=150;, score=0.973 total time= 1.0min\n",
            "[CV 1/2; 72/100] START max_depth=15, min_samples_leaf=3, min_samples_split=3, n_estimators=100\n",
            "[CV 1/2; 72/100] END max_depth=15, min_samples_leaf=3, min_samples_split=3, n_estimators=100;, score=0.969 total time=  40.3s\n",
            "[CV 2/2; 72/100] START max_depth=15, min_samples_leaf=3, min_samples_split=3, n_estimators=100\n",
            "[CV 2/2; 72/100] END max_depth=15, min_samples_leaf=3, min_samples_split=3, n_estimators=100;, score=0.973 total time=  41.2s\n",
            "[CV 1/2; 73/100] START max_depth=5, min_samples_leaf=7, min_samples_split=3, n_estimators=100\n",
            "[CV 1/2; 73/100] END max_depth=5, min_samples_leaf=7, min_samples_split=3, n_estimators=100;, score=0.970 total time=  14.3s\n",
            "[CV 2/2; 73/100] START max_depth=5, min_samples_leaf=7, min_samples_split=3, n_estimators=100\n",
            "[CV 2/2; 73/100] END max_depth=5, min_samples_leaf=7, min_samples_split=3, n_estimators=100;, score=0.970 total time=  14.9s\n",
            "[CV 1/2; 74/100] START max_depth=7, min_samples_leaf=7, min_samples_split=3, n_estimators=50\n",
            "[CV 1/2; 74/100] END max_depth=7, min_samples_leaf=7, min_samples_split=3, n_estimators=50;, score=0.971 total time=   9.8s\n",
            "[CV 2/2; 74/100] START max_depth=7, min_samples_leaf=7, min_samples_split=3, n_estimators=50\n",
            "[CV 2/2; 74/100] END max_depth=7, min_samples_leaf=7, min_samples_split=3, n_estimators=50;, score=0.971 total time=  10.3s\n",
            "[CV 1/2; 75/100] START max_depth=10, min_samples_leaf=3, min_samples_split=3, n_estimators=150\n",
            "[CV 1/2; 75/100] END max_depth=10, min_samples_leaf=3, min_samples_split=3, n_estimators=150;, score=0.971 total time=  39.7s\n",
            "[CV 2/2; 75/100] START max_depth=10, min_samples_leaf=3, min_samples_split=3, n_estimators=150\n",
            "[CV 2/2; 75/100] END max_depth=10, min_samples_leaf=3, min_samples_split=3, n_estimators=150;, score=0.972 total time=  41.5s\n",
            "[CV 1/2; 76/100] START max_depth=5, min_samples_leaf=7, min_samples_split=3, n_estimators=50\n",
            "[CV 1/2; 76/100] END max_depth=5, min_samples_leaf=7, min_samples_split=3, n_estimators=50;, score=0.970 total time=   7.5s\n",
            "[CV 2/2; 76/100] START max_depth=5, min_samples_leaf=7, min_samples_split=3, n_estimators=50\n",
            "[CV 2/2; 76/100] END max_depth=5, min_samples_leaf=7, min_samples_split=3, n_estimators=50;, score=0.970 total time=   7.8s\n",
            "[CV 1/2; 77/100] START max_depth=15, min_samples_leaf=7, min_samples_split=5, n_estimators=100\n",
            "[CV 1/2; 77/100] END max_depth=15, min_samples_leaf=7, min_samples_split=5, n_estimators=100;, score=0.969 total time=  39.8s\n",
            "[CV 2/2; 77/100] START max_depth=15, min_samples_leaf=7, min_samples_split=5, n_estimators=100\n",
            "[CV 2/2; 77/100] END max_depth=15, min_samples_leaf=7, min_samples_split=5, n_estimators=100;, score=0.973 total time=  41.0s\n",
            "[CV 1/2; 78/100] START max_depth=7, min_samples_leaf=3, min_samples_split=3, n_estimators=50\n",
            "[CV 1/2; 78/100] END max_depth=7, min_samples_leaf=3, min_samples_split=3, n_estimators=50;, score=0.971 total time=   9.9s\n",
            "[CV 2/2; 78/100] START max_depth=7, min_samples_leaf=3, min_samples_split=3, n_estimators=50\n",
            "[CV 2/2; 78/100] END max_depth=7, min_samples_leaf=3, min_samples_split=3, n_estimators=50;, score=0.971 total time=  10.1s\n",
            "[CV 1/2; 79/100] START max_depth=15, min_samples_leaf=5, min_samples_split=3, n_estimators=150\n",
            "[CV 1/2; 79/100] END max_depth=15, min_samples_leaf=5, min_samples_split=3, n_estimators=150;, score=0.969 total time=  59.6s\n",
            "[CV 2/2; 79/100] START max_depth=15, min_samples_leaf=5, min_samples_split=3, n_estimators=150\n",
            "[CV 2/2; 79/100] END max_depth=15, min_samples_leaf=5, min_samples_split=3, n_estimators=150;, score=0.973 total time= 1.0min\n",
            "[CV 1/2; 80/100] START max_depth=5, min_samples_leaf=3, min_samples_split=7, n_estimators=50\n",
            "[CV 1/2; 80/100] END max_depth=5, min_samples_leaf=3, min_samples_split=7, n_estimators=50;, score=0.970 total time=   7.4s\n",
            "[CV 2/2; 80/100] START max_depth=5, min_samples_leaf=3, min_samples_split=7, n_estimators=50\n",
            "[CV 2/2; 80/100] END max_depth=5, min_samples_leaf=3, min_samples_split=7, n_estimators=50;, score=0.970 total time=   7.7s\n",
            "[CV 1/2; 81/100] START max_depth=7, min_samples_leaf=5, min_samples_split=3, n_estimators=100\n",
            "[CV 1/2; 81/100] END max_depth=7, min_samples_leaf=5, min_samples_split=3, n_estimators=100;, score=0.971 total time=  18.7s\n",
            "[CV 2/2; 81/100] START max_depth=7, min_samples_leaf=5, min_samples_split=3, n_estimators=100\n",
            "[CV 2/2; 81/100] END max_depth=7, min_samples_leaf=5, min_samples_split=3, n_estimators=100;, score=0.971 total time=  19.7s\n",
            "[CV 1/2; 82/100] START max_depth=15, min_samples_leaf=3, min_samples_split=7, n_estimators=50\n",
            "[CV 1/2; 82/100] END max_depth=15, min_samples_leaf=3, min_samples_split=7, n_estimators=50;, score=0.969 total time=  20.2s\n",
            "[CV 2/2; 82/100] START max_depth=15, min_samples_leaf=3, min_samples_split=7, n_estimators=50\n",
            "[CV 2/2; 82/100] END max_depth=15, min_samples_leaf=3, min_samples_split=7, n_estimators=50;, score=0.973 total time=  20.9s\n",
            "[CV 1/2; 83/100] START max_depth=5, min_samples_leaf=5, min_samples_split=3, n_estimators=150\n",
            "[CV 1/2; 83/100] END max_depth=5, min_samples_leaf=5, min_samples_split=3, n_estimators=150;, score=0.970 total time=  20.6s\n",
            "[CV 2/2; 83/100] START max_depth=5, min_samples_leaf=5, min_samples_split=3, n_estimators=150\n",
            "[CV 2/2; 83/100] END max_depth=5, min_samples_leaf=5, min_samples_split=3, n_estimators=150;, score=0.970 total time=  22.2s\n",
            "[CV 1/2; 84/100] START max_depth=5, min_samples_leaf=5, min_samples_split=7, n_estimators=100\n",
            "[CV 1/2; 84/100] END max_depth=5, min_samples_leaf=5, min_samples_split=7, n_estimators=100;, score=0.970 total time=  14.2s\n",
            "[CV 2/2; 84/100] START max_depth=5, min_samples_leaf=5, min_samples_split=7, n_estimators=100\n",
            "[CV 2/2; 84/100] END max_depth=5, min_samples_leaf=5, min_samples_split=7, n_estimators=100;, score=0.970 total time=  15.0s\n",
            "[CV 1/2; 85/100] START max_depth=10, min_samples_leaf=7, min_samples_split=7, n_estimators=100\n",
            "[CV 1/2; 85/100] END max_depth=10, min_samples_leaf=7, min_samples_split=7, n_estimators=100;, score=0.969 total time=  26.9s\n",
            "[CV 2/2; 85/100] START max_depth=10, min_samples_leaf=7, min_samples_split=7, n_estimators=100\n",
            "[CV 2/2; 85/100] END max_depth=10, min_samples_leaf=7, min_samples_split=7, n_estimators=100;, score=0.972 total time=  27.8s\n",
            "[CV 1/2; 86/100] START max_depth=7, min_samples_leaf=3, min_samples_split=5, n_estimators=100\n",
            "[CV 1/2; 86/100] END max_depth=7, min_samples_leaf=3, min_samples_split=5, n_estimators=100;, score=0.971 total time=  18.6s\n",
            "[CV 2/2; 86/100] START max_depth=7, min_samples_leaf=3, min_samples_split=5, n_estimators=100\n",
            "[CV 2/2; 86/100] END max_depth=7, min_samples_leaf=3, min_samples_split=5, n_estimators=100;, score=0.971 total time=  19.5s\n",
            "[CV 1/2; 87/100] START max_depth=15, min_samples_leaf=3, min_samples_split=7, n_estimators=100\n",
            "[CV 1/2; 87/100] END max_depth=15, min_samples_leaf=3, min_samples_split=7, n_estimators=100;, score=0.969 total time=  40.3s\n",
            "[CV 2/2; 87/100] START max_depth=15, min_samples_leaf=3, min_samples_split=7, n_estimators=100\n",
            "[CV 2/2; 87/100] END max_depth=15, min_samples_leaf=3, min_samples_split=7, n_estimators=100;, score=0.973 total time=  41.4s\n",
            "[CV 1/2; 88/100] START max_depth=10, min_samples_leaf=3, min_samples_split=5, n_estimators=50\n",
            "[CV 1/2; 88/100] END max_depth=10, min_samples_leaf=3, min_samples_split=5, n_estimators=50;, score=0.969 total time=  13.9s\n",
            "[CV 2/2; 88/100] START max_depth=10, min_samples_leaf=3, min_samples_split=5, n_estimators=50\n",
            "[CV 2/2; 88/100] END max_depth=10, min_samples_leaf=3, min_samples_split=5, n_estimators=50;, score=0.972 total time=  14.2s\n",
            "[CV 1/2; 89/100] START max_depth=15, min_samples_leaf=5, min_samples_split=7, n_estimators=50\n",
            "[CV 1/2; 89/100] END max_depth=15, min_samples_leaf=5, min_samples_split=7, n_estimators=50;, score=0.969 total time=  20.2s\n",
            "[CV 2/2; 89/100] START max_depth=15, min_samples_leaf=5, min_samples_split=7, n_estimators=50\n",
            "[CV 2/2; 89/100] END max_depth=15, min_samples_leaf=5, min_samples_split=7, n_estimators=50;, score=0.973 total time=  21.0s\n",
            "[CV 1/2; 90/100] START max_depth=7, min_samples_leaf=7, min_samples_split=3, n_estimators=150\n",
            "[CV 1/2; 90/100] END max_depth=7, min_samples_leaf=7, min_samples_split=3, n_estimators=150;, score=0.971 total time=  28.3s\n",
            "[CV 2/2; 90/100] START max_depth=7, min_samples_leaf=7, min_samples_split=3, n_estimators=150\n",
            "[CV 2/2; 90/100] END max_depth=7, min_samples_leaf=7, min_samples_split=3, n_estimators=150;, score=0.971 total time=  29.5s\n",
            "[CV 1/2; 91/100] START max_depth=15, min_samples_leaf=7, min_samples_split=7, n_estimators=150\n",
            "[CV 1/2; 91/100] END max_depth=15, min_samples_leaf=7, min_samples_split=7, n_estimators=150;, score=0.969 total time= 1.1min\n",
            "[CV 2/2; 91/100] START max_depth=15, min_samples_leaf=7, min_samples_split=7, n_estimators=150\n",
            "[CV 2/2; 91/100] END max_depth=15, min_samples_leaf=7, min_samples_split=7, n_estimators=150;, score=0.973 total time= 1.2min\n",
            "[CV 1/2; 92/100] START max_depth=7, min_samples_leaf=7, min_samples_split=5, n_estimators=150\n",
            "[CV 1/2; 92/100] END max_depth=7, min_samples_leaf=7, min_samples_split=5, n_estimators=150;, score=0.971 total time=  31.0s\n",
            "[CV 2/2; 92/100] START max_depth=7, min_samples_leaf=7, min_samples_split=5, n_estimators=150\n",
            "[CV 2/2; 92/100] END max_depth=7, min_samples_leaf=7, min_samples_split=5, n_estimators=150;, score=0.971 total time=  32.5s\n",
            "[CV 1/2; 93/100] START max_depth=7, min_samples_leaf=5, min_samples_split=7, n_estimators=150\n",
            "[CV 1/2; 93/100] END max_depth=7, min_samples_leaf=5, min_samples_split=7, n_estimators=150;, score=0.971 total time=  29.4s\n",
            "[CV 2/2; 93/100] START max_depth=7, min_samples_leaf=5, min_samples_split=7, n_estimators=150\n",
            "[CV 2/2; 93/100] END max_depth=7, min_samples_leaf=5, min_samples_split=7, n_estimators=150;, score=0.971 total time=  32.9s\n",
            "[CV 1/2; 94/100] START max_depth=10, min_samples_leaf=3, min_samples_split=5, n_estimators=150\n",
            "[CV 1/2; 94/100] END max_depth=10, min_samples_leaf=3, min_samples_split=5, n_estimators=150;, score=0.971 total time=  45.0s\n",
            "[CV 2/2; 94/100] START max_depth=10, min_samples_leaf=3, min_samples_split=5, n_estimators=150\n",
            "[CV 2/2; 94/100] END max_depth=10, min_samples_leaf=3, min_samples_split=5, n_estimators=150;, score=0.972 total time=  45.3s\n",
            "[CV 1/2; 95/100] START max_depth=7, min_samples_leaf=5, min_samples_split=3, n_estimators=150\n",
            "[CV 1/2; 95/100] END max_depth=7, min_samples_leaf=5, min_samples_split=3, n_estimators=150;, score=0.971 total time=  29.1s\n",
            "[CV 2/2; 95/100] START max_depth=7, min_samples_leaf=5, min_samples_split=3, n_estimators=150\n",
            "[CV 2/2; 95/100] END max_depth=7, min_samples_leaf=5, min_samples_split=3, n_estimators=150;, score=0.971 total time=  34.4s\n",
            "[CV 1/2; 96/100] START max_depth=7, min_samples_leaf=7, min_samples_split=5, n_estimators=100\n",
            "[CV 1/2; 96/100] END max_depth=7, min_samples_leaf=7, min_samples_split=5, n_estimators=100;, score=0.971 total time=  21.4s\n",
            "[CV 2/2; 96/100] START max_depth=7, min_samples_leaf=7, min_samples_split=5, n_estimators=100\n",
            "[CV 2/2; 96/100] END max_depth=7, min_samples_leaf=7, min_samples_split=5, n_estimators=100;, score=0.971 total time=  21.3s\n",
            "[CV 1/2; 97/100] START max_depth=15, min_samples_leaf=5, min_samples_split=5, n_estimators=100\n",
            "[CV 1/2; 97/100] END max_depth=15, min_samples_leaf=5, min_samples_split=5, n_estimators=100;, score=0.969 total time=  43.6s\n",
            "[CV 2/2; 97/100] START max_depth=15, min_samples_leaf=5, min_samples_split=5, n_estimators=100\n",
            "[CV 2/2; 97/100] END max_depth=15, min_samples_leaf=5, min_samples_split=5, n_estimators=100;, score=0.973 total time=  45.4s\n",
            "[CV 1/2; 98/100] START max_depth=15, min_samples_leaf=7, min_samples_split=5, n_estimators=150\n",
            "[CV 1/2; 98/100] END max_depth=15, min_samples_leaf=7, min_samples_split=5, n_estimators=150;, score=0.969 total time= 1.1min\n",
            "[CV 2/2; 98/100] START max_depth=15, min_samples_leaf=7, min_samples_split=5, n_estimators=150\n",
            "[CV 2/2; 98/100] END max_depth=15, min_samples_leaf=7, min_samples_split=5, n_estimators=150;, score=0.973 total time= 1.2min\n",
            "[CV 1/2; 99/100] START max_depth=10, min_samples_leaf=5, min_samples_split=7, n_estimators=100\n",
            "[CV 1/2; 99/100] END max_depth=10, min_samples_leaf=5, min_samples_split=7, n_estimators=100;, score=0.968 total time=  28.6s\n",
            "[CV 2/2; 99/100] START max_depth=10, min_samples_leaf=5, min_samples_split=7, n_estimators=100\n",
            "[CV 2/2; 99/100] END max_depth=10, min_samples_leaf=5, min_samples_split=7, n_estimators=100;, score=0.972 total time=  30.5s\n",
            "[CV 1/2; 100/100] START max_depth=5, min_samples_leaf=3, min_samples_split=3, n_estimators=150\n",
            "[CV 1/2; 100/100] END max_depth=5, min_samples_leaf=3, min_samples_split=3, n_estimators=150;, score=0.970 total time=  24.0s\n",
            "[CV 2/2; 100/100] START max_depth=5, min_samples_leaf=3, min_samples_split=3, n_estimators=150\n",
            "[CV 2/2; 100/100] END max_depth=5, min_samples_leaf=3, min_samples_split=3, n_estimators=150;, score=0.970 total time=  23.5s\n",
            "{'n_estimators': 150, 'min_samples_split': 5, 'min_samples_leaf': 3, 'max_depth': 15}\n"
          ]
        },
        {
          "output_type": "error",
          "ename": "NameError",
          "evalue": "ignored",
          "traceback": [
            "\u001b[0;31m---------------------------------------------------------------------------\u001b[0m",
            "\u001b[0;31mNameError\u001b[0m                                 Traceback (most recent call last)",
            "\u001b[0;32m<ipython-input-23-204936014abe>\u001b[0m in \u001b[0;36m<module>\u001b[0;34m()\u001b[0m\n\u001b[1;32m     25\u001b[0m \u001b[0;34m\u001b[0m\u001b[0m\n\u001b[1;32m     26\u001b[0m \u001b[0mresultado\u001b[0m \u001b[0;34m=\u001b[0m \u001b[0;34m{\u001b[0m\u001b[0;34m'n_estimators'\u001b[0m\u001b[0;34m:\u001b[0m \u001b[0;36m100\u001b[0m\u001b[0;34m,\u001b[0m \u001b[0;34m'min_samples_split'\u001b[0m\u001b[0;34m:\u001b[0m \u001b[0;36m5\u001b[0m\u001b[0;34m,\u001b[0m \u001b[0;34m'min_samples_leaf'\u001b[0m\u001b[0;34m:\u001b[0m \u001b[0;36m3\u001b[0m\u001b[0;34m,\u001b[0m \u001b[0;34m'max_depth'\u001b[0m\u001b[0;34m:\u001b[0m \u001b[0;36m7\u001b[0m\u001b[0;34m}\u001b[0m\u001b[0;34m\u001b[0m\u001b[0;34m\u001b[0m\u001b[0m\n\u001b[0;32m---> 27\u001b[0;31m \u001b[0mresultado\u001b[0m \u001b[0;34m=\u001b[0m \u001b[0mrandomSearch\u001b[0m\u001b[0;34m(\u001b[0m\u001b[0mrf_model\u001b[0m\u001b[0;34m)\u001b[0m\u001b[0;34m\u001b[0m\u001b[0;34m\u001b[0m\u001b[0m\n\u001b[0m",
            "\u001b[0;32m<ipython-input-23-204936014abe>\u001b[0m in \u001b[0;36mrandomSearch\u001b[0;34m(modelo, kfold)\u001b[0m\n\u001b[1;32m      9\u001b[0m   \u001b[0mprint\u001b[0m\u001b[0;34m(\u001b[0m\u001b[0msearch\u001b[0m\u001b[0;34m.\u001b[0m\u001b[0mbest_params_\u001b[0m\u001b[0;34m)\u001b[0m\u001b[0;34m\u001b[0m\u001b[0;34m\u001b[0m\u001b[0m\n\u001b[1;32m     10\u001b[0m   \u001b[0mresultado\u001b[0m \u001b[0;34m=\u001b[0m \u001b[0msearch\u001b[0m\u001b[0;34m.\u001b[0m\u001b[0mbest_params_\u001b[0m\u001b[0;34m\u001b[0m\u001b[0;34m\u001b[0m\u001b[0m\n\u001b[0;32m---> 11\u001b[0;31m   \u001b[0mmostrar_mejor_resultado\u001b[0m\u001b[0;34m(\u001b[0m\u001b[0mresultado\u001b[0m\u001b[0;34m)\u001b[0m\u001b[0;34m\u001b[0m\u001b[0;34m\u001b[0m\u001b[0m\n\u001b[0m\u001b[1;32m     12\u001b[0m   \u001b[0;32mreturn\u001b[0m \u001b[0msearch\u001b[0m\u001b[0;34m.\u001b[0m\u001b[0mbest_params_\u001b[0m\u001b[0;34m\u001b[0m\u001b[0;34m\u001b[0m\u001b[0m\n\u001b[1;32m     13\u001b[0m \u001b[0;34m\u001b[0m\u001b[0m\n",
            "\u001b[0;31mNameError\u001b[0m: name 'mostrar_mejor_resultado' is not defined"
          ]
        }
      ]
    },
    {
      "cell_type": "code",
      "metadata": {
        "colab": {
          "base_uri": "https://localhost:8080/",
          "height": 1000
        },
        "id": "Vt10YjfRVHmz",
        "outputId": "cef39ef5-e616-4f3e-a4fb-7797da773686"
      },
      "source": [
        "resultado = {'n_estimators': 150, 'min_samples_split': 5, 'min_samples_leaf': 3, 'max_depth': 15}\n",
        "#obtenido del random search\n",
        "\n",
        "n_estimators_best = resultado['n_estimators']\n",
        "min_samples_split_best = resultado['min_samples_split']\n",
        "min_samples_leaf_best = resultado['min_samples_leaf']\n",
        "max_depth_best= resultado['max_depth']\n",
        "\n",
        "def best_intento():\n",
        "  rf_model_tuneado = RandomForestClassifier(random_state=12, max_depth=7, min_samples_leaf=3, min_samples_split=5,n_estimators=100)\n",
        "  rf_model_tuneado.fit(X_train.values, Y_train.values)\n",
        "  mostrar_metricas(Y_test.values, rf_model_tuneado.predict(X_test.values), rf_model_tuneado.predict_proba(X_test.values)[:,1])\n",
        "  return rf_model_tuneado\n",
        "best_model = best_intento()"
      ],
      "execution_count": 24,
      "outputs": [
        {
          "output_type": "stream",
          "name": "stdout",
          "text": [
            "Reporte de clasificación: \n",
            "               precision    recall  f1-score   support\n",
            "\n",
            "           0       0.97      1.00      0.99    171037\n",
            "           1       0.86      0.21      0.33      6125\n",
            "\n",
            "    accuracy                           0.97    177162\n",
            "   macro avg       0.92      0.60      0.66    177162\n",
            "weighted avg       0.97      0.97      0.96    177162\n",
            "\n",
            "Matriz de confusión: \n",
            " [[170837    200]\n",
            " [  4868   1257]]\n",
            "ROC: \n",
            " 0.8474007254427464\n"
          ]
        },
        {
          "output_type": "display_data",
          "data": {
            "image/png": "[encoded data removed]",
            "text/plain": [
              "<Figure size 2000x1000 with 2 Axes>"
            ]
          },
          "metadata": {}
        }
      ]
    },
    {
      "cell_type": "markdown",
      "metadata": {
        "id": "i-lSLRo9m5OP"
      },
      "source": [
        "# Importancia de los features"
      ]
    },
    {
      "cell_type": "code",
      "metadata": {
        "id": "kTEdOKqB0Up6",
        "colab": {
          "base_uri": "https://localhost:8080/",
          "height": 576
        },
        "outputId": "764a9653-fdc7-4f36-b205-733432f9a729"
      },
      "source": [
        "from matplotlib import pyplot\n",
        "\n",
        "indices = []\n",
        "valores = []\n",
        "promedio = 0\n",
        "importance = best_model.feature_importances_\n",
        "\n",
        "for elemento in importance:\n",
        "\tpromedio += elemento\n",
        "promedio = promedio/len(importance)\n",
        "\n",
        "print(\"El promedio es\", promedio)\n",
        "\n",
        "for i,v in enumerate(importance):\n",
        "\tif abs(v) > promedio: #0.006 \n",
        "\t\tindices.append(X_train.columns[i])\n",
        "\t\tvalores.append(v)\n",
        "\n",
        "\n",
        "df =pd.DataFrame({'indice': indices, 'value': valores})\n",
        "df.set_index('indice',inplace=True)\n",
        "df.plot(kind = 'bar', figsize = (10, 5),  title = \"Features más importantes\")\n",
        "plt.xlabel('Feature', fontsize= 12)\n",
        "plt.ylabel(\"Importancia\", fontsize= 12)"
      ],
      "execution_count": 25,
      "outputs": [
        {
          "output_type": "stream",
          "name": "stdout",
          "text": [
            "El promedio es 0.004385964912280701\n"
          ]
        },
        {
          "output_type": "execute_result",
          "data": {
            "text/plain": [
              "Text(0, 0.5, 'Importancia')"
            ]
          },
          "metadata": {},
          "execution_count": 25
        },
        {
          "output_type": "display_data",
          "data": {
            "image/png": "[encoded data removed]",
            "text/plain": [
              "<Figure size 1000x500 with 1 Axes>"
            ]
          },
          "metadata": {}
        }
      ]
    },
    {
      "cell_type": "code",
      "metadata": {
        "id": "Hdc8tpBn1sht"
      },
      "source": [
        ""
      ],
      "execution_count": null,
      "outputs": []
    }
  ]
}